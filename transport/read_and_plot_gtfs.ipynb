{
 "cells": [
  {
   "cell_type": "code",
   "execution_count": 1,
   "id": "initial_id",
   "metadata": {
    "collapsed": true,
    "ExecuteTime": {
     "end_time": "2023-09-12T19:38:16.588788Z",
     "start_time": "2023-09-12T19:38:16.579741Z"
    }
   },
   "outputs": [
    {
     "name": "stdout",
     "output_type": "stream",
     "text": [
      "hello\n"
     ]
    }
   ],
   "source": [
    "print(\"hello\")"
   ]
  },
  {
   "cell_type": "code",
   "execution_count": 2,
   "outputs": [],
   "source": [
    "import os"
   ],
   "metadata": {
    "collapsed": false,
    "ExecuteTime": {
     "end_time": "2023-09-12T19:38:18.167437Z",
     "start_time": "2023-09-12T19:38:18.146115Z"
    }
   },
   "id": "6339f780fbda7e13"
  },
  {
   "cell_type": "code",
   "execution_count": 3,
   "outputs": [],
   "source": [
    "gtfs_zip_name = \"/Users/alon.gilda/Downloads/gtfs.zip\""
   ],
   "metadata": {
    "collapsed": false,
    "ExecuteTime": {
     "end_time": "2023-09-12T19:38:18.813108Z",
     "start_time": "2023-09-12T19:38:18.786256Z"
    }
   },
   "id": "c1af697d8f502249"
  },
  {
   "cell_type": "code",
   "execution_count": 4,
   "outputs": [
    {
     "data": {
      "text/plain": "'/Users/alon.gilda/Downloads/gtfs.zip'"
     },
     "execution_count": 4,
     "metadata": {},
     "output_type": "execute_result"
    }
   ],
   "source": [
    "gtfs_zip_name"
   ],
   "metadata": {
    "collapsed": false,
    "ExecuteTime": {
     "end_time": "2023-09-12T19:38:19.409578Z",
     "start_time": "2023-09-12T19:38:19.401038Z"
    }
   },
   "id": "400b3859fe34bf4"
  },
  {
   "cell_type": "code",
   "execution_count": 5,
   "outputs": [],
   "source": [
    "from gtfs_functions import Feed"
   ],
   "metadata": {
    "collapsed": false,
    "ExecuteTime": {
     "end_time": "2023-09-12T19:38:21.115686Z",
     "start_time": "2023-09-12T19:38:20.025086Z"
    }
   },
   "id": "feec3132c89bad19"
  },
  {
   "cell_type": "code",
   "execution_count": 6,
   "outputs": [],
   "source": [
    "import gtfs_kit as gk"
   ],
   "metadata": {
    "collapsed": false,
    "ExecuteTime": {
     "end_time": "2023-09-12T19:38:32.940225Z",
     "start_time": "2023-09-12T19:38:32.299155Z"
    }
   },
   "id": "8aafadc3960c48d"
  },
  {
   "cell_type": "code",
   "execution_count": 7,
   "outputs": [
    {
     "data": {
      "text/plain": "      type                                            message  \\\n2    error                                Undefined origin_id   \n3    error                           Undefined destination_id   \n4    error  Invalid route_type; maybe has extra space char...   \n0  warning                                       Feed expired   \n1  warning                      Unrecognized column agency_id   \n5  warning  Repeated pair (route_short_name, route_long_name)   \n7  warning            Repeated pair (trip_id, departure_time)   \n6  warning                             Stop has no stop times   \n\n             table                                               rows  \n2       fare_rules  [187, 268, 644, 918, 956, 1031, 1054, 1146, 11...  \n3       fare_rules  [187, 268, 644, 918, 956, 1031, 1054, 1146, 11...  \n4           routes  [777, 1562, 1563, 1564, 1565, 1566, 1567, 1568...  \n0         calendar                                                 []  \n1  fare_attributes                                                 []  \n5           routes  [6620, 6621, 6622, 6623, 6624, 6625, 6626, 662...  \n7       stop_times  [16328, 16370, 16399, 16430, 16472, 16501, 165...  \n6            stops  [3, 17, 41, 48, 51, 52, 73, 76, 77, 85, 86, 93...  ",
      "text/html": "<div>\n<style scoped>\n    .dataframe tbody tr th:only-of-type {\n        vertical-align: middle;\n    }\n\n    .dataframe tbody tr th {\n        vertical-align: top;\n    }\n\n    .dataframe thead th {\n        text-align: right;\n    }\n</style>\n<table border=\"1\" class=\"dataframe\">\n  <thead>\n    <tr style=\"text-align: right;\">\n      <th></th>\n      <th>type</th>\n      <th>message</th>\n      <th>table</th>\n      <th>rows</th>\n    </tr>\n  </thead>\n  <tbody>\n    <tr>\n      <th>2</th>\n      <td>error</td>\n      <td>Undefined origin_id</td>\n      <td>fare_rules</td>\n      <td>[187, 268, 644, 918, 956, 1031, 1054, 1146, 11...</td>\n    </tr>\n    <tr>\n      <th>3</th>\n      <td>error</td>\n      <td>Undefined destination_id</td>\n      <td>fare_rules</td>\n      <td>[187, 268, 644, 918, 956, 1031, 1054, 1146, 11...</td>\n    </tr>\n    <tr>\n      <th>4</th>\n      <td>error</td>\n      <td>Invalid route_type; maybe has extra space char...</td>\n      <td>routes</td>\n      <td>[777, 1562, 1563, 1564, 1565, 1566, 1567, 1568...</td>\n    </tr>\n    <tr>\n      <th>0</th>\n      <td>warning</td>\n      <td>Feed expired</td>\n      <td>calendar</td>\n      <td>[]</td>\n    </tr>\n    <tr>\n      <th>1</th>\n      <td>warning</td>\n      <td>Unrecognized column agency_id</td>\n      <td>fare_attributes</td>\n      <td>[]</td>\n    </tr>\n    <tr>\n      <th>5</th>\n      <td>warning</td>\n      <td>Repeated pair (route_short_name, route_long_name)</td>\n      <td>routes</td>\n      <td>[6620, 6621, 6622, 6623, 6624, 6625, 6626, 662...</td>\n    </tr>\n    <tr>\n      <th>7</th>\n      <td>warning</td>\n      <td>Repeated pair (trip_id, departure_time)</td>\n      <td>stop_times</td>\n      <td>[16328, 16370, 16399, 16430, 16472, 16501, 165...</td>\n    </tr>\n    <tr>\n      <th>6</th>\n      <td>warning</td>\n      <td>Stop has no stop times</td>\n      <td>stops</td>\n      <td>[3, 17, 41, 48, 51, 52, 73, 76, 77, 85, 86, 93...</td>\n    </tr>\n  </tbody>\n</table>\n</div>"
     },
     "execution_count": 7,
     "metadata": {},
     "output_type": "execute_result"
    }
   ],
   "source": [
    "#Read the feed with gtfs-kit\n",
    "feed = (gk.read_feed(gtfs_zip_name, dist_units='km'))\n",
    "\n",
    "#Search for errors and warnings in the feed\n",
    "feed.validate()"
   ],
   "metadata": {
    "collapsed": false,
    "ExecuteTime": {
     "end_time": "2023-09-12T19:40:40.900789Z",
     "start_time": "2023-09-12T19:38:48.164885Z"
    }
   },
   "id": "f91e2e82414ca55f"
  },
  {
   "cell_type": "code",
   "execution_count": 23,
   "outputs": [
    {
     "data": {
      "text/plain": "       route_id service_id           trip_id            trip_headsign  \\\n0            56        959   49675628_070223  ראשון לציון_תחנה מרכזית   \n1            56        960   49675537_070223  ראשון לציון_תחנה מרכזית   \n2            56        960   49675542_070223  ראשון לציון_תחנה מרכזית   \n3            56        960   49675546_070223  ראשון לציון_תחנה מרכזית   \n4            56        960   49675547_070223  ראשון לציון_תחנה מרכזית   \n...         ...        ...               ...                      ...   \n193236    29603      20003  584732919_070223             מרכזית המפרץ   \n193237    29603      20003  584732936_070223             מרכזית המפרץ   \n193238    29603      20003  584732944_070223             מרכזית המפרץ   \n193239    29603      20003  584732950_070223             מרכזית המפרץ   \n193240    29603      20003  584732951_070223             מרכזית המפרץ   \n\n        direction_id shape_id  \n0                  0   133121  \n1                  0   133121  \n2                  0   133121  \n3                  0   133121  \n4                  0   133121  \n...              ...      ...  \n193236             1   124298  \n193237             1   124298  \n193238             1   124298  \n193239             1   124298  \n193240             1   124298  \n\n[193241 rows x 6 columns]",
      "text/html": "<div>\n<style scoped>\n    .dataframe tbody tr th:only-of-type {\n        vertical-align: middle;\n    }\n\n    .dataframe tbody tr th {\n        vertical-align: top;\n    }\n\n    .dataframe thead th {\n        text-align: right;\n    }\n</style>\n<table border=\"1\" class=\"dataframe\">\n  <thead>\n    <tr style=\"text-align: right;\">\n      <th></th>\n      <th>route_id</th>\n      <th>service_id</th>\n      <th>trip_id</th>\n      <th>trip_headsign</th>\n      <th>direction_id</th>\n      <th>shape_id</th>\n    </tr>\n  </thead>\n  <tbody>\n    <tr>\n      <th>0</th>\n      <td>56</td>\n      <td>959</td>\n      <td>49675628_070223</td>\n      <td>ראשון לציון_תחנה מרכזית</td>\n      <td>0</td>\n      <td>133121</td>\n    </tr>\n    <tr>\n      <th>1</th>\n      <td>56</td>\n      <td>960</td>\n      <td>49675537_070223</td>\n      <td>ראשון לציון_תחנה מרכזית</td>\n      <td>0</td>\n      <td>133121</td>\n    </tr>\n    <tr>\n      <th>2</th>\n      <td>56</td>\n      <td>960</td>\n      <td>49675542_070223</td>\n      <td>ראשון לציון_תחנה מרכזית</td>\n      <td>0</td>\n      <td>133121</td>\n    </tr>\n    <tr>\n      <th>3</th>\n      <td>56</td>\n      <td>960</td>\n      <td>49675546_070223</td>\n      <td>ראשון לציון_תחנה מרכזית</td>\n      <td>0</td>\n      <td>133121</td>\n    </tr>\n    <tr>\n      <th>4</th>\n      <td>56</td>\n      <td>960</td>\n      <td>49675547_070223</td>\n      <td>ראשון לציון_תחנה מרכזית</td>\n      <td>0</td>\n      <td>133121</td>\n    </tr>\n    <tr>\n      <th>...</th>\n      <td>...</td>\n      <td>...</td>\n      <td>...</td>\n      <td>...</td>\n      <td>...</td>\n      <td>...</td>\n    </tr>\n    <tr>\n      <th>193236</th>\n      <td>29603</td>\n      <td>20003</td>\n      <td>584732919_070223</td>\n      <td>מרכזית המפרץ</td>\n      <td>1</td>\n      <td>124298</td>\n    </tr>\n    <tr>\n      <th>193237</th>\n      <td>29603</td>\n      <td>20003</td>\n      <td>584732936_070223</td>\n      <td>מרכזית המפרץ</td>\n      <td>1</td>\n      <td>124298</td>\n    </tr>\n    <tr>\n      <th>193238</th>\n      <td>29603</td>\n      <td>20003</td>\n      <td>584732944_070223</td>\n      <td>מרכזית המפרץ</td>\n      <td>1</td>\n      <td>124298</td>\n    </tr>\n    <tr>\n      <th>193239</th>\n      <td>29603</td>\n      <td>20003</td>\n      <td>584732950_070223</td>\n      <td>מרכזית המפרץ</td>\n      <td>1</td>\n      <td>124298</td>\n    </tr>\n    <tr>\n      <th>193240</th>\n      <td>29603</td>\n      <td>20003</td>\n      <td>584732951_070223</td>\n      <td>מרכזית המפרץ</td>\n      <td>1</td>\n      <td>124298</td>\n    </tr>\n  </tbody>\n</table>\n<p>193241 rows × 6 columns</p>\n</div>"
     },
     "execution_count": 23,
     "metadata": {},
     "output_type": "execute_result"
    }
   ],
   "source": [
    "feed.trips"
   ],
   "metadata": {
    "collapsed": false,
    "ExecuteTime": {
     "end_time": "2023-09-12T20:26:46.609621Z",
     "start_time": "2023-09-12T20:26:46.590190Z"
    }
   },
   "id": "c88ec596ded7067e"
  },
  {
   "cell_type": "code",
   "execution_count": 20,
   "outputs": [
    {
     "ename": "KeyboardInterrupt",
     "evalue": "",
     "output_type": "error",
     "traceback": [
      "\u001B[0;31m---------------------------------------------------------------------------\u001B[0m",
      "\u001B[0;31mKeyboardInterrupt\u001B[0m                         Traceback (most recent call last)",
      "\u001B[0;32m/var/folders/0b/t8rt5b356vx0nj96957ylbxh0000gn/T/ipykernel_14734/440563361.py\u001B[0m in \u001B[0;36m<module>\u001B[0;34m\u001B[0m\n\u001B[0;32m----> 1\u001B[0;31m \u001B[0mfeed\u001B[0m\u001B[0;34m.\u001B[0m\u001B[0mshapes_to_geojson\u001B[0m\u001B[0;34m(\u001B[0m\u001B[0;34m)\u001B[0m\u001B[0;34m\u001B[0m\u001B[0;34m\u001B[0m\u001B[0m\n\u001B[0m",
      "\u001B[0;32m~/opt/anaconda3/lib/python3.9/site-packages/gtfs_kit/shapes.py\u001B[0m in \u001B[0;36mshapes_to_geojson\u001B[0;34m(feed, shape_ids)\u001B[0m\n\u001B[1;32m    179\u001B[0m     \u001B[0mIf\u001B[0m \u001B[0mthe\u001B[0m \u001B[0mFeed\u001B[0m \u001B[0mhas\u001B[0m \u001B[0mno\u001B[0m \u001B[0mshapes\u001B[0m\u001B[0;34m,\u001B[0m \u001B[0mthen\u001B[0m \u001B[0;32mraise\u001B[0m \u001B[0ma\u001B[0m \u001B[0mValueError\u001B[0m\u001B[0;34m.\u001B[0m\u001B[0;34m\u001B[0m\u001B[0;34m\u001B[0m\u001B[0m\n\u001B[1;32m    180\u001B[0m     \"\"\"\n\u001B[0;32m--> 181\u001B[0;31m     \u001B[0mg\u001B[0m \u001B[0;34m=\u001B[0m \u001B[0mgeometrize_shapes\u001B[0m\u001B[0;34m(\u001B[0m\u001B[0mfeed\u001B[0m\u001B[0;34m,\u001B[0m \u001B[0mshape_ids\u001B[0m\u001B[0;34m=\u001B[0m\u001B[0mshape_ids\u001B[0m\u001B[0;34m)\u001B[0m\u001B[0;34m\u001B[0m\u001B[0;34m\u001B[0m\u001B[0m\n\u001B[0m\u001B[1;32m    182\u001B[0m     \u001B[0;32mif\u001B[0m \u001B[0mg\u001B[0m\u001B[0;34m.\u001B[0m\u001B[0mempty\u001B[0m\u001B[0;34m:\u001B[0m\u001B[0;34m\u001B[0m\u001B[0;34m\u001B[0m\u001B[0m\n\u001B[1;32m    183\u001B[0m         result = {\n",
      "\u001B[0;32m~/opt/anaconda3/lib/python3.9/site-packages/gtfs_kit/shapes.py\u001B[0m in \u001B[0;36mgeometrize_shapes\u001B[0;34m(feed, shape_ids, use_utm)\u001B[0m\n\u001B[1;32m    151\u001B[0m         \u001B[0mshapes\u001B[0m \u001B[0;34m=\u001B[0m \u001B[0mfeed\u001B[0m\u001B[0;34m.\u001B[0m\u001B[0mshapes\u001B[0m\u001B[0;34m\u001B[0m\u001B[0;34m\u001B[0m\u001B[0m\n\u001B[1;32m    152\u001B[0m \u001B[0;34m\u001B[0m\u001B[0m\n\u001B[0;32m--> 153\u001B[0;31m     \u001B[0;32mreturn\u001B[0m \u001B[0mgeometrize_shapes_0\u001B[0m\u001B[0;34m(\u001B[0m\u001B[0mshapes\u001B[0m\u001B[0;34m,\u001B[0m \u001B[0muse_utm\u001B[0m\u001B[0;34m=\u001B[0m\u001B[0muse_utm\u001B[0m\u001B[0;34m)\u001B[0m\u001B[0;34m\u001B[0m\u001B[0;34m\u001B[0m\u001B[0m\n\u001B[0m\u001B[1;32m    154\u001B[0m \u001B[0;34m\u001B[0m\u001B[0m\n\u001B[1;32m    155\u001B[0m \u001B[0;34m\u001B[0m\u001B[0m\n",
      "\u001B[0;32m~/opt/anaconda3/lib/python3.9/site-packages/gtfs_kit/shapes.py\u001B[0m in \u001B[0;36mgeometrize_shapes_0\u001B[0;34m(shapes, use_utm)\u001B[0m\n\u001B[1;32m     85\u001B[0m \u001B[0;34m\u001B[0m\u001B[0m\n\u001B[1;32m     86\u001B[0m     g = (\n\u001B[0;32m---> 87\u001B[0;31m         \u001B[0mshapes\u001B[0m\u001B[0;34m.\u001B[0m\u001B[0msort_values\u001B[0m\u001B[0;34m(\u001B[0m\u001B[0;34m[\u001B[0m\u001B[0;34m\"shape_id\"\u001B[0m\u001B[0;34m,\u001B[0m \u001B[0;34m\"shape_pt_sequence\"\u001B[0m\u001B[0;34m]\u001B[0m\u001B[0;34m)\u001B[0m\u001B[0;34m\u001B[0m\u001B[0;34m\u001B[0m\u001B[0m\n\u001B[0m\u001B[1;32m     88\u001B[0m         \u001B[0;34m.\u001B[0m\u001B[0mgroupby\u001B[0m\u001B[0;34m(\u001B[0m\u001B[0;34m\"shape_id\"\u001B[0m\u001B[0;34m,\u001B[0m \u001B[0msort\u001B[0m\u001B[0;34m=\u001B[0m\u001B[0;32mFalse\u001B[0m\u001B[0;34m)\u001B[0m\u001B[0;34m\u001B[0m\u001B[0;34m\u001B[0m\u001B[0m\n\u001B[1;32m     89\u001B[0m         \u001B[0;34m.\u001B[0m\u001B[0mapply\u001B[0m\u001B[0;34m(\u001B[0m\u001B[0mmy_agg\u001B[0m\u001B[0;34m)\u001B[0m\u001B[0;34m\u001B[0m\u001B[0;34m\u001B[0m\u001B[0m\n",
      "\u001B[0;32m~/opt/anaconda3/lib/python3.9/site-packages/pandas/core/groupby/groupby.py\u001B[0m in \u001B[0;36mapply\u001B[0;34m(self, func, *args, **kwargs)\u001B[0m\n\u001B[1;32m   1421\u001B[0m         \u001B[0;32mwith\u001B[0m \u001B[0moption_context\u001B[0m\u001B[0;34m(\u001B[0m\u001B[0;34m\"mode.chained_assignment\"\u001B[0m\u001B[0;34m,\u001B[0m \u001B[0;32mNone\u001B[0m\u001B[0;34m)\u001B[0m\u001B[0;34m:\u001B[0m\u001B[0;34m\u001B[0m\u001B[0;34m\u001B[0m\u001B[0m\n\u001B[1;32m   1422\u001B[0m             \u001B[0;32mtry\u001B[0m\u001B[0;34m:\u001B[0m\u001B[0;34m\u001B[0m\u001B[0;34m\u001B[0m\u001B[0m\n\u001B[0;32m-> 1423\u001B[0;31m                 \u001B[0mresult\u001B[0m \u001B[0;34m=\u001B[0m \u001B[0mself\u001B[0m\u001B[0;34m.\u001B[0m\u001B[0m_python_apply_general\u001B[0m\u001B[0;34m(\u001B[0m\u001B[0mf\u001B[0m\u001B[0;34m,\u001B[0m \u001B[0mself\u001B[0m\u001B[0;34m.\u001B[0m\u001B[0m_selected_obj\u001B[0m\u001B[0;34m)\u001B[0m\u001B[0;34m\u001B[0m\u001B[0;34m\u001B[0m\u001B[0m\n\u001B[0m\u001B[1;32m   1424\u001B[0m             \u001B[0;32mexcept\u001B[0m \u001B[0mTypeError\u001B[0m\u001B[0;34m:\u001B[0m\u001B[0;34m\u001B[0m\u001B[0;34m\u001B[0m\u001B[0m\n\u001B[1;32m   1425\u001B[0m                 \u001B[0;31m# gh-20949\u001B[0m\u001B[0;34m\u001B[0m\u001B[0;34m\u001B[0m\u001B[0m\n",
      "\u001B[0;32m~/opt/anaconda3/lib/python3.9/site-packages/pandas/core/groupby/groupby.py\u001B[0m in \u001B[0;36m_python_apply_general\u001B[0;34m(self, f, data, not_indexed_same)\u001B[0m\n\u001B[1;32m   1462\u001B[0m             \u001B[0mdata\u001B[0m \u001B[0mafter\u001B[0m \u001B[0mapplying\u001B[0m \u001B[0mf\u001B[0m\u001B[0;34m\u001B[0m\u001B[0;34m\u001B[0m\u001B[0m\n\u001B[1;32m   1463\u001B[0m         \"\"\"\n\u001B[0;32m-> 1464\u001B[0;31m         \u001B[0mvalues\u001B[0m\u001B[0;34m,\u001B[0m \u001B[0mmutated\u001B[0m \u001B[0;34m=\u001B[0m \u001B[0mself\u001B[0m\u001B[0;34m.\u001B[0m\u001B[0mgrouper\u001B[0m\u001B[0;34m.\u001B[0m\u001B[0mapply\u001B[0m\u001B[0;34m(\u001B[0m\u001B[0mf\u001B[0m\u001B[0;34m,\u001B[0m \u001B[0mdata\u001B[0m\u001B[0;34m,\u001B[0m \u001B[0mself\u001B[0m\u001B[0;34m.\u001B[0m\u001B[0maxis\u001B[0m\u001B[0;34m)\u001B[0m\u001B[0;34m\u001B[0m\u001B[0;34m\u001B[0m\u001B[0m\n\u001B[0m\u001B[1;32m   1465\u001B[0m \u001B[0;34m\u001B[0m\u001B[0m\n\u001B[1;32m   1466\u001B[0m         \u001B[0;32mif\u001B[0m \u001B[0mnot_indexed_same\u001B[0m \u001B[0;32mis\u001B[0m \u001B[0;32mNone\u001B[0m\u001B[0;34m:\u001B[0m\u001B[0;34m\u001B[0m\u001B[0;34m\u001B[0m\u001B[0m\n",
      "\u001B[0;32m~/opt/anaconda3/lib/python3.9/site-packages/pandas/core/groupby/ops.py\u001B[0m in \u001B[0;36mapply\u001B[0;34m(self, f, data, axis)\u001B[0m\n\u001B[1;32m    759\u001B[0m             \u001B[0;31m# group might be modified\u001B[0m\u001B[0;34m\u001B[0m\u001B[0;34m\u001B[0m\u001B[0m\n\u001B[1;32m    760\u001B[0m             \u001B[0mgroup_axes\u001B[0m \u001B[0;34m=\u001B[0m \u001B[0mgroup\u001B[0m\u001B[0;34m.\u001B[0m\u001B[0maxes\u001B[0m\u001B[0;34m\u001B[0m\u001B[0;34m\u001B[0m\u001B[0m\n\u001B[0;32m--> 761\u001B[0;31m             \u001B[0mres\u001B[0m \u001B[0;34m=\u001B[0m \u001B[0mf\u001B[0m\u001B[0;34m(\u001B[0m\u001B[0mgroup\u001B[0m\u001B[0;34m)\u001B[0m\u001B[0;34m\u001B[0m\u001B[0;34m\u001B[0m\u001B[0m\n\u001B[0m\u001B[1;32m    762\u001B[0m             \u001B[0;32mif\u001B[0m \u001B[0;32mnot\u001B[0m \u001B[0mmutated\u001B[0m \u001B[0;32mand\u001B[0m \u001B[0;32mnot\u001B[0m \u001B[0m_is_indexed_like\u001B[0m\u001B[0;34m(\u001B[0m\u001B[0mres\u001B[0m\u001B[0;34m,\u001B[0m \u001B[0mgroup_axes\u001B[0m\u001B[0;34m,\u001B[0m \u001B[0maxis\u001B[0m\u001B[0;34m)\u001B[0m\u001B[0;34m:\u001B[0m\u001B[0;34m\u001B[0m\u001B[0;34m\u001B[0m\u001B[0m\n\u001B[1;32m    763\u001B[0m                 \u001B[0mmutated\u001B[0m \u001B[0;34m=\u001B[0m \u001B[0;32mTrue\u001B[0m\u001B[0;34m\u001B[0m\u001B[0;34m\u001B[0m\u001B[0m\n",
      "\u001B[0;32m~/opt/anaconda3/lib/python3.9/site-packages/gtfs_kit/shapes.py\u001B[0m in \u001B[0;36mmy_agg\u001B[0;34m(group)\u001B[0m\n\u001B[1;32m     81\u001B[0m     \u001B[0;32mdef\u001B[0m \u001B[0mmy_agg\u001B[0m\u001B[0;34m(\u001B[0m\u001B[0mgroup\u001B[0m\u001B[0;34m)\u001B[0m\u001B[0;34m:\u001B[0m\u001B[0;34m\u001B[0m\u001B[0;34m\u001B[0m\u001B[0m\n\u001B[1;32m     82\u001B[0m         \u001B[0md\u001B[0m \u001B[0;34m=\u001B[0m \u001B[0;34m{\u001B[0m\u001B[0;34m}\u001B[0m\u001B[0;34m\u001B[0m\u001B[0;34m\u001B[0m\u001B[0m\n\u001B[0;32m---> 83\u001B[0;31m         \u001B[0md\u001B[0m\u001B[0;34m[\u001B[0m\u001B[0;34m\"geometry\"\u001B[0m\u001B[0;34m]\u001B[0m \u001B[0;34m=\u001B[0m \u001B[0msg\u001B[0m\u001B[0;34m.\u001B[0m\u001B[0mLineString\u001B[0m\u001B[0;34m(\u001B[0m\u001B[0mgroup\u001B[0m\u001B[0;34m[\u001B[0m\u001B[0;34m[\u001B[0m\u001B[0;34m\"shape_pt_lon\"\u001B[0m\u001B[0;34m,\u001B[0m \u001B[0;34m\"shape_pt_lat\"\u001B[0m\u001B[0;34m]\u001B[0m\u001B[0;34m]\u001B[0m\u001B[0;34m.\u001B[0m\u001B[0mvalues\u001B[0m\u001B[0;34m)\u001B[0m\u001B[0;34m\u001B[0m\u001B[0;34m\u001B[0m\u001B[0m\n\u001B[0m\u001B[1;32m     84\u001B[0m         \u001B[0;32mreturn\u001B[0m \u001B[0mpd\u001B[0m\u001B[0;34m.\u001B[0m\u001B[0mSeries\u001B[0m\u001B[0;34m(\u001B[0m\u001B[0md\u001B[0m\u001B[0;34m)\u001B[0m\u001B[0;34m\u001B[0m\u001B[0;34m\u001B[0m\u001B[0m\n\u001B[1;32m     85\u001B[0m \u001B[0;34m\u001B[0m\u001B[0m\n",
      "\u001B[0;32m~/opt/anaconda3/lib/python3.9/site-packages/pandas/core/frame.py\u001B[0m in \u001B[0;36m__getitem__\u001B[0;34m(self, key)\u001B[0m\n\u001B[1;32m   3509\u001B[0m             \u001B[0;32mif\u001B[0m \u001B[0mis_iterator\u001B[0m\u001B[0;34m(\u001B[0m\u001B[0mkey\u001B[0m\u001B[0;34m)\u001B[0m\u001B[0;34m:\u001B[0m\u001B[0;34m\u001B[0m\u001B[0;34m\u001B[0m\u001B[0m\n\u001B[1;32m   3510\u001B[0m                 \u001B[0mkey\u001B[0m \u001B[0;34m=\u001B[0m \u001B[0mlist\u001B[0m\u001B[0;34m(\u001B[0m\u001B[0mkey\u001B[0m\u001B[0;34m)\u001B[0m\u001B[0;34m\u001B[0m\u001B[0;34m\u001B[0m\u001B[0m\n\u001B[0;32m-> 3511\u001B[0;31m             \u001B[0mindexer\u001B[0m \u001B[0;34m=\u001B[0m \u001B[0mself\u001B[0m\u001B[0;34m.\u001B[0m\u001B[0mcolumns\u001B[0m\u001B[0;34m.\u001B[0m\u001B[0m_get_indexer_strict\u001B[0m\u001B[0;34m(\u001B[0m\u001B[0mkey\u001B[0m\u001B[0;34m,\u001B[0m \u001B[0;34m\"columns\"\u001B[0m\u001B[0;34m)\u001B[0m\u001B[0;34m[\u001B[0m\u001B[0;36m1\u001B[0m\u001B[0;34m]\u001B[0m\u001B[0;34m\u001B[0m\u001B[0;34m\u001B[0m\u001B[0m\n\u001B[0m\u001B[1;32m   3512\u001B[0m \u001B[0;34m\u001B[0m\u001B[0m\n\u001B[1;32m   3513\u001B[0m         \u001B[0;31m# take() does not accept boolean indexers\u001B[0m\u001B[0;34m\u001B[0m\u001B[0;34m\u001B[0m\u001B[0m\n",
      "\u001B[0;32m~/opt/anaconda3/lib/python3.9/site-packages/pandas/core/indexes/base.py\u001B[0m in \u001B[0;36m_get_indexer_strict\u001B[0;34m(self, key, axis_name)\u001B[0m\n\u001B[1;32m   5775\u001B[0m \u001B[0;34m\u001B[0m\u001B[0m\n\u001B[1;32m   5776\u001B[0m         \u001B[0;32mif\u001B[0m \u001B[0mself\u001B[0m\u001B[0;34m.\u001B[0m\u001B[0m_index_as_unique\u001B[0m\u001B[0;34m:\u001B[0m\u001B[0;34m\u001B[0m\u001B[0;34m\u001B[0m\u001B[0m\n\u001B[0;32m-> 5777\u001B[0;31m             \u001B[0mindexer\u001B[0m \u001B[0;34m=\u001B[0m \u001B[0mself\u001B[0m\u001B[0;34m.\u001B[0m\u001B[0mget_indexer_for\u001B[0m\u001B[0;34m(\u001B[0m\u001B[0mkeyarr\u001B[0m\u001B[0;34m)\u001B[0m\u001B[0;34m\u001B[0m\u001B[0;34m\u001B[0m\u001B[0m\n\u001B[0m\u001B[1;32m   5778\u001B[0m             \u001B[0mkeyarr\u001B[0m \u001B[0;34m=\u001B[0m \u001B[0mself\u001B[0m\u001B[0;34m.\u001B[0m\u001B[0mreindex\u001B[0m\u001B[0;34m(\u001B[0m\u001B[0mkeyarr\u001B[0m\u001B[0;34m)\u001B[0m\u001B[0;34m[\u001B[0m\u001B[0;36m0\u001B[0m\u001B[0;34m]\u001B[0m\u001B[0;34m\u001B[0m\u001B[0;34m\u001B[0m\u001B[0m\n\u001B[1;32m   5779\u001B[0m         \u001B[0;32melse\u001B[0m\u001B[0;34m:\u001B[0m\u001B[0;34m\u001B[0m\u001B[0;34m\u001B[0m\u001B[0m\n",
      "\u001B[0;32m~/opt/anaconda3/lib/python3.9/site-packages/pandas/core/indexes/base.py\u001B[0m in \u001B[0;36mget_indexer_for\u001B[0;34m(self, target)\u001B[0m\n\u001B[1;32m   5762\u001B[0m         \"\"\"\n\u001B[1;32m   5763\u001B[0m         \u001B[0;32mif\u001B[0m \u001B[0mself\u001B[0m\u001B[0;34m.\u001B[0m\u001B[0m_index_as_unique\u001B[0m\u001B[0;34m:\u001B[0m\u001B[0;34m\u001B[0m\u001B[0;34m\u001B[0m\u001B[0m\n\u001B[0;32m-> 5764\u001B[0;31m             \u001B[0;32mreturn\u001B[0m \u001B[0mself\u001B[0m\u001B[0;34m.\u001B[0m\u001B[0mget_indexer\u001B[0m\u001B[0;34m(\u001B[0m\u001B[0mtarget\u001B[0m\u001B[0;34m)\u001B[0m\u001B[0;34m\u001B[0m\u001B[0;34m\u001B[0m\u001B[0m\n\u001B[0m\u001B[1;32m   5765\u001B[0m         \u001B[0mindexer\u001B[0m\u001B[0;34m,\u001B[0m \u001B[0m_\u001B[0m \u001B[0;34m=\u001B[0m \u001B[0mself\u001B[0m\u001B[0;34m.\u001B[0m\u001B[0mget_indexer_non_unique\u001B[0m\u001B[0;34m(\u001B[0m\u001B[0mtarget\u001B[0m\u001B[0;34m)\u001B[0m\u001B[0;34m\u001B[0m\u001B[0;34m\u001B[0m\u001B[0m\n\u001B[1;32m   5766\u001B[0m         \u001B[0;32mreturn\u001B[0m \u001B[0mindexer\u001B[0m\u001B[0;34m\u001B[0m\u001B[0;34m\u001B[0m\u001B[0m\n",
      "\u001B[0;32m~/opt/anaconda3/lib/python3.9/site-packages/pandas/core/indexes/base.py\u001B[0m in \u001B[0;36mget_indexer\u001B[0;34m(self, target, method, limit, tolerance)\u001B[0m\n\u001B[1;32m   3714\u001B[0m     ) -> npt.NDArray[np.intp]:\n\u001B[1;32m   3715\u001B[0m         \u001B[0mmethod\u001B[0m \u001B[0;34m=\u001B[0m \u001B[0mmissing\u001B[0m\u001B[0;34m.\u001B[0m\u001B[0mclean_reindex_fill_method\u001B[0m\u001B[0;34m(\u001B[0m\u001B[0mmethod\u001B[0m\u001B[0;34m)\u001B[0m\u001B[0;34m\u001B[0m\u001B[0;34m\u001B[0m\u001B[0m\n\u001B[0;32m-> 3716\u001B[0;31m         \u001B[0mtarget\u001B[0m \u001B[0;34m=\u001B[0m \u001B[0mself\u001B[0m\u001B[0;34m.\u001B[0m\u001B[0m_maybe_cast_listlike_indexer\u001B[0m\u001B[0;34m(\u001B[0m\u001B[0mtarget\u001B[0m\u001B[0;34m)\u001B[0m\u001B[0;34m\u001B[0m\u001B[0;34m\u001B[0m\u001B[0m\n\u001B[0m\u001B[1;32m   3717\u001B[0m \u001B[0;34m\u001B[0m\u001B[0m\n\u001B[1;32m   3718\u001B[0m         \u001B[0mself\u001B[0m\u001B[0;34m.\u001B[0m\u001B[0m_check_indexing_method\u001B[0m\u001B[0;34m(\u001B[0m\u001B[0mmethod\u001B[0m\u001B[0;34m,\u001B[0m \u001B[0mlimit\u001B[0m\u001B[0;34m,\u001B[0m \u001B[0mtolerance\u001B[0m\u001B[0;34m)\u001B[0m\u001B[0;34m\u001B[0m\u001B[0;34m\u001B[0m\u001B[0m\n",
      "\u001B[0;32m~/opt/anaconda3/lib/python3.9/site-packages/pandas/core/indexes/base.py\u001B[0m in \u001B[0;36m_maybe_cast_listlike_indexer\u001B[0;34m(self, target)\u001B[0m\n\u001B[1;32m   6295\u001B[0m         \u001B[0mAnalogue\u001B[0m \u001B[0mto\u001B[0m \u001B[0mmaybe_cast_indexer\u001B[0m \u001B[0;32mfor\u001B[0m \u001B[0mget_indexer\u001B[0m \u001B[0minstead\u001B[0m \u001B[0mof\u001B[0m \u001B[0mget_loc\u001B[0m\u001B[0;34m.\u001B[0m\u001B[0;34m\u001B[0m\u001B[0;34m\u001B[0m\u001B[0m\n\u001B[1;32m   6296\u001B[0m         \"\"\"\n\u001B[0;32m-> 6297\u001B[0;31m         \u001B[0;32mreturn\u001B[0m \u001B[0mensure_index\u001B[0m\u001B[0;34m(\u001B[0m\u001B[0mtarget\u001B[0m\u001B[0;34m)\u001B[0m\u001B[0;34m\u001B[0m\u001B[0;34m\u001B[0m\u001B[0m\n\u001B[0m\u001B[1;32m   6298\u001B[0m \u001B[0;34m\u001B[0m\u001B[0m\n\u001B[1;32m   6299\u001B[0m     \u001B[0;34m@\u001B[0m\u001B[0mfinal\u001B[0m\u001B[0;34m\u001B[0m\u001B[0;34m\u001B[0m\u001B[0m\n",
      "\u001B[0;32m~/opt/anaconda3/lib/python3.9/site-packages/pandas/core/indexes/base.py\u001B[0m in \u001B[0;36mensure_index\u001B[0;34m(index_like, copy)\u001B[0m\n\u001B[1;32m   7041\u001B[0m             \u001B[0;32mreturn\u001B[0m \u001B[0mIndex\u001B[0m\u001B[0;34m.\u001B[0m\u001B[0m_with_infer\u001B[0m\u001B[0;34m(\u001B[0m\u001B[0mindex_like\u001B[0m\u001B[0;34m,\u001B[0m \u001B[0mcopy\u001B[0m\u001B[0;34m=\u001B[0m\u001B[0mcopy\u001B[0m\u001B[0;34m,\u001B[0m \u001B[0mtupleize_cols\u001B[0m\u001B[0;34m=\u001B[0m\u001B[0;32mFalse\u001B[0m\u001B[0;34m)\u001B[0m\u001B[0;34m\u001B[0m\u001B[0;34m\u001B[0m\u001B[0m\n\u001B[1;32m   7042\u001B[0m     \u001B[0;32melse\u001B[0m\u001B[0;34m:\u001B[0m\u001B[0;34m\u001B[0m\u001B[0;34m\u001B[0m\u001B[0m\n\u001B[0;32m-> 7043\u001B[0;31m         \u001B[0;32mreturn\u001B[0m \u001B[0mIndex\u001B[0m\u001B[0;34m.\u001B[0m\u001B[0m_with_infer\u001B[0m\u001B[0;34m(\u001B[0m\u001B[0mindex_like\u001B[0m\u001B[0;34m,\u001B[0m \u001B[0mcopy\u001B[0m\u001B[0;34m=\u001B[0m\u001B[0mcopy\u001B[0m\u001B[0;34m)\u001B[0m\u001B[0;34m\u001B[0m\u001B[0;34m\u001B[0m\u001B[0m\n\u001B[0m\u001B[1;32m   7044\u001B[0m \u001B[0;34m\u001B[0m\u001B[0m\n\u001B[1;32m   7045\u001B[0m \u001B[0;34m\u001B[0m\u001B[0m\n",
      "\u001B[0;32m~/opt/anaconda3/lib/python3.9/site-packages/pandas/core/indexes/base.py\u001B[0m in \u001B[0;36m_with_infer\u001B[0;34m(cls, *args, **kwargs)\u001B[0m\n\u001B[1;32m    684\u001B[0m             \u001B[0;31m# \"Union[ExtensionArray, ndarray[Any, Any]]\"; expected\u001B[0m\u001B[0;34m\u001B[0m\u001B[0;34m\u001B[0m\u001B[0m\n\u001B[1;32m    685\u001B[0m             \u001B[0;31m# \"ndarray[Any, Any]\"\u001B[0m\u001B[0;34m\u001B[0m\u001B[0;34m\u001B[0m\u001B[0m\n\u001B[0;32m--> 686\u001B[0;31m             \u001B[0mvalues\u001B[0m \u001B[0;34m=\u001B[0m \u001B[0mlib\u001B[0m\u001B[0;34m.\u001B[0m\u001B[0mmaybe_convert_objects\u001B[0m\u001B[0;34m(\u001B[0m\u001B[0mresult\u001B[0m\u001B[0;34m.\u001B[0m\u001B[0m_values\u001B[0m\u001B[0;34m)\u001B[0m  \u001B[0;31m# type: ignore[arg-type]\u001B[0m\u001B[0;34m\u001B[0m\u001B[0;34m\u001B[0m\u001B[0m\n\u001B[0m\u001B[1;32m    687\u001B[0m             \u001B[0;32mif\u001B[0m \u001B[0mvalues\u001B[0m\u001B[0;34m.\u001B[0m\u001B[0mdtype\u001B[0m\u001B[0;34m.\u001B[0m\u001B[0mkind\u001B[0m \u001B[0;32min\u001B[0m \u001B[0;34m[\u001B[0m\u001B[0;34m\"i\"\u001B[0m\u001B[0;34m,\u001B[0m \u001B[0;34m\"u\"\u001B[0m\u001B[0;34m,\u001B[0m \u001B[0;34m\"f\"\u001B[0m\u001B[0;34m]\u001B[0m\u001B[0;34m:\u001B[0m\u001B[0;34m\u001B[0m\u001B[0;34m\u001B[0m\u001B[0m\n\u001B[1;32m    688\u001B[0m                 \u001B[0;32mreturn\u001B[0m \u001B[0mIndex\u001B[0m\u001B[0;34m(\u001B[0m\u001B[0mvalues\u001B[0m\u001B[0;34m,\u001B[0m \u001B[0mname\u001B[0m\u001B[0;34m=\u001B[0m\u001B[0mresult\u001B[0m\u001B[0;34m.\u001B[0m\u001B[0mname\u001B[0m\u001B[0;34m)\u001B[0m\u001B[0;34m\u001B[0m\u001B[0;34m\u001B[0m\u001B[0m\n",
      "\u001B[0;32m~/opt/anaconda3/lib/python3.9/site-packages/pandas/_libs/lib.pyx\u001B[0m in \u001B[0;36mpandas._libs.lib.maybe_convert_objects\u001B[0;34m()\u001B[0m\n",
      "\u001B[0;32m~/opt/anaconda3/lib/python3.9/site-packages/numpy/core/numeric.py\u001B[0m in \u001B[0;36mfull\u001B[0;34m(shape, fill_value, dtype, order, like)\u001B[0m\n\u001B[1;32m    342\u001B[0m         \u001B[0mdtype\u001B[0m \u001B[0;34m=\u001B[0m \u001B[0mfill_value\u001B[0m\u001B[0;34m.\u001B[0m\u001B[0mdtype\u001B[0m\u001B[0;34m\u001B[0m\u001B[0;34m\u001B[0m\u001B[0m\n\u001B[1;32m    343\u001B[0m     \u001B[0ma\u001B[0m \u001B[0;34m=\u001B[0m \u001B[0mempty\u001B[0m\u001B[0;34m(\u001B[0m\u001B[0mshape\u001B[0m\u001B[0;34m,\u001B[0m \u001B[0mdtype\u001B[0m\u001B[0;34m,\u001B[0m \u001B[0morder\u001B[0m\u001B[0;34m)\u001B[0m\u001B[0;34m\u001B[0m\u001B[0;34m\u001B[0m\u001B[0m\n\u001B[0;32m--> 344\u001B[0;31m     \u001B[0mmultiarray\u001B[0m\u001B[0;34m.\u001B[0m\u001B[0mcopyto\u001B[0m\u001B[0;34m(\u001B[0m\u001B[0ma\u001B[0m\u001B[0;34m,\u001B[0m \u001B[0mfill_value\u001B[0m\u001B[0;34m,\u001B[0m \u001B[0mcasting\u001B[0m\u001B[0;34m=\u001B[0m\u001B[0;34m'unsafe'\u001B[0m\u001B[0;34m)\u001B[0m\u001B[0;34m\u001B[0m\u001B[0;34m\u001B[0m\u001B[0m\n\u001B[0m\u001B[1;32m    345\u001B[0m     \u001B[0;32mreturn\u001B[0m \u001B[0ma\u001B[0m\u001B[0;34m\u001B[0m\u001B[0;34m\u001B[0m\u001B[0m\n\u001B[1;32m    346\u001B[0m \u001B[0;34m\u001B[0m\u001B[0m\n",
      "\u001B[0;32m~/opt/anaconda3/lib/python3.9/site-packages/numpy/core/overrides.py\u001B[0m in \u001B[0;36mcopyto\u001B[0;34m(*args, **kwargs)\u001B[0m\n",
      "\u001B[0;31mKeyboardInterrupt\u001B[0m: "
     ]
    }
   ],
   "source": [
    "feed.shapes_to_geojson()"
   ],
   "metadata": {
    "collapsed": false,
    "ExecuteTime": {
     "end_time": "2023-09-12T19:53:46.775036Z",
     "start_time": "2023-09-12T19:53:34.564948Z"
    }
   },
   "id": "2d650461cff33d5"
  },
  {
   "cell_type": "code",
   "execution_count": 16,
   "outputs": [
    {
     "ename": "KeyboardInterrupt",
     "evalue": "",
     "output_type": "error",
     "traceback": [
      "\u001B[0;31m---------------------------------------------------------------------------\u001B[0m",
      "\u001B[0;31mKeyboardInterrupt\u001B[0m                         Traceback (most recent call last)",
      "\u001B[0;32m/var/folders/0b/t8rt5b356vx0nj96957ylbxh0000gn/T/ipykernel_14734/25491326.py\u001B[0m in \u001B[0;36m<module>\u001B[0;34m\u001B[0m\n\u001B[0;32m----> 1\u001B[0;31m \u001B[0mfeed\u001B[0m\u001B[0;34m.\u001B[0m\u001B[0mmap_routes\u001B[0m\u001B[0;34m(\u001B[0m\u001B[0mfeed\u001B[0m\u001B[0;34m.\u001B[0m\u001B[0mroutes\u001B[0m\u001B[0;34m.\u001B[0m\u001B[0mroute_id\u001B[0m\u001B[0;34m.\u001B[0m\u001B[0miloc\u001B[0m\u001B[0;34m[\u001B[0m\u001B[0;34m:\u001B[0m\u001B[0;34m]\u001B[0m\u001B[0;34m,\u001B[0m \u001B[0minclude_stops\u001B[0m\u001B[0;34m=\u001B[0m\u001B[0;32mFalse\u001B[0m\u001B[0;34m)\u001B[0m\u001B[0;34m\u001B[0m\u001B[0;34m\u001B[0m\u001B[0m\n\u001B[0m\u001B[1;32m      2\u001B[0m \u001B[0;34m\u001B[0m\u001B[0m\n",
      "\u001B[0;32m~/opt/anaconda3/lib/python3.9/site-packages/gtfs_kit/routes.py\u001B[0m in \u001B[0;36mmap_routes\u001B[0;34m(feed, route_ids, color_palette, include_stops)\u001B[0m\n\u001B[1;32m    810\u001B[0m     \u001B[0;31m# Create a feature group for each route and add it to the map\u001B[0m\u001B[0;34m\u001B[0m\u001B[0;34m\u001B[0m\u001B[0m\n\u001B[1;32m    811\u001B[0m     \u001B[0;32mfor\u001B[0m \u001B[0mi\u001B[0m\u001B[0;34m,\u001B[0m \u001B[0mroute_id\u001B[0m \u001B[0;32min\u001B[0m \u001B[0menumerate\u001B[0m\u001B[0;34m(\u001B[0m\u001B[0mroute_ids\u001B[0m\u001B[0;34m)\u001B[0m\u001B[0;34m:\u001B[0m\u001B[0;34m\u001B[0m\u001B[0;34m\u001B[0m\u001B[0m\n\u001B[0;32m--> 812\u001B[0;31m         collection = feed.routes_to_geojson(\n\u001B[0m\u001B[1;32m    813\u001B[0m             \u001B[0mroute_ids\u001B[0m\u001B[0;34m=\u001B[0m\u001B[0;34m[\u001B[0m\u001B[0mroute_id\u001B[0m\u001B[0;34m]\u001B[0m\u001B[0;34m,\u001B[0m \u001B[0minclude_stops\u001B[0m\u001B[0;34m=\u001B[0m\u001B[0minclude_stops\u001B[0m\u001B[0;34m\u001B[0m\u001B[0;34m\u001B[0m\u001B[0m\n\u001B[1;32m    814\u001B[0m         )\n",
      "\u001B[0;32m~/opt/anaconda3/lib/python3.9/site-packages/gtfs_kit/routes.py\u001B[0m in \u001B[0;36mroutes_to_geojson\u001B[0;34m(feed, route_ids, split_directions, include_stops)\u001B[0m\n\u001B[1;32m    766\u001B[0m \u001B[0;34m\u001B[0m\u001B[0m\n\u001B[1;32m    767\u001B[0m     \u001B[0;31m# Get routes\u001B[0m\u001B[0;34m\u001B[0m\u001B[0;34m\u001B[0m\u001B[0m\n\u001B[0;32m--> 768\u001B[0;31m     \u001B[0mg\u001B[0m \u001B[0;34m=\u001B[0m \u001B[0mgeometrize_routes\u001B[0m\u001B[0;34m(\u001B[0m\u001B[0mfeed\u001B[0m\u001B[0;34m,\u001B[0m \u001B[0mroute_ids\u001B[0m\u001B[0;34m=\u001B[0m\u001B[0mroute_ids\u001B[0m\u001B[0;34m,\u001B[0m \u001B[0msplit_directions\u001B[0m\u001B[0;34m=\u001B[0m\u001B[0msplit_directions\u001B[0m\u001B[0;34m)\u001B[0m\u001B[0;34m\u001B[0m\u001B[0;34m\u001B[0m\u001B[0m\n\u001B[0m\u001B[1;32m    769\u001B[0m     \u001B[0mcollection\u001B[0m \u001B[0;34m=\u001B[0m \u001B[0mjson\u001B[0m\u001B[0;34m.\u001B[0m\u001B[0mloads\u001B[0m\u001B[0;34m(\u001B[0m\u001B[0mg\u001B[0m\u001B[0;34m.\u001B[0m\u001B[0mto_json\u001B[0m\u001B[0;34m(\u001B[0m\u001B[0;34m)\u001B[0m\u001B[0;34m)\u001B[0m\u001B[0;34m\u001B[0m\u001B[0;34m\u001B[0m\u001B[0m\n\u001B[1;32m    770\u001B[0m \u001B[0;34m\u001B[0m\u001B[0m\n",
      "\u001B[0;32m~/opt/anaconda3/lib/python3.9/site-packages/gtfs_kit/routes.py\u001B[0m in \u001B[0;36mgeometrize_routes\u001B[0;34m(feed, route_ids, use_utm, split_directions)\u001B[0m\n\u001B[1;32m    730\u001B[0m \u001B[0;34m\u001B[0m\u001B[0m\n\u001B[1;32m    731\u001B[0m     return (\n\u001B[0;32m--> 732\u001B[0;31m         \u001B[0mfeed\u001B[0m\u001B[0;34m.\u001B[0m\u001B[0mgeometrize_trips\u001B[0m\u001B[0;34m(\u001B[0m\u001B[0mtrip_ids\u001B[0m\u001B[0;34m,\u001B[0m \u001B[0muse_utm\u001B[0m\u001B[0;34m=\u001B[0m\u001B[0muse_utm\u001B[0m\u001B[0;34m)\u001B[0m\u001B[0;34m\u001B[0m\u001B[0;34m\u001B[0m\u001B[0m\n\u001B[0m\u001B[1;32m    733\u001B[0m         \u001B[0;34m.\u001B[0m\u001B[0mfilter\u001B[0m\u001B[0;34m(\u001B[0m\u001B[0;34m[\u001B[0m\u001B[0;34m\"route_id\"\u001B[0m\u001B[0;34m,\u001B[0m \u001B[0;34m\"direction_id\"\u001B[0m\u001B[0;34m,\u001B[0m \u001B[0;34m\"geometry\"\u001B[0m\u001B[0;34m]\u001B[0m\u001B[0;34m)\u001B[0m\u001B[0;34m\u001B[0m\u001B[0;34m\u001B[0m\u001B[0m\n\u001B[1;32m    734\u001B[0m         \u001B[0;34m.\u001B[0m\u001B[0mgroupby\u001B[0m\u001B[0;34m(\u001B[0m\u001B[0mgroupby_cols\u001B[0m\u001B[0;34m)\u001B[0m\u001B[0;34m\u001B[0m\u001B[0;34m\u001B[0m\u001B[0m\n",
      "\u001B[0;32m~/opt/anaconda3/lib/python3.9/site-packages/gtfs_kit/trips.py\u001B[0m in \u001B[0;36mgeometrize_trips\u001B[0;34m(feed, trip_ids, use_utm)\u001B[0m\n\u001B[1;32m    441\u001B[0m \u001B[0;34m\u001B[0m\u001B[0m\n\u001B[1;32m    442\u001B[0m     return (\n\u001B[0;32m--> 443\u001B[0;31m         \u001B[0mfeed\u001B[0m\u001B[0;34m.\u001B[0m\u001B[0mgeometrize_shapes\u001B[0m\u001B[0;34m(\u001B[0m\u001B[0mshape_ids\u001B[0m\u001B[0;34m=\u001B[0m\u001B[0mtrips\u001B[0m\u001B[0;34m.\u001B[0m\u001B[0mshape_id\u001B[0m\u001B[0;34m.\u001B[0m\u001B[0mtolist\u001B[0m\u001B[0;34m(\u001B[0m\u001B[0;34m)\u001B[0m\u001B[0;34m,\u001B[0m \u001B[0muse_utm\u001B[0m\u001B[0;34m=\u001B[0m\u001B[0muse_utm\u001B[0m\u001B[0;34m)\u001B[0m\u001B[0;34m\u001B[0m\u001B[0;34m\u001B[0m\u001B[0m\n\u001B[0m\u001B[1;32m    444\u001B[0m         \u001B[0;34m.\u001B[0m\u001B[0mfilter\u001B[0m\u001B[0;34m(\u001B[0m\u001B[0;34m[\u001B[0m\u001B[0;34m\"shape_id\"\u001B[0m\u001B[0;34m,\u001B[0m \u001B[0;34m\"geometry\"\u001B[0m\u001B[0;34m]\u001B[0m\u001B[0;34m)\u001B[0m\u001B[0;34m\u001B[0m\u001B[0;34m\u001B[0m\u001B[0m\n\u001B[1;32m    445\u001B[0m         \u001B[0;34m.\u001B[0m\u001B[0mmerge\u001B[0m\u001B[0;34m(\u001B[0m\u001B[0mtrips\u001B[0m\u001B[0;34m,\u001B[0m \u001B[0mhow\u001B[0m\u001B[0;34m=\u001B[0m\u001B[0;34m\"left\"\u001B[0m\u001B[0;34m)\u001B[0m\u001B[0;34m\u001B[0m\u001B[0;34m\u001B[0m\u001B[0m\n",
      "\u001B[0;32m~/opt/anaconda3/lib/python3.9/site-packages/gtfs_kit/shapes.py\u001B[0m in \u001B[0;36mgeometrize_shapes\u001B[0;34m(feed, shape_ids, use_utm)\u001B[0m\n\u001B[1;32m    147\u001B[0m \u001B[0;34m\u001B[0m\u001B[0m\n\u001B[1;32m    148\u001B[0m     \u001B[0;32mif\u001B[0m \u001B[0mshape_ids\u001B[0m \u001B[0;32mis\u001B[0m \u001B[0;32mnot\u001B[0m \u001B[0;32mNone\u001B[0m\u001B[0;34m:\u001B[0m\u001B[0;34m\u001B[0m\u001B[0;34m\u001B[0m\u001B[0m\n\u001B[0;32m--> 149\u001B[0;31m         \u001B[0mshapes\u001B[0m \u001B[0;34m=\u001B[0m \u001B[0mfeed\u001B[0m\u001B[0;34m.\u001B[0m\u001B[0mshapes\u001B[0m\u001B[0;34m.\u001B[0m\u001B[0mloc\u001B[0m\u001B[0;34m[\u001B[0m\u001B[0;32mlambda\u001B[0m \u001B[0mx\u001B[0m\u001B[0;34m:\u001B[0m \u001B[0mx\u001B[0m\u001B[0;34m.\u001B[0m\u001B[0mshape_id\u001B[0m\u001B[0;34m.\u001B[0m\u001B[0misin\u001B[0m\u001B[0;34m(\u001B[0m\u001B[0mshape_ids\u001B[0m\u001B[0;34m)\u001B[0m\u001B[0;34m]\u001B[0m\u001B[0;34m\u001B[0m\u001B[0;34m\u001B[0m\u001B[0m\n\u001B[0m\u001B[1;32m    150\u001B[0m     \u001B[0;32melse\u001B[0m\u001B[0;34m:\u001B[0m\u001B[0;34m\u001B[0m\u001B[0;34m\u001B[0m\u001B[0m\n\u001B[1;32m    151\u001B[0m         \u001B[0mshapes\u001B[0m \u001B[0;34m=\u001B[0m \u001B[0mfeed\u001B[0m\u001B[0;34m.\u001B[0m\u001B[0mshapes\u001B[0m\u001B[0;34m\u001B[0m\u001B[0;34m\u001B[0m\u001B[0m\n",
      "\u001B[0;32m~/opt/anaconda3/lib/python3.9/site-packages/pandas/core/indexing.py\u001B[0m in \u001B[0;36m__getitem__\u001B[0;34m(self, key)\u001B[0m\n\u001B[1;32m    964\u001B[0m             \u001B[0maxis\u001B[0m \u001B[0;34m=\u001B[0m \u001B[0mself\u001B[0m\u001B[0;34m.\u001B[0m\u001B[0maxis\u001B[0m \u001B[0;32mor\u001B[0m \u001B[0;36m0\u001B[0m\u001B[0;34m\u001B[0m\u001B[0;34m\u001B[0m\u001B[0m\n\u001B[1;32m    965\u001B[0m \u001B[0;34m\u001B[0m\u001B[0m\n\u001B[0;32m--> 966\u001B[0;31m             \u001B[0mmaybe_callable\u001B[0m \u001B[0;34m=\u001B[0m \u001B[0mcom\u001B[0m\u001B[0;34m.\u001B[0m\u001B[0mapply_if_callable\u001B[0m\u001B[0;34m(\u001B[0m\u001B[0mkey\u001B[0m\u001B[0;34m,\u001B[0m \u001B[0mself\u001B[0m\u001B[0;34m.\u001B[0m\u001B[0mobj\u001B[0m\u001B[0;34m)\u001B[0m\u001B[0;34m\u001B[0m\u001B[0;34m\u001B[0m\u001B[0m\n\u001B[0m\u001B[1;32m    967\u001B[0m             \u001B[0;32mreturn\u001B[0m \u001B[0mself\u001B[0m\u001B[0;34m.\u001B[0m\u001B[0m_getitem_axis\u001B[0m\u001B[0;34m(\u001B[0m\u001B[0mmaybe_callable\u001B[0m\u001B[0;34m,\u001B[0m \u001B[0maxis\u001B[0m\u001B[0;34m=\u001B[0m\u001B[0maxis\u001B[0m\u001B[0;34m)\u001B[0m\u001B[0;34m\u001B[0m\u001B[0;34m\u001B[0m\u001B[0m\n\u001B[1;32m    968\u001B[0m \u001B[0;34m\u001B[0m\u001B[0m\n",
      "\u001B[0;32m~/opt/anaconda3/lib/python3.9/site-packages/pandas/core/common.py\u001B[0m in \u001B[0;36mapply_if_callable\u001B[0;34m(maybe_callable, obj, **kwargs)\u001B[0m\n\u001B[1;32m    356\u001B[0m     \"\"\"\n\u001B[1;32m    357\u001B[0m     \u001B[0;32mif\u001B[0m \u001B[0mcallable\u001B[0m\u001B[0;34m(\u001B[0m\u001B[0mmaybe_callable\u001B[0m\u001B[0;34m)\u001B[0m\u001B[0;34m:\u001B[0m\u001B[0;34m\u001B[0m\u001B[0;34m\u001B[0m\u001B[0m\n\u001B[0;32m--> 358\u001B[0;31m         \u001B[0;32mreturn\u001B[0m \u001B[0mmaybe_callable\u001B[0m\u001B[0;34m(\u001B[0m\u001B[0mobj\u001B[0m\u001B[0;34m,\u001B[0m \u001B[0;34m**\u001B[0m\u001B[0mkwargs\u001B[0m\u001B[0;34m)\u001B[0m\u001B[0;34m\u001B[0m\u001B[0;34m\u001B[0m\u001B[0m\n\u001B[0m\u001B[1;32m    359\u001B[0m \u001B[0;34m\u001B[0m\u001B[0m\n\u001B[1;32m    360\u001B[0m     \u001B[0;32mreturn\u001B[0m \u001B[0mmaybe_callable\u001B[0m\u001B[0;34m\u001B[0m\u001B[0;34m\u001B[0m\u001B[0m\n",
      "\u001B[0;32m~/opt/anaconda3/lib/python3.9/site-packages/gtfs_kit/shapes.py\u001B[0m in \u001B[0;36m<lambda>\u001B[0;34m(x)\u001B[0m\n\u001B[1;32m    147\u001B[0m \u001B[0;34m\u001B[0m\u001B[0m\n\u001B[1;32m    148\u001B[0m     \u001B[0;32mif\u001B[0m \u001B[0mshape_ids\u001B[0m \u001B[0;32mis\u001B[0m \u001B[0;32mnot\u001B[0m \u001B[0;32mNone\u001B[0m\u001B[0;34m:\u001B[0m\u001B[0;34m\u001B[0m\u001B[0;34m\u001B[0m\u001B[0m\n\u001B[0;32m--> 149\u001B[0;31m         \u001B[0mshapes\u001B[0m \u001B[0;34m=\u001B[0m \u001B[0mfeed\u001B[0m\u001B[0;34m.\u001B[0m\u001B[0mshapes\u001B[0m\u001B[0;34m.\u001B[0m\u001B[0mloc\u001B[0m\u001B[0;34m[\u001B[0m\u001B[0;32mlambda\u001B[0m \u001B[0mx\u001B[0m\u001B[0;34m:\u001B[0m \u001B[0mx\u001B[0m\u001B[0;34m.\u001B[0m\u001B[0mshape_id\u001B[0m\u001B[0;34m.\u001B[0m\u001B[0misin\u001B[0m\u001B[0;34m(\u001B[0m\u001B[0mshape_ids\u001B[0m\u001B[0;34m)\u001B[0m\u001B[0;34m]\u001B[0m\u001B[0;34m\u001B[0m\u001B[0;34m\u001B[0m\u001B[0m\n\u001B[0m\u001B[1;32m    150\u001B[0m     \u001B[0;32melse\u001B[0m\u001B[0;34m:\u001B[0m\u001B[0;34m\u001B[0m\u001B[0;34m\u001B[0m\u001B[0m\n\u001B[1;32m    151\u001B[0m         \u001B[0mshapes\u001B[0m \u001B[0;34m=\u001B[0m \u001B[0mfeed\u001B[0m\u001B[0;34m.\u001B[0m\u001B[0mshapes\u001B[0m\u001B[0;34m\u001B[0m\u001B[0;34m\u001B[0m\u001B[0m\n",
      "\u001B[0;32m~/opt/anaconda3/lib/python3.9/site-packages/pandas/core/series.py\u001B[0m in \u001B[0;36misin\u001B[0;34m(self, values)\u001B[0m\n\u001B[1;32m   5139\u001B[0m         \u001B[0mdtype\u001B[0m\u001B[0;34m:\u001B[0m \u001B[0mbool\u001B[0m\u001B[0;34m\u001B[0m\u001B[0;34m\u001B[0m\u001B[0m\n\u001B[1;32m   5140\u001B[0m         \"\"\"\n\u001B[0;32m-> 5141\u001B[0;31m         \u001B[0mresult\u001B[0m \u001B[0;34m=\u001B[0m \u001B[0malgorithms\u001B[0m\u001B[0;34m.\u001B[0m\u001B[0misin\u001B[0m\u001B[0;34m(\u001B[0m\u001B[0mself\u001B[0m\u001B[0;34m.\u001B[0m\u001B[0m_values\u001B[0m\u001B[0;34m,\u001B[0m \u001B[0mvalues\u001B[0m\u001B[0;34m)\u001B[0m\u001B[0;34m\u001B[0m\u001B[0;34m\u001B[0m\u001B[0m\n\u001B[0m\u001B[1;32m   5142\u001B[0m         return self._constructor(result, index=self.index).__finalize__(\n\u001B[1;32m   5143\u001B[0m             \u001B[0mself\u001B[0m\u001B[0;34m,\u001B[0m \u001B[0mmethod\u001B[0m\u001B[0;34m=\u001B[0m\u001B[0;34m\"isin\"\u001B[0m\u001B[0;34m\u001B[0m\u001B[0;34m\u001B[0m\u001B[0m\n",
      "\u001B[0;32m~/opt/anaconda3/lib/python3.9/site-packages/pandas/core/algorithms.py\u001B[0m in \u001B[0;36misin\u001B[0;34m(comps, values)\u001B[0m\n\u001B[1;32m    519\u001B[0m         \u001B[0mf\u001B[0m \u001B[0;34m=\u001B[0m \u001B[0mhtable\u001B[0m\u001B[0;34m.\u001B[0m\u001B[0mismember\u001B[0m\u001B[0;34m\u001B[0m\u001B[0;34m\u001B[0m\u001B[0m\n\u001B[1;32m    520\u001B[0m \u001B[0;34m\u001B[0m\u001B[0m\n\u001B[0;32m--> 521\u001B[0;31m     \u001B[0;32mreturn\u001B[0m \u001B[0mf\u001B[0m\u001B[0;34m(\u001B[0m\u001B[0mcomps\u001B[0m\u001B[0;34m,\u001B[0m \u001B[0mvalues\u001B[0m\u001B[0;34m)\u001B[0m\u001B[0;34m\u001B[0m\u001B[0;34m\u001B[0m\u001B[0m\n\u001B[0m\u001B[1;32m    522\u001B[0m \u001B[0;34m\u001B[0m\u001B[0m\n\u001B[1;32m    523\u001B[0m \u001B[0;34m\u001B[0m\u001B[0m\n",
      "\u001B[0;31mKeyboardInterrupt\u001B[0m: "
     ]
    }
   ],
   "source": [
    "feed.map_routes(feed.routes.route_id.iloc[:], include_stops=False)\n"
   ],
   "metadata": {
    "collapsed": false,
    "ExecuteTime": {
     "end_time": "2023-09-12T19:52:28.025102Z",
     "start_time": "2023-09-12T19:45:08.250280Z"
    }
   },
   "id": "167affd2865fbd74"
  },
  {
   "cell_type": "code",
   "execution_count": null,
   "outputs": [],
   "source": [
    "feed.map_stops(feed.stops.stop_id[:])\n"
   ],
   "metadata": {
    "collapsed": false,
    "ExecuteTime": {
     "end_time": "2023-09-12T19:52:28.041491Z",
     "start_time": "2023-09-12T19:52:28.039516Z"
    }
   },
   "id": "5270f9305a8f9d"
  },
  {
   "cell_type": "code",
   "execution_count": null,
   "outputs": [],
   "source": [],
   "metadata": {
    "collapsed": false
   },
   "id": "a1590b4458e724ef"
  },
  {
   "cell_type": "code",
   "execution_count": null,
   "outputs": [],
   "source": [],
   "metadata": {
    "collapsed": false
   },
   "id": "8c90fe21436ebc74"
  },
  {
   "cell_type": "code",
   "execution_count": null,
   "outputs": [],
   "source": [],
   "metadata": {
    "collapsed": false
   },
   "id": "187245505e50ebdd"
  },
  {
   "cell_type": "code",
   "execution_count": 24,
   "outputs": [],
   "source": [
    "\n",
    "feed = Feed(gtfs_zip_name)\n"
   ],
   "metadata": {
    "collapsed": false,
    "ExecuteTime": {
     "end_time": "2023-09-12T18:55:47.017615Z",
     "start_time": "2023-09-12T18:55:47.006313Z"
    }
   },
   "id": "90ae491398f650a5"
  },
  {
   "cell_type": "code",
   "execution_count": 25,
   "outputs": [
    {
     "data": {
      "text/plain": "<gtfs_functions.gtfs_functions.Feed at 0x7faed7ab9520>"
     },
     "execution_count": 25,
     "metadata": {},
     "output_type": "execute_result"
    }
   ],
   "source": [
    "feed"
   ],
   "metadata": {
    "collapsed": false,
    "ExecuteTime": {
     "end_time": "2023-09-12T18:55:47.949834Z",
     "start_time": "2023-09-12T18:55:47.939494Z"
    }
   },
   "id": "fd5b5a0ca3bb64c"
  },
  {
   "cell_type": "code",
   "execution_count": 46,
   "outputs": [
    {
     "data": {
      "text/plain": "     route_id agency_id route_short_name  \\\n990      4134         3              123   \n991      4135         3              123   \n2711    11289         3              123   \n2886    11657         3              123   \n2887    11658         3              123   \n\n                                        route_long_name route_desc  \\\n990   ת. מרכזית חוף הכרמל/רציפים עירוני-חיפה<->ת. מר...  10123-1-#   \n991   ת. מרכזית המפרץ/רציפים עירוני-חיפה<->ת. מרכזית...  10123-2-#   \n2711  דרך הדשנים/צומת קרית אתא-חיפה<->ת. מרכזית חוף ...  10123-2-ב   \n2886  ת. מרכזית חוף הכרמל/רציפים עירוני-חיפה<->יוסף ...  10123-1-ד   \n2887  דנינו /יוסף לוי מגדל אור-חיפה<->ת. מרכזית חוף ...  10123-2-ד   \n\n      route_type route_color  \n990            3         NaN  \n991            3         NaN  \n2711           3         NaN  \n2886           3         NaN  \n2887           3         NaN  ",
      "text/html": "<div>\n<style scoped>\n    .dataframe tbody tr th:only-of-type {\n        vertical-align: middle;\n    }\n\n    .dataframe tbody tr th {\n        vertical-align: top;\n    }\n\n    .dataframe thead th {\n        text-align: right;\n    }\n</style>\n<table border=\"1\" class=\"dataframe\">\n  <thead>\n    <tr style=\"text-align: right;\">\n      <th></th>\n      <th>route_id</th>\n      <th>agency_id</th>\n      <th>route_short_name</th>\n      <th>route_long_name</th>\n      <th>route_desc</th>\n      <th>route_type</th>\n      <th>route_color</th>\n    </tr>\n  </thead>\n  <tbody>\n    <tr>\n      <th>990</th>\n      <td>4134</td>\n      <td>3</td>\n      <td>123</td>\n      <td>ת. מרכזית חוף הכרמל/רציפים עירוני-חיפה&lt;-&gt;ת. מר...</td>\n      <td>10123-1-#</td>\n      <td>3</td>\n      <td>NaN</td>\n    </tr>\n    <tr>\n      <th>991</th>\n      <td>4135</td>\n      <td>3</td>\n      <td>123</td>\n      <td>ת. מרכזית המפרץ/רציפים עירוני-חיפה&lt;-&gt;ת. מרכזית...</td>\n      <td>10123-2-#</td>\n      <td>3</td>\n      <td>NaN</td>\n    </tr>\n    <tr>\n      <th>2711</th>\n      <td>11289</td>\n      <td>3</td>\n      <td>123</td>\n      <td>דרך הדשנים/צומת קרית אתא-חיפה&lt;-&gt;ת. מרכזית חוף ...</td>\n      <td>10123-2-ב</td>\n      <td>3</td>\n      <td>NaN</td>\n    </tr>\n    <tr>\n      <th>2886</th>\n      <td>11657</td>\n      <td>3</td>\n      <td>123</td>\n      <td>ת. מרכזית חוף הכרמל/רציפים עירוני-חיפה&lt;-&gt;יוסף ...</td>\n      <td>10123-1-ד</td>\n      <td>3</td>\n      <td>NaN</td>\n    </tr>\n    <tr>\n      <th>2887</th>\n      <td>11658</td>\n      <td>3</td>\n      <td>123</td>\n      <td>דנינו /יוסף לוי מגדל אור-חיפה&lt;-&gt;ת. מרכזית חוף ...</td>\n      <td>10123-2-ד</td>\n      <td>3</td>\n      <td>NaN</td>\n    </tr>\n  </tbody>\n</table>\n</div>"
     },
     "execution_count": 46,
     "metadata": {},
     "output_type": "execute_result"
    }
   ],
   "source": [
    "routes[(routes.route_short_name == '123') & (routes.agency_id == '3')]\n"
   ],
   "metadata": {
    "collapsed": false,
    "ExecuteTime": {
     "end_time": "2023-09-12T20:41:29.885334Z",
     "start_time": "2023-09-12T20:41:29.864820Z"
    }
   },
   "id": "899ad674bfafffc6"
  },
  {
   "cell_type": "code",
   "execution_count": 47,
   "outputs": [
    {
     "data": {
      "text/plain": "    route_id agency_id route_short_name  \\\n991     4135         3              123   \n\n                                       route_long_name route_desc  route_type  \\\n991  ת. מרכזית המפרץ/רציפים עירוני-חיפה<->ת. מרכזית...  10123-2-#           3   \n\n    route_color  \n991         NaN  ",
      "text/html": "<div>\n<style scoped>\n    .dataframe tbody tr th:only-of-type {\n        vertical-align: middle;\n    }\n\n    .dataframe tbody tr th {\n        vertical-align: top;\n    }\n\n    .dataframe thead th {\n        text-align: right;\n    }\n</style>\n<table border=\"1\" class=\"dataframe\">\n  <thead>\n    <tr style=\"text-align: right;\">\n      <th></th>\n      <th>route_id</th>\n      <th>agency_id</th>\n      <th>route_short_name</th>\n      <th>route_long_name</th>\n      <th>route_desc</th>\n      <th>route_type</th>\n      <th>route_color</th>\n    </tr>\n  </thead>\n  <tbody>\n    <tr>\n      <th>991</th>\n      <td>4135</td>\n      <td>3</td>\n      <td>123</td>\n      <td>ת. מרכזית המפרץ/רציפים עירוני-חיפה&lt;-&gt;ת. מרכזית...</td>\n      <td>10123-2-#</td>\n      <td>3</td>\n      <td>NaN</td>\n    </tr>\n  </tbody>\n</table>\n</div>"
     },
     "execution_count": 47,
     "metadata": {},
     "output_type": "execute_result"
    }
   ],
   "source": [
    "routes[routes.route_desc == '10123-2-#']"
   ],
   "metadata": {
    "collapsed": false,
    "ExecuteTime": {
     "end_time": "2023-09-12T20:42:08.077183Z",
     "start_time": "2023-09-12T20:42:08.054230Z"
    }
   },
   "id": "bdbd2fc2f84293bf"
  },
  {
   "cell_type": "code",
   "execution_count": 52,
   "outputs": [],
   "source": [
    "all_123_routes = trips[trips.route_id == \"4135\"]"
   ],
   "metadata": {
    "collapsed": false,
    "ExecuteTime": {
     "end_time": "2023-09-12T21:04:52.275674Z",
     "start_time": "2023-09-12T21:04:52.211036Z"
    }
   },
   "id": "90dfb5cd80deeead"
  },
  {
   "cell_type": "code",
   "execution_count": 36,
   "outputs": [
    {
     "data": {
      "text/plain": "                trip_id arrival_time departure_time stop_id  stop_sequence  \\\n0              1_070223     05:10:00       05:10:00   38725              1   \n1              1_070223     05:12:23       05:12:23   15582              2   \n2              1_070223     05:13:20       05:13:20   15583              3   \n3              1_070223     05:14:31       05:14:31   16086              4   \n4              1_070223     05:15:09       05:15:09   16085              5   \n...                 ...          ...            ...     ...            ...   \n7010843  9999194_080223     20:19:45       20:19:45    9272             47   \n7010844  9999194_080223     20:20:59       20:20:59   11495             48   \n7010845  9999194_080223     20:21:59       20:21:59    9550             49   \n7010846  9999194_080223     20:22:36       20:22:36   10483             50   \n7010847  9999194_080223     20:23:01       20:23:01   11809             51   \n\n         pickup_type  drop_off_type  shape_dist_traveled  \n0                  0              1                  0.0  \n1                  0              0                714.0  \n2                  0              0               1215.0  \n3                  0              0               1791.0  \n4                  0              0               2152.0  \n...              ...            ...                  ...  \n7010843            0              0              12667.0  \n7010844            0              0              12971.0  \n7010845            0              0              13238.0  \n7010846            0              0              13396.0  \n7010847            1              0              13598.0  \n\n[7010848 rows x 8 columns]",
      "text/html": "<div>\n<style scoped>\n    .dataframe tbody tr th:only-of-type {\n        vertical-align: middle;\n    }\n\n    .dataframe tbody tr th {\n        vertical-align: top;\n    }\n\n    .dataframe thead th {\n        text-align: right;\n    }\n</style>\n<table border=\"1\" class=\"dataframe\">\n  <thead>\n    <tr style=\"text-align: right;\">\n      <th></th>\n      <th>trip_id</th>\n      <th>arrival_time</th>\n      <th>departure_time</th>\n      <th>stop_id</th>\n      <th>stop_sequence</th>\n      <th>pickup_type</th>\n      <th>drop_off_type</th>\n      <th>shape_dist_traveled</th>\n    </tr>\n  </thead>\n  <tbody>\n    <tr>\n      <th>0</th>\n      <td>1_070223</td>\n      <td>05:10:00</td>\n      <td>05:10:00</td>\n      <td>38725</td>\n      <td>1</td>\n      <td>0</td>\n      <td>1</td>\n      <td>0.0</td>\n    </tr>\n    <tr>\n      <th>1</th>\n      <td>1_070223</td>\n      <td>05:12:23</td>\n      <td>05:12:23</td>\n      <td>15582</td>\n      <td>2</td>\n      <td>0</td>\n      <td>0</td>\n      <td>714.0</td>\n    </tr>\n    <tr>\n      <th>2</th>\n      <td>1_070223</td>\n      <td>05:13:20</td>\n      <td>05:13:20</td>\n      <td>15583</td>\n      <td>3</td>\n      <td>0</td>\n      <td>0</td>\n      <td>1215.0</td>\n    </tr>\n    <tr>\n      <th>3</th>\n      <td>1_070223</td>\n      <td>05:14:31</td>\n      <td>05:14:31</td>\n      <td>16086</td>\n      <td>4</td>\n      <td>0</td>\n      <td>0</td>\n      <td>1791.0</td>\n    </tr>\n    <tr>\n      <th>4</th>\n      <td>1_070223</td>\n      <td>05:15:09</td>\n      <td>05:15:09</td>\n      <td>16085</td>\n      <td>5</td>\n      <td>0</td>\n      <td>0</td>\n      <td>2152.0</td>\n    </tr>\n    <tr>\n      <th>...</th>\n      <td>...</td>\n      <td>...</td>\n      <td>...</td>\n      <td>...</td>\n      <td>...</td>\n      <td>...</td>\n      <td>...</td>\n      <td>...</td>\n    </tr>\n    <tr>\n      <th>7010843</th>\n      <td>9999194_080223</td>\n      <td>20:19:45</td>\n      <td>20:19:45</td>\n      <td>9272</td>\n      <td>47</td>\n      <td>0</td>\n      <td>0</td>\n      <td>12667.0</td>\n    </tr>\n    <tr>\n      <th>7010844</th>\n      <td>9999194_080223</td>\n      <td>20:20:59</td>\n      <td>20:20:59</td>\n      <td>11495</td>\n      <td>48</td>\n      <td>0</td>\n      <td>0</td>\n      <td>12971.0</td>\n    </tr>\n    <tr>\n      <th>7010845</th>\n      <td>9999194_080223</td>\n      <td>20:21:59</td>\n      <td>20:21:59</td>\n      <td>9550</td>\n      <td>49</td>\n      <td>0</td>\n      <td>0</td>\n      <td>13238.0</td>\n    </tr>\n    <tr>\n      <th>7010846</th>\n      <td>9999194_080223</td>\n      <td>20:22:36</td>\n      <td>20:22:36</td>\n      <td>10483</td>\n      <td>50</td>\n      <td>0</td>\n      <td>0</td>\n      <td>13396.0</td>\n    </tr>\n    <tr>\n      <th>7010847</th>\n      <td>9999194_080223</td>\n      <td>20:23:01</td>\n      <td>20:23:01</td>\n      <td>11809</td>\n      <td>51</td>\n      <td>1</td>\n      <td>0</td>\n      <td>13598.0</td>\n    </tr>\n  </tbody>\n</table>\n<p>7010848 rows × 8 columns</p>\n</div>"
     },
     "execution_count": 36,
     "metadata": {},
     "output_type": "execute_result"
    }
   ],
   "source": [
    "stop_times"
   ],
   "metadata": {
    "collapsed": false,
    "ExecuteTime": {
     "end_time": "2023-09-12T20:34:24.966590Z",
     "start_time": "2023-09-12T20:34:24.954400Z"
    }
   },
   "id": "3690c617535031b0"
  },
  {
   "cell_type": "code",
   "execution_count": 53,
   "outputs": [],
   "source": [
    "import pandas as pd"
   ],
   "metadata": {
    "collapsed": false,
    "ExecuteTime": {
     "end_time": "2023-09-12T21:05:28.179410Z",
     "start_time": "2023-09-12T21:05:28.148679Z"
    }
   },
   "id": "97a4d6eeb8bc14c9"
  },
  {
   "cell_type": "code",
   "execution_count": 54,
   "outputs": [],
   "source": [
    "all_stops = pd.merge(stop_times, all_123_routes, on = \"trip_id\", how = \"inner\")"
   ],
   "metadata": {
    "collapsed": false,
    "ExecuteTime": {
     "end_time": "2023-09-12T21:05:42.209064Z",
     "start_time": "2023-09-12T21:05:41.935155Z"
    }
   },
   "id": "55752690b16591aa"
  },
  {
   "cell_type": "code",
   "execution_count": 55,
   "outputs": [
    {
     "data": {
      "text/plain": "              trip_id arrival_time departure_time stop_id  stop_sequence  \\\n0     12302548_070223     09:20:00       09:20:00   48020              1   \n1     12302548_070223     09:24:59       09:24:59   17505              2   \n2     12302548_070223     09:26:59       09:26:59    2143              3   \n3     12302548_070223     09:30:59       09:30:59    3490              4   \n4     12302548_070223     09:31:59       09:31:59    2158              5   \n...               ...          ...            ...     ...            ...   \n3775   8548918_070223     14:53:15       14:53:15    3690             31   \n3776   8548918_070223     14:54:59       14:54:59    3372             32   \n3777   8548918_070223     14:56:43       14:56:43    3521             33   \n3778   8548918_070223     14:57:09       14:57:09    3367             34   \n3779   8548918_070223     14:58:08       14:58:08    3522             35   \n\n      pickup_type  drop_off_type  shape_dist_traveled route_id service_id  \\\n0               0              1                  0.0     4135       5585   \n1               0              0               1200.0     4135       5585   \n2               0              0               2175.0     4135       5585   \n3               0              0               4368.0     4135       5585   \n4               0              0               4652.0     4135       5585   \n...           ...            ...                  ...      ...        ...   \n3775            0              0              16396.0     4135       5585   \n3776            0              0              17014.0     4135       5585   \n3777            0              0              17378.0     4135       5585   \n3778            0              0              17683.0     4135       5585   \n3779            1              0              18154.0     4135       5585   \n\n         trip_headsign  direction_id shape_id  \n0     מרכזית חוף הכרמל             1    96534  \n1     מרכזית חוף הכרמל             1    96534  \n2     מרכזית חוף הכרמל             1    96534  \n3     מרכזית חוף הכרמל             1    96534  \n4     מרכזית חוף הכרמל             1    96534  \n...                ...           ...      ...  \n3775  מרכזית חוף הכרמל             1    96534  \n3776  מרכזית חוף הכרמל             1    96534  \n3777  מרכזית חוף הכרמל             1    96534  \n3778  מרכזית חוף הכרמל             1    96534  \n3779  מרכזית חוף הכרמל             1    96534  \n\n[3780 rows x 13 columns]",
      "text/html": "<div>\n<style scoped>\n    .dataframe tbody tr th:only-of-type {\n        vertical-align: middle;\n    }\n\n    .dataframe tbody tr th {\n        vertical-align: top;\n    }\n\n    .dataframe thead th {\n        text-align: right;\n    }\n</style>\n<table border=\"1\" class=\"dataframe\">\n  <thead>\n    <tr style=\"text-align: right;\">\n      <th></th>\n      <th>trip_id</th>\n      <th>arrival_time</th>\n      <th>departure_time</th>\n      <th>stop_id</th>\n      <th>stop_sequence</th>\n      <th>pickup_type</th>\n      <th>drop_off_type</th>\n      <th>shape_dist_traveled</th>\n      <th>route_id</th>\n      <th>service_id</th>\n      <th>trip_headsign</th>\n      <th>direction_id</th>\n      <th>shape_id</th>\n    </tr>\n  </thead>\n  <tbody>\n    <tr>\n      <th>0</th>\n      <td>12302548_070223</td>\n      <td>09:20:00</td>\n      <td>09:20:00</td>\n      <td>48020</td>\n      <td>1</td>\n      <td>0</td>\n      <td>1</td>\n      <td>0.0</td>\n      <td>4135</td>\n      <td>5585</td>\n      <td>מרכזית חוף הכרמל</td>\n      <td>1</td>\n      <td>96534</td>\n    </tr>\n    <tr>\n      <th>1</th>\n      <td>12302548_070223</td>\n      <td>09:24:59</td>\n      <td>09:24:59</td>\n      <td>17505</td>\n      <td>2</td>\n      <td>0</td>\n      <td>0</td>\n      <td>1200.0</td>\n      <td>4135</td>\n      <td>5585</td>\n      <td>מרכזית חוף הכרמל</td>\n      <td>1</td>\n      <td>96534</td>\n    </tr>\n    <tr>\n      <th>2</th>\n      <td>12302548_070223</td>\n      <td>09:26:59</td>\n      <td>09:26:59</td>\n      <td>2143</td>\n      <td>3</td>\n      <td>0</td>\n      <td>0</td>\n      <td>2175.0</td>\n      <td>4135</td>\n      <td>5585</td>\n      <td>מרכזית חוף הכרמל</td>\n      <td>1</td>\n      <td>96534</td>\n    </tr>\n    <tr>\n      <th>3</th>\n      <td>12302548_070223</td>\n      <td>09:30:59</td>\n      <td>09:30:59</td>\n      <td>3490</td>\n      <td>4</td>\n      <td>0</td>\n      <td>0</td>\n      <td>4368.0</td>\n      <td>4135</td>\n      <td>5585</td>\n      <td>מרכזית חוף הכרמל</td>\n      <td>1</td>\n      <td>96534</td>\n    </tr>\n    <tr>\n      <th>4</th>\n      <td>12302548_070223</td>\n      <td>09:31:59</td>\n      <td>09:31:59</td>\n      <td>2158</td>\n      <td>5</td>\n      <td>0</td>\n      <td>0</td>\n      <td>4652.0</td>\n      <td>4135</td>\n      <td>5585</td>\n      <td>מרכזית חוף הכרמל</td>\n      <td>1</td>\n      <td>96534</td>\n    </tr>\n    <tr>\n      <th>...</th>\n      <td>...</td>\n      <td>...</td>\n      <td>...</td>\n      <td>...</td>\n      <td>...</td>\n      <td>...</td>\n      <td>...</td>\n      <td>...</td>\n      <td>...</td>\n      <td>...</td>\n      <td>...</td>\n      <td>...</td>\n      <td>...</td>\n    </tr>\n    <tr>\n      <th>3775</th>\n      <td>8548918_070223</td>\n      <td>14:53:15</td>\n      <td>14:53:15</td>\n      <td>3690</td>\n      <td>31</td>\n      <td>0</td>\n      <td>0</td>\n      <td>16396.0</td>\n      <td>4135</td>\n      <td>5585</td>\n      <td>מרכזית חוף הכרמל</td>\n      <td>1</td>\n      <td>96534</td>\n    </tr>\n    <tr>\n      <th>3776</th>\n      <td>8548918_070223</td>\n      <td>14:54:59</td>\n      <td>14:54:59</td>\n      <td>3372</td>\n      <td>32</td>\n      <td>0</td>\n      <td>0</td>\n      <td>17014.0</td>\n      <td>4135</td>\n      <td>5585</td>\n      <td>מרכזית חוף הכרמל</td>\n      <td>1</td>\n      <td>96534</td>\n    </tr>\n    <tr>\n      <th>3777</th>\n      <td>8548918_070223</td>\n      <td>14:56:43</td>\n      <td>14:56:43</td>\n      <td>3521</td>\n      <td>33</td>\n      <td>0</td>\n      <td>0</td>\n      <td>17378.0</td>\n      <td>4135</td>\n      <td>5585</td>\n      <td>מרכזית חוף הכרמל</td>\n      <td>1</td>\n      <td>96534</td>\n    </tr>\n    <tr>\n      <th>3778</th>\n      <td>8548918_070223</td>\n      <td>14:57:09</td>\n      <td>14:57:09</td>\n      <td>3367</td>\n      <td>34</td>\n      <td>0</td>\n      <td>0</td>\n      <td>17683.0</td>\n      <td>4135</td>\n      <td>5585</td>\n      <td>מרכזית חוף הכרמל</td>\n      <td>1</td>\n      <td>96534</td>\n    </tr>\n    <tr>\n      <th>3779</th>\n      <td>8548918_070223</td>\n      <td>14:58:08</td>\n      <td>14:58:08</td>\n      <td>3522</td>\n      <td>35</td>\n      <td>1</td>\n      <td>0</td>\n      <td>18154.0</td>\n      <td>4135</td>\n      <td>5585</td>\n      <td>מרכזית חוף הכרמל</td>\n      <td>1</td>\n      <td>96534</td>\n    </tr>\n  </tbody>\n</table>\n<p>3780 rows × 13 columns</p>\n</div>"
     },
     "execution_count": 55,
     "metadata": {},
     "output_type": "execute_result"
    }
   ],
   "source": [
    "all_stops"
   ],
   "metadata": {
    "collapsed": false,
    "ExecuteTime": {
     "end_time": "2023-09-12T21:05:44.595037Z",
     "start_time": "2023-09-12T21:05:44.575879Z"
    }
   },
   "id": "c8b41c5ca20745ad"
  },
  {
   "cell_type": "code",
   "execution_count": 57,
   "outputs": [],
   "source": [
    "trip_stats = all_stops.groupby(\"trip_id\").agg(\n",
    "    cnt = (\"stop_id\", \"count\"),\n",
    "    start_time = (\"arrival_time\", \"min\"),\n",
    "    end_time = (\"arrival_time\", \"max\")\n",
    ")"
   ],
   "metadata": {
    "collapsed": false,
    "ExecuteTime": {
     "end_time": "2023-09-12T21:07:05.909069Z",
     "start_time": "2023-09-12T21:07:05.899594Z"
    }
   },
   "id": "c3d0bf9710b7d548"
  },
  {
   "cell_type": "code",
   "execution_count": 59,
   "outputs": [],
   "source": [
    "trip_stats[\"trip_duration\"] = pd.to_datetime(trip_stats.end_time) - pd.to_datetime(trip_stats.start_time)"
   ],
   "metadata": {
    "collapsed": false,
    "ExecuteTime": {
     "end_time": "2023-09-12T21:07:55.754501Z",
     "start_time": "2023-09-12T21:07:55.743291Z"
    }
   },
   "id": "83ec6b7ebb76ff93"
  },
  {
   "cell_type": "code",
   "execution_count": 70,
   "outputs": [],
   "source": [
    "trip_stats[\"trip_duration_minutes\"] = trip_stats.trip_duration.dt.total_seconds() / 60"
   ],
   "metadata": {
    "collapsed": false,
    "ExecuteTime": {
     "end_time": "2023-09-12T21:10:12.180269Z",
     "start_time": "2023-09-12T21:10:11.808750Z"
    }
   },
   "id": "9a03df8d066d8f04"
  },
  {
   "cell_type": "code",
   "execution_count": 61,
   "outputs": [],
   "source": [
    "import plotly.express as px"
   ],
   "metadata": {
    "collapsed": false,
    "ExecuteTime": {
     "end_time": "2023-09-12T21:08:14.191644Z",
     "start_time": "2023-09-12T21:08:13.748279Z"
    }
   },
   "id": "a3959ede810228a8"
  },
  {
   "cell_type": "code",
   "execution_count": 62,
   "outputs": [],
   "source": [
    "trip_stats[\"start_as_date\"] = pd.to_datetime(trip_stats.start_time)"
   ],
   "metadata": {
    "collapsed": false,
    "ExecuteTime": {
     "end_time": "2023-09-12T21:08:44.883377Z",
     "start_time": "2023-09-12T21:08:44.865180Z"
    }
   },
   "id": "309343148ea1226f"
  },
  {
   "cell_type": "code",
   "execution_count": 72,
   "outputs": [],
   "source": [
    "import matplotlib as plt"
   ],
   "metadata": {
    "collapsed": false,
    "ExecuteTime": {
     "end_time": "2023-09-12T21:11:00.802262Z",
     "start_time": "2023-09-12T21:11:00.600424Z"
    }
   },
   "id": "c3ab74ab50b2961a"
  },
  {
   "cell_type": "code",
   "execution_count": null,
   "outputs": [],
   "source": [],
   "metadata": {
    "collapsed": false
   },
   "id": "d77bd1562b8d26e3"
  },
  {
   "cell_type": "code",
   "execution_count": 74,
   "outputs": [
    {
     "data": {
      "text/plain": "                 cnt start_time  end_time   trip_duration       start_as_date  \\\ntrip_id                                                                         \n12302548_070223   35   09:20:00  10:06:08 0 days 00:46:08 2023-09-13 09:20:00   \n12302561_070223   35   12:10:00  12:56:08 0 days 00:46:08 2023-09-13 12:10:00   \n12302596_070223   35   18:36:00  19:22:08 0 days 00:46:08 2023-09-13 18:36:00   \n12302601_070223   35   19:36:00  20:22:08 0 days 00:46:08 2023-09-13 19:36:00   \n12302915_070223   35   11:48:00  12:34:08 0 days 00:46:08 2023-09-13 11:48:00   \n...              ...        ...       ...             ...                 ...   \n8548607_070223    35   14:48:00  15:34:08 0 days 00:46:08 2023-09-13 14:48:00   \n8548652_070223    35   15:48:00  16:34:08 0 days 00:46:08 2023-09-13 15:48:00   \n8548688_070223    35   14:36:00  15:22:08 0 days 00:46:08 2023-09-13 14:36:00   \n8548895_070223    35   15:12:00  15:58:08 0 days 00:46:08 2023-09-13 15:12:00   \n8548918_070223    35   14:12:00  14:58:08 0 days 00:46:08 2023-09-13 14:12:00   \n\n                 trip_duration_minutes  \ntrip_id                                 \n12302548_070223              46.133333  \n12302561_070223              46.133333  \n12302596_070223              46.133333  \n12302601_070223              46.133333  \n12302915_070223              46.133333  \n...                                ...  \n8548607_070223               46.133333  \n8548652_070223               46.133333  \n8548688_070223               46.133333  \n8548895_070223               46.133333  \n8548918_070223               46.133333  \n\n[108 rows x 6 columns]",
      "text/html": "<div>\n<style scoped>\n    .dataframe tbody tr th:only-of-type {\n        vertical-align: middle;\n    }\n\n    .dataframe tbody tr th {\n        vertical-align: top;\n    }\n\n    .dataframe thead th {\n        text-align: right;\n    }\n</style>\n<table border=\"1\" class=\"dataframe\">\n  <thead>\n    <tr style=\"text-align: right;\">\n      <th></th>\n      <th>cnt</th>\n      <th>start_time</th>\n      <th>end_time</th>\n      <th>trip_duration</th>\n      <th>start_as_date</th>\n      <th>trip_duration_minutes</th>\n    </tr>\n    <tr>\n      <th>trip_id</th>\n      <th></th>\n      <th></th>\n      <th></th>\n      <th></th>\n      <th></th>\n      <th></th>\n    </tr>\n  </thead>\n  <tbody>\n    <tr>\n      <th>12302548_070223</th>\n      <td>35</td>\n      <td>09:20:00</td>\n      <td>10:06:08</td>\n      <td>0 days 00:46:08</td>\n      <td>2023-09-13 09:20:00</td>\n      <td>46.133333</td>\n    </tr>\n    <tr>\n      <th>12302561_070223</th>\n      <td>35</td>\n      <td>12:10:00</td>\n      <td>12:56:08</td>\n      <td>0 days 00:46:08</td>\n      <td>2023-09-13 12:10:00</td>\n      <td>46.133333</td>\n    </tr>\n    <tr>\n      <th>12302596_070223</th>\n      <td>35</td>\n      <td>18:36:00</td>\n      <td>19:22:08</td>\n      <td>0 days 00:46:08</td>\n      <td>2023-09-13 18:36:00</td>\n      <td>46.133333</td>\n    </tr>\n    <tr>\n      <th>12302601_070223</th>\n      <td>35</td>\n      <td>19:36:00</td>\n      <td>20:22:08</td>\n      <td>0 days 00:46:08</td>\n      <td>2023-09-13 19:36:00</td>\n      <td>46.133333</td>\n    </tr>\n    <tr>\n      <th>12302915_070223</th>\n      <td>35</td>\n      <td>11:48:00</td>\n      <td>12:34:08</td>\n      <td>0 days 00:46:08</td>\n      <td>2023-09-13 11:48:00</td>\n      <td>46.133333</td>\n    </tr>\n    <tr>\n      <th>...</th>\n      <td>...</td>\n      <td>...</td>\n      <td>...</td>\n      <td>...</td>\n      <td>...</td>\n      <td>...</td>\n    </tr>\n    <tr>\n      <th>8548607_070223</th>\n      <td>35</td>\n      <td>14:48:00</td>\n      <td>15:34:08</td>\n      <td>0 days 00:46:08</td>\n      <td>2023-09-13 14:48:00</td>\n      <td>46.133333</td>\n    </tr>\n    <tr>\n      <th>8548652_070223</th>\n      <td>35</td>\n      <td>15:48:00</td>\n      <td>16:34:08</td>\n      <td>0 days 00:46:08</td>\n      <td>2023-09-13 15:48:00</td>\n      <td>46.133333</td>\n    </tr>\n    <tr>\n      <th>8548688_070223</th>\n      <td>35</td>\n      <td>14:36:00</td>\n      <td>15:22:08</td>\n      <td>0 days 00:46:08</td>\n      <td>2023-09-13 14:36:00</td>\n      <td>46.133333</td>\n    </tr>\n    <tr>\n      <th>8548895_070223</th>\n      <td>35</td>\n      <td>15:12:00</td>\n      <td>15:58:08</td>\n      <td>0 days 00:46:08</td>\n      <td>2023-09-13 15:12:00</td>\n      <td>46.133333</td>\n    </tr>\n    <tr>\n      <th>8548918_070223</th>\n      <td>35</td>\n      <td>14:12:00</td>\n      <td>14:58:08</td>\n      <td>0 days 00:46:08</td>\n      <td>2023-09-13 14:12:00</td>\n      <td>46.133333</td>\n    </tr>\n  </tbody>\n</table>\n<p>108 rows × 6 columns</p>\n</div>"
     },
     "execution_count": 74,
     "metadata": {},
     "output_type": "execute_result"
    }
   ],
   "source": [
    "trip_stats"
   ],
   "metadata": {
    "collapsed": false,
    "ExecuteTime": {
     "end_time": "2023-09-12T21:11:32.307815Z",
     "start_time": "2023-09-12T21:11:32.300408Z"
    }
   },
   "id": "dbd3a5f73aa649e"
  },
  {
   "cell_type": "code",
   "execution_count": 73,
   "outputs": [
    {
     "data": {
      "application/vnd.plotly.v1+json": {
       "data": [
        {
         "hovertemplate": "start_as_date=%{x}<br>trip_duration_minutes=%{y}<extra></extra>",
         "legendgroup": "",
         "marker": {
          "color": "#636efa",
          "symbol": "circle"
         },
         "mode": "markers",
         "name": "",
         "orientation": "v",
         "showlegend": false,
         "x": [
          "2023-09-13T09:20:00",
          "2023-09-13T12:10:00",
          "2023-09-13T18:36:00",
          "2023-09-13T19:36:00",
          "2023-09-13T11:48:00",
          "2023-09-13T12:12:00",
          "2023-09-13T16:25:00",
          "2023-09-13T16:55:00",
          "2023-09-13T17:25:00",
          "2023-09-13T17:55:00",
          "2023-09-13T18:55:00",
          "2023-09-13T19:20:00",
          "2023-09-13T21:40:00",
          "2023-09-13T22:25:00",
          "2023-09-13T08:24:00",
          "2023-09-13T08:36:00",
          "2023-09-13T08:48:00",
          "2023-09-13T09:00:00",
          "2023-09-13T09:52:00",
          "2023-09-13T10:05:00",
          "2023-09-13T10:20:00",
          "2023-09-13T10:35:00",
          "2023-09-13T10:50:00",
          "2023-09-13T11:05:00",
          "2023-09-13T11:20:00",
          "2023-09-13T11:35:00",
          "2023-09-13T11:50:00",
          "2023-09-13T12:20:00",
          "2023-09-13T12:50:00",
          "2023-09-13T16:50:00",
          "2023-09-13T17:50:00",
          "2023-09-13T20:00:00",
          "2023-09-13T20:15:00",
          "2023-09-13T20:30:00",
          "2023-09-13T20:45:00",
          "2023-09-13T21:00:00",
          "2023-09-13T21:15:00",
          "2023-09-13T21:30:00",
          "2023-09-13T21:45:00",
          "2023-09-13T22:00:00",
          "2023-09-13T22:30:00",
          "2023-09-13T23:00:00",
          "2023-09-13T10:00:00",
          "2023-09-13T11:00:00",
          "2023-09-13T14:20:00",
          "2023-09-13T14:40:00",
          "2023-09-13T15:25:00",
          "2023-09-13T15:55:00",
          "2023-09-13T13:36:00",
          "2023-09-13T16:30:00",
          "2023-09-13T17:30:00",
          "2023-09-13T18:48:00",
          "2023-09-13T09:30:00",
          "2023-09-13T12:00:00",
          "2023-09-13T12:30:00",
          "2023-09-13T13:00:00",
          "2023-09-13T14:00:00",
          "2023-09-13T15:00:00",
          "2023-09-13T20:20:00",
          "2023-09-13T06:38:00",
          "2023-09-13T04:48:00",
          "2023-09-13T07:02:00",
          "2023-09-13T09:10:00",
          "2023-09-13T09:40:00",
          "2023-09-13T12:40:00",
          "2023-09-13T13:12:00",
          "2023-09-13T13:24:00",
          "2023-09-13T16:00:00",
          "2023-09-13T16:10:00",
          "2023-09-13T16:20:00",
          "2023-09-13T16:40:00",
          "2023-09-13T17:00:00",
          "2023-09-13T17:10:00",
          "2023-09-13T17:20:00",
          "2023-09-13T17:40:00",
          "2023-09-13T18:00:00",
          "2023-09-13T18:12:00",
          "2023-09-13T18:24:00",
          "2023-09-13T19:00:00",
          "2023-09-13T19:12:00",
          "2023-09-13T19:24:00",
          "2023-09-13T19:48:00",
          "2023-09-13T09:12:00",
          "2023-09-13T09:24:00",
          "2023-09-13T09:36:00",
          "2023-09-13T09:48:00",
          "2023-09-13T10:12:00",
          "2023-09-13T10:24:00",
          "2023-09-13T10:36:00",
          "2023-09-13T10:48:00",
          "2023-09-13T11:12:00",
          "2023-09-13T11:24:00",
          "2023-09-13T11:36:00",
          "2023-09-13T12:24:00",
          "2023-09-13T12:36:00",
          "2023-09-13T12:48:00",
          "2023-09-13T13:48:00",
          "2023-09-13T18:25:00",
          "2023-09-13T19:40:00",
          "2023-09-13T20:55:00",
          "2023-09-13T21:20:00",
          "2023-09-13T15:36:00",
          "2023-09-13T14:24:00",
          "2023-09-13T14:48:00",
          "2023-09-13T15:48:00",
          "2023-09-13T14:36:00",
          "2023-09-13T15:12:00",
          "2023-09-13T14:12:00"
         ],
         "xaxis": "x",
         "y": [
          46.13333333333333,
          46.13333333333333,
          46.13333333333333,
          46.13333333333333,
          46.13333333333333,
          46.13333333333333,
          46.13333333333333,
          46.13333333333333,
          46.13333333333333,
          46.13333333333333,
          46.13333333333333,
          46.13333333333333,
          46.13333333333333,
          46.13333333333333,
          46.13333333333333,
          46.13333333333333,
          46.13333333333333,
          46.13333333333333,
          46.13333333333333,
          46.13333333333333,
          46.13333333333333,
          46.13333333333333,
          46.13333333333333,
          46.13333333333333,
          46.13333333333333,
          46.13333333333333,
          46.13333333333333,
          46.13333333333333,
          46.13333333333333,
          46.13333333333333,
          46.13333333333333,
          46.13333333333333,
          46.13333333333333,
          46.13333333333333,
          46.13333333333333,
          46.13333333333333,
          46.13333333333333,
          46.13333333333333,
          46.13333333333333,
          46.13333333333333,
          46.13333333333333,
          46.13333333333333,
          46.13333333333333,
          46.13333333333333,
          46.13333333333333,
          46.13333333333333,
          46.13333333333333,
          46.13333333333333,
          46.13333333333333,
          46.13333333333333,
          46.13333333333333,
          46.13333333333333,
          46.13333333333333,
          46.13333333333333,
          46.13333333333333,
          46.13333333333333,
          46.13333333333333,
          46.13333333333333,
          46.13333333333333,
          46.13333333333333,
          46.13333333333333,
          46.13333333333333,
          46.13333333333333,
          46.13333333333333,
          46.13333333333333,
          46.13333333333333,
          46.13333333333333,
          46.13333333333333,
          46.13333333333333,
          46.13333333333333,
          46.13333333333333,
          46.13333333333333,
          46.13333333333333,
          46.13333333333333,
          46.13333333333333,
          46.13333333333333,
          46.13333333333333,
          46.13333333333333,
          46.13333333333333,
          46.13333333333333,
          46.13333333333333,
          46.13333333333333,
          46.13333333333333,
          46.13333333333333,
          46.13333333333333,
          46.13333333333333,
          46.13333333333333,
          46.13333333333333,
          46.13333333333333,
          46.13333333333333,
          46.13333333333333,
          46.13333333333333,
          46.13333333333333,
          46.13333333333333,
          46.13333333333333,
          46.13333333333333,
          46.13333333333333,
          46.13333333333333,
          46.13333333333333,
          46.13333333333333,
          46.13333333333333,
          46.13333333333333,
          46.13333333333333,
          46.13333333333333,
          46.13333333333333,
          46.13333333333333,
          46.13333333333333,
          46.13333333333333
         ],
         "yaxis": "y",
         "type": "scatter"
        }
       ],
       "layout": {
        "template": {
         "data": {
          "histogram2dcontour": [
           {
            "type": "histogram2dcontour",
            "colorbar": {
             "outlinewidth": 0,
             "ticks": ""
            },
            "colorscale": [
             [
              0.0,
              "#0d0887"
             ],
             [
              0.1111111111111111,
              "#46039f"
             ],
             [
              0.2222222222222222,
              "#7201a8"
             ],
             [
              0.3333333333333333,
              "#9c179e"
             ],
             [
              0.4444444444444444,
              "#bd3786"
             ],
             [
              0.5555555555555556,
              "#d8576b"
             ],
             [
              0.6666666666666666,
              "#ed7953"
             ],
             [
              0.7777777777777778,
              "#fb9f3a"
             ],
             [
              0.8888888888888888,
              "#fdca26"
             ],
             [
              1.0,
              "#f0f921"
             ]
            ]
           }
          ],
          "choropleth": [
           {
            "type": "choropleth",
            "colorbar": {
             "outlinewidth": 0,
             "ticks": ""
            }
           }
          ],
          "histogram2d": [
           {
            "type": "histogram2d",
            "colorbar": {
             "outlinewidth": 0,
             "ticks": ""
            },
            "colorscale": [
             [
              0.0,
              "#0d0887"
             ],
             [
              0.1111111111111111,
              "#46039f"
             ],
             [
              0.2222222222222222,
              "#7201a8"
             ],
             [
              0.3333333333333333,
              "#9c179e"
             ],
             [
              0.4444444444444444,
              "#bd3786"
             ],
             [
              0.5555555555555556,
              "#d8576b"
             ],
             [
              0.6666666666666666,
              "#ed7953"
             ],
             [
              0.7777777777777778,
              "#fb9f3a"
             ],
             [
              0.8888888888888888,
              "#fdca26"
             ],
             [
              1.0,
              "#f0f921"
             ]
            ]
           }
          ],
          "heatmap": [
           {
            "type": "heatmap",
            "colorbar": {
             "outlinewidth": 0,
             "ticks": ""
            },
            "colorscale": [
             [
              0.0,
              "#0d0887"
             ],
             [
              0.1111111111111111,
              "#46039f"
             ],
             [
              0.2222222222222222,
              "#7201a8"
             ],
             [
              0.3333333333333333,
              "#9c179e"
             ],
             [
              0.4444444444444444,
              "#bd3786"
             ],
             [
              0.5555555555555556,
              "#d8576b"
             ],
             [
              0.6666666666666666,
              "#ed7953"
             ],
             [
              0.7777777777777778,
              "#fb9f3a"
             ],
             [
              0.8888888888888888,
              "#fdca26"
             ],
             [
              1.0,
              "#f0f921"
             ]
            ]
           }
          ],
          "heatmapgl": [
           {
            "type": "heatmapgl",
            "colorbar": {
             "outlinewidth": 0,
             "ticks": ""
            },
            "colorscale": [
             [
              0.0,
              "#0d0887"
             ],
             [
              0.1111111111111111,
              "#46039f"
             ],
             [
              0.2222222222222222,
              "#7201a8"
             ],
             [
              0.3333333333333333,
              "#9c179e"
             ],
             [
              0.4444444444444444,
              "#bd3786"
             ],
             [
              0.5555555555555556,
              "#d8576b"
             ],
             [
              0.6666666666666666,
              "#ed7953"
             ],
             [
              0.7777777777777778,
              "#fb9f3a"
             ],
             [
              0.8888888888888888,
              "#fdca26"
             ],
             [
              1.0,
              "#f0f921"
             ]
            ]
           }
          ],
          "contourcarpet": [
           {
            "type": "contourcarpet",
            "colorbar": {
             "outlinewidth": 0,
             "ticks": ""
            }
           }
          ],
          "contour": [
           {
            "type": "contour",
            "colorbar": {
             "outlinewidth": 0,
             "ticks": ""
            },
            "colorscale": [
             [
              0.0,
              "#0d0887"
             ],
             [
              0.1111111111111111,
              "#46039f"
             ],
             [
              0.2222222222222222,
              "#7201a8"
             ],
             [
              0.3333333333333333,
              "#9c179e"
             ],
             [
              0.4444444444444444,
              "#bd3786"
             ],
             [
              0.5555555555555556,
              "#d8576b"
             ],
             [
              0.6666666666666666,
              "#ed7953"
             ],
             [
              0.7777777777777778,
              "#fb9f3a"
             ],
             [
              0.8888888888888888,
              "#fdca26"
             ],
             [
              1.0,
              "#f0f921"
             ]
            ]
           }
          ],
          "surface": [
           {
            "type": "surface",
            "colorbar": {
             "outlinewidth": 0,
             "ticks": ""
            },
            "colorscale": [
             [
              0.0,
              "#0d0887"
             ],
             [
              0.1111111111111111,
              "#46039f"
             ],
             [
              0.2222222222222222,
              "#7201a8"
             ],
             [
              0.3333333333333333,
              "#9c179e"
             ],
             [
              0.4444444444444444,
              "#bd3786"
             ],
             [
              0.5555555555555556,
              "#d8576b"
             ],
             [
              0.6666666666666666,
              "#ed7953"
             ],
             [
              0.7777777777777778,
              "#fb9f3a"
             ],
             [
              0.8888888888888888,
              "#fdca26"
             ],
             [
              1.0,
              "#f0f921"
             ]
            ]
           }
          ],
          "mesh3d": [
           {
            "type": "mesh3d",
            "colorbar": {
             "outlinewidth": 0,
             "ticks": ""
            }
           }
          ],
          "scatter": [
           {
            "fillpattern": {
             "fillmode": "overlay",
             "size": 10,
             "solidity": 0.2
            },
            "type": "scatter"
           }
          ],
          "parcoords": [
           {
            "type": "parcoords",
            "line": {
             "colorbar": {
              "outlinewidth": 0,
              "ticks": ""
             }
            }
           }
          ],
          "scatterpolargl": [
           {
            "type": "scatterpolargl",
            "marker": {
             "colorbar": {
              "outlinewidth": 0,
              "ticks": ""
             }
            }
           }
          ],
          "bar": [
           {
            "error_x": {
             "color": "#2a3f5f"
            },
            "error_y": {
             "color": "#2a3f5f"
            },
            "marker": {
             "line": {
              "color": "#E5ECF6",
              "width": 0.5
             },
             "pattern": {
              "fillmode": "overlay",
              "size": 10,
              "solidity": 0.2
             }
            },
            "type": "bar"
           }
          ],
          "scattergeo": [
           {
            "type": "scattergeo",
            "marker": {
             "colorbar": {
              "outlinewidth": 0,
              "ticks": ""
             }
            }
           }
          ],
          "scatterpolar": [
           {
            "type": "scatterpolar",
            "marker": {
             "colorbar": {
              "outlinewidth": 0,
              "ticks": ""
             }
            }
           }
          ],
          "histogram": [
           {
            "marker": {
             "pattern": {
              "fillmode": "overlay",
              "size": 10,
              "solidity": 0.2
             }
            },
            "type": "histogram"
           }
          ],
          "scattergl": [
           {
            "type": "scattergl",
            "marker": {
             "colorbar": {
              "outlinewidth": 0,
              "ticks": ""
             }
            }
           }
          ],
          "scatter3d": [
           {
            "type": "scatter3d",
            "line": {
             "colorbar": {
              "outlinewidth": 0,
              "ticks": ""
             }
            },
            "marker": {
             "colorbar": {
              "outlinewidth": 0,
              "ticks": ""
             }
            }
           }
          ],
          "scattermapbox": [
           {
            "type": "scattermapbox",
            "marker": {
             "colorbar": {
              "outlinewidth": 0,
              "ticks": ""
             }
            }
           }
          ],
          "scatterternary": [
           {
            "type": "scatterternary",
            "marker": {
             "colorbar": {
              "outlinewidth": 0,
              "ticks": ""
             }
            }
           }
          ],
          "scattercarpet": [
           {
            "type": "scattercarpet",
            "marker": {
             "colorbar": {
              "outlinewidth": 0,
              "ticks": ""
             }
            }
           }
          ],
          "carpet": [
           {
            "aaxis": {
             "endlinecolor": "#2a3f5f",
             "gridcolor": "white",
             "linecolor": "white",
             "minorgridcolor": "white",
             "startlinecolor": "#2a3f5f"
            },
            "baxis": {
             "endlinecolor": "#2a3f5f",
             "gridcolor": "white",
             "linecolor": "white",
             "minorgridcolor": "white",
             "startlinecolor": "#2a3f5f"
            },
            "type": "carpet"
           }
          ],
          "table": [
           {
            "cells": {
             "fill": {
              "color": "#EBF0F8"
             },
             "line": {
              "color": "white"
             }
            },
            "header": {
             "fill": {
              "color": "#C8D4E3"
             },
             "line": {
              "color": "white"
             }
            },
            "type": "table"
           }
          ],
          "barpolar": [
           {
            "marker": {
             "line": {
              "color": "#E5ECF6",
              "width": 0.5
             },
             "pattern": {
              "fillmode": "overlay",
              "size": 10,
              "solidity": 0.2
             }
            },
            "type": "barpolar"
           }
          ],
          "pie": [
           {
            "automargin": true,
            "type": "pie"
           }
          ]
         },
         "layout": {
          "autotypenumbers": "strict",
          "colorway": [
           "#636efa",
           "#EF553B",
           "#00cc96",
           "#ab63fa",
           "#FFA15A",
           "#19d3f3",
           "#FF6692",
           "#B6E880",
           "#FF97FF",
           "#FECB52"
          ],
          "font": {
           "color": "#2a3f5f"
          },
          "hovermode": "closest",
          "hoverlabel": {
           "align": "left"
          },
          "paper_bgcolor": "white",
          "plot_bgcolor": "#E5ECF6",
          "polar": {
           "bgcolor": "#E5ECF6",
           "angularaxis": {
            "gridcolor": "white",
            "linecolor": "white",
            "ticks": ""
           },
           "radialaxis": {
            "gridcolor": "white",
            "linecolor": "white",
            "ticks": ""
           }
          },
          "ternary": {
           "bgcolor": "#E5ECF6",
           "aaxis": {
            "gridcolor": "white",
            "linecolor": "white",
            "ticks": ""
           },
           "baxis": {
            "gridcolor": "white",
            "linecolor": "white",
            "ticks": ""
           },
           "caxis": {
            "gridcolor": "white",
            "linecolor": "white",
            "ticks": ""
           }
          },
          "coloraxis": {
           "colorbar": {
            "outlinewidth": 0,
            "ticks": ""
           }
          },
          "colorscale": {
           "sequential": [
            [
             0.0,
             "#0d0887"
            ],
            [
             0.1111111111111111,
             "#46039f"
            ],
            [
             0.2222222222222222,
             "#7201a8"
            ],
            [
             0.3333333333333333,
             "#9c179e"
            ],
            [
             0.4444444444444444,
             "#bd3786"
            ],
            [
             0.5555555555555556,
             "#d8576b"
            ],
            [
             0.6666666666666666,
             "#ed7953"
            ],
            [
             0.7777777777777778,
             "#fb9f3a"
            ],
            [
             0.8888888888888888,
             "#fdca26"
            ],
            [
             1.0,
             "#f0f921"
            ]
           ],
           "sequentialminus": [
            [
             0.0,
             "#0d0887"
            ],
            [
             0.1111111111111111,
             "#46039f"
            ],
            [
             0.2222222222222222,
             "#7201a8"
            ],
            [
             0.3333333333333333,
             "#9c179e"
            ],
            [
             0.4444444444444444,
             "#bd3786"
            ],
            [
             0.5555555555555556,
             "#d8576b"
            ],
            [
             0.6666666666666666,
             "#ed7953"
            ],
            [
             0.7777777777777778,
             "#fb9f3a"
            ],
            [
             0.8888888888888888,
             "#fdca26"
            ],
            [
             1.0,
             "#f0f921"
            ]
           ],
           "diverging": [
            [
             0,
             "#8e0152"
            ],
            [
             0.1,
             "#c51b7d"
            ],
            [
             0.2,
             "#de77ae"
            ],
            [
             0.3,
             "#f1b6da"
            ],
            [
             0.4,
             "#fde0ef"
            ],
            [
             0.5,
             "#f7f7f7"
            ],
            [
             0.6,
             "#e6f5d0"
            ],
            [
             0.7,
             "#b8e186"
            ],
            [
             0.8,
             "#7fbc41"
            ],
            [
             0.9,
             "#4d9221"
            ],
            [
             1,
             "#276419"
            ]
           ]
          },
          "xaxis": {
           "gridcolor": "white",
           "linecolor": "white",
           "ticks": "",
           "title": {
            "standoff": 15
           },
           "zerolinecolor": "white",
           "automargin": true,
           "zerolinewidth": 2
          },
          "yaxis": {
           "gridcolor": "white",
           "linecolor": "white",
           "ticks": "",
           "title": {
            "standoff": 15
           },
           "zerolinecolor": "white",
           "automargin": true,
           "zerolinewidth": 2
          },
          "scene": {
           "xaxis": {
            "backgroundcolor": "#E5ECF6",
            "gridcolor": "white",
            "linecolor": "white",
            "showbackground": true,
            "ticks": "",
            "zerolinecolor": "white",
            "gridwidth": 2
           },
           "yaxis": {
            "backgroundcolor": "#E5ECF6",
            "gridcolor": "white",
            "linecolor": "white",
            "showbackground": true,
            "ticks": "",
            "zerolinecolor": "white",
            "gridwidth": 2
           },
           "zaxis": {
            "backgroundcolor": "#E5ECF6",
            "gridcolor": "white",
            "linecolor": "white",
            "showbackground": true,
            "ticks": "",
            "zerolinecolor": "white",
            "gridwidth": 2
           }
          },
          "shapedefaults": {
           "line": {
            "color": "#2a3f5f"
           }
          },
          "annotationdefaults": {
           "arrowcolor": "#2a3f5f",
           "arrowhead": 0,
           "arrowwidth": 1
          },
          "geo": {
           "bgcolor": "white",
           "landcolor": "#E5ECF6",
           "subunitcolor": "white",
           "showland": true,
           "showlakes": true,
           "lakecolor": "white"
          },
          "title": {
           "x": 0.05
          },
          "mapbox": {
           "style": "light"
          }
         }
        },
        "xaxis": {
         "anchor": "y",
         "domain": [
          0.0,
          1.0
         ],
         "title": {
          "text": "start_as_date"
         }
        },
        "yaxis": {
         "anchor": "x",
         "domain": [
          0.0,
          1.0
         ],
         "title": {
          "text": "trip_duration_minutes"
         }
        },
        "legend": {
         "tracegroupgap": 0
        },
        "margin": {
         "t": 60
        }
       },
       "config": {
        "plotlyServerURL": "https://plot.ly"
       }
      },
      "text/html": "<div>                            <div id=\"1c1b2636-88fb-445c-865e-ba4d220aad38\" class=\"plotly-graph-div\" style=\"height:525px; width:100%;\"></div>            <script type=\"text/javascript\">                require([\"plotly\"], function(Plotly) {                    window.PLOTLYENV=window.PLOTLYENV || {};                                    if (document.getElementById(\"1c1b2636-88fb-445c-865e-ba4d220aad38\")) {                    Plotly.newPlot(                        \"1c1b2636-88fb-445c-865e-ba4d220aad38\",                        [{\"hovertemplate\":\"start_as_date=%{x}\\u003cbr\\u003etrip_duration_minutes=%{y}\\u003cextra\\u003e\\u003c\\u002fextra\\u003e\",\"legendgroup\":\"\",\"marker\":{\"color\":\"#636efa\",\"symbol\":\"circle\"},\"mode\":\"markers\",\"name\":\"\",\"orientation\":\"v\",\"showlegend\":false,\"x\":[\"2023-09-13T09:20:00\",\"2023-09-13T12:10:00\",\"2023-09-13T18:36:00\",\"2023-09-13T19:36:00\",\"2023-09-13T11:48:00\",\"2023-09-13T12:12:00\",\"2023-09-13T16:25:00\",\"2023-09-13T16:55:00\",\"2023-09-13T17:25:00\",\"2023-09-13T17:55:00\",\"2023-09-13T18:55:00\",\"2023-09-13T19:20:00\",\"2023-09-13T21:40:00\",\"2023-09-13T22:25:00\",\"2023-09-13T08:24:00\",\"2023-09-13T08:36:00\",\"2023-09-13T08:48:00\",\"2023-09-13T09:00:00\",\"2023-09-13T09:52:00\",\"2023-09-13T10:05:00\",\"2023-09-13T10:20:00\",\"2023-09-13T10:35:00\",\"2023-09-13T10:50:00\",\"2023-09-13T11:05:00\",\"2023-09-13T11:20:00\",\"2023-09-13T11:35:00\",\"2023-09-13T11:50:00\",\"2023-09-13T12:20:00\",\"2023-09-13T12:50:00\",\"2023-09-13T16:50:00\",\"2023-09-13T17:50:00\",\"2023-09-13T20:00:00\",\"2023-09-13T20:15:00\",\"2023-09-13T20:30:00\",\"2023-09-13T20:45:00\",\"2023-09-13T21:00:00\",\"2023-09-13T21:15:00\",\"2023-09-13T21:30:00\",\"2023-09-13T21:45:00\",\"2023-09-13T22:00:00\",\"2023-09-13T22:30:00\",\"2023-09-13T23:00:00\",\"2023-09-13T10:00:00\",\"2023-09-13T11:00:00\",\"2023-09-13T14:20:00\",\"2023-09-13T14:40:00\",\"2023-09-13T15:25:00\",\"2023-09-13T15:55:00\",\"2023-09-13T13:36:00\",\"2023-09-13T16:30:00\",\"2023-09-13T17:30:00\",\"2023-09-13T18:48:00\",\"2023-09-13T09:30:00\",\"2023-09-13T12:00:00\",\"2023-09-13T12:30:00\",\"2023-09-13T13:00:00\",\"2023-09-13T14:00:00\",\"2023-09-13T15:00:00\",\"2023-09-13T20:20:00\",\"2023-09-13T06:38:00\",\"2023-09-13T04:48:00\",\"2023-09-13T07:02:00\",\"2023-09-13T09:10:00\",\"2023-09-13T09:40:00\",\"2023-09-13T12:40:00\",\"2023-09-13T13:12:00\",\"2023-09-13T13:24:00\",\"2023-09-13T16:00:00\",\"2023-09-13T16:10:00\",\"2023-09-13T16:20:00\",\"2023-09-13T16:40:00\",\"2023-09-13T17:00:00\",\"2023-09-13T17:10:00\",\"2023-09-13T17:20:00\",\"2023-09-13T17:40:00\",\"2023-09-13T18:00:00\",\"2023-09-13T18:12:00\",\"2023-09-13T18:24:00\",\"2023-09-13T19:00:00\",\"2023-09-13T19:12:00\",\"2023-09-13T19:24:00\",\"2023-09-13T19:48:00\",\"2023-09-13T09:12:00\",\"2023-09-13T09:24:00\",\"2023-09-13T09:36:00\",\"2023-09-13T09:48:00\",\"2023-09-13T10:12:00\",\"2023-09-13T10:24:00\",\"2023-09-13T10:36:00\",\"2023-09-13T10:48:00\",\"2023-09-13T11:12:00\",\"2023-09-13T11:24:00\",\"2023-09-13T11:36:00\",\"2023-09-13T12:24:00\",\"2023-09-13T12:36:00\",\"2023-09-13T12:48:00\",\"2023-09-13T13:48:00\",\"2023-09-13T18:25:00\",\"2023-09-13T19:40:00\",\"2023-09-13T20:55:00\",\"2023-09-13T21:20:00\",\"2023-09-13T15:36:00\",\"2023-09-13T14:24:00\",\"2023-09-13T14:48:00\",\"2023-09-13T15:48:00\",\"2023-09-13T14:36:00\",\"2023-09-13T15:12:00\",\"2023-09-13T14:12:00\"],\"xaxis\":\"x\",\"y\":[46.13333333333333,46.13333333333333,46.13333333333333,46.13333333333333,46.13333333333333,46.13333333333333,46.13333333333333,46.13333333333333,46.13333333333333,46.13333333333333,46.13333333333333,46.13333333333333,46.13333333333333,46.13333333333333,46.13333333333333,46.13333333333333,46.13333333333333,46.13333333333333,46.13333333333333,46.13333333333333,46.13333333333333,46.13333333333333,46.13333333333333,46.13333333333333,46.13333333333333,46.13333333333333,46.13333333333333,46.13333333333333,46.13333333333333,46.13333333333333,46.13333333333333,46.13333333333333,46.13333333333333,46.13333333333333,46.13333333333333,46.13333333333333,46.13333333333333,46.13333333333333,46.13333333333333,46.13333333333333,46.13333333333333,46.13333333333333,46.13333333333333,46.13333333333333,46.13333333333333,46.13333333333333,46.13333333333333,46.13333333333333,46.13333333333333,46.13333333333333,46.13333333333333,46.13333333333333,46.13333333333333,46.13333333333333,46.13333333333333,46.13333333333333,46.13333333333333,46.13333333333333,46.13333333333333,46.13333333333333,46.13333333333333,46.13333333333333,46.13333333333333,46.13333333333333,46.13333333333333,46.13333333333333,46.13333333333333,46.13333333333333,46.13333333333333,46.13333333333333,46.13333333333333,46.13333333333333,46.13333333333333,46.13333333333333,46.13333333333333,46.13333333333333,46.13333333333333,46.13333333333333,46.13333333333333,46.13333333333333,46.13333333333333,46.13333333333333,46.13333333333333,46.13333333333333,46.13333333333333,46.13333333333333,46.13333333333333,46.13333333333333,46.13333333333333,46.13333333333333,46.13333333333333,46.13333333333333,46.13333333333333,46.13333333333333,46.13333333333333,46.13333333333333,46.13333333333333,46.13333333333333,46.13333333333333,46.13333333333333,46.13333333333333,46.13333333333333,46.13333333333333,46.13333333333333,46.13333333333333,46.13333333333333,46.13333333333333,46.13333333333333],\"yaxis\":\"y\",\"type\":\"scatter\"}],                        {\"template\":{\"data\":{\"histogram2dcontour\":[{\"type\":\"histogram2dcontour\",\"colorbar\":{\"outlinewidth\":0,\"ticks\":\"\"},\"colorscale\":[[0.0,\"#0d0887\"],[0.1111111111111111,\"#46039f\"],[0.2222222222222222,\"#7201a8\"],[0.3333333333333333,\"#9c179e\"],[0.4444444444444444,\"#bd3786\"],[0.5555555555555556,\"#d8576b\"],[0.6666666666666666,\"#ed7953\"],[0.7777777777777778,\"#fb9f3a\"],[0.8888888888888888,\"#fdca26\"],[1.0,\"#f0f921\"]]}],\"choropleth\":[{\"type\":\"choropleth\",\"colorbar\":{\"outlinewidth\":0,\"ticks\":\"\"}}],\"histogram2d\":[{\"type\":\"histogram2d\",\"colorbar\":{\"outlinewidth\":0,\"ticks\":\"\"},\"colorscale\":[[0.0,\"#0d0887\"],[0.1111111111111111,\"#46039f\"],[0.2222222222222222,\"#7201a8\"],[0.3333333333333333,\"#9c179e\"],[0.4444444444444444,\"#bd3786\"],[0.5555555555555556,\"#d8576b\"],[0.6666666666666666,\"#ed7953\"],[0.7777777777777778,\"#fb9f3a\"],[0.8888888888888888,\"#fdca26\"],[1.0,\"#f0f921\"]]}],\"heatmap\":[{\"type\":\"heatmap\",\"colorbar\":{\"outlinewidth\":0,\"ticks\":\"\"},\"colorscale\":[[0.0,\"#0d0887\"],[0.1111111111111111,\"#46039f\"],[0.2222222222222222,\"#7201a8\"],[0.3333333333333333,\"#9c179e\"],[0.4444444444444444,\"#bd3786\"],[0.5555555555555556,\"#d8576b\"],[0.6666666666666666,\"#ed7953\"],[0.7777777777777778,\"#fb9f3a\"],[0.8888888888888888,\"#fdca26\"],[1.0,\"#f0f921\"]]}],\"heatmapgl\":[{\"type\":\"heatmapgl\",\"colorbar\":{\"outlinewidth\":0,\"ticks\":\"\"},\"colorscale\":[[0.0,\"#0d0887\"],[0.1111111111111111,\"#46039f\"],[0.2222222222222222,\"#7201a8\"],[0.3333333333333333,\"#9c179e\"],[0.4444444444444444,\"#bd3786\"],[0.5555555555555556,\"#d8576b\"],[0.6666666666666666,\"#ed7953\"],[0.7777777777777778,\"#fb9f3a\"],[0.8888888888888888,\"#fdca26\"],[1.0,\"#f0f921\"]]}],\"contourcarpet\":[{\"type\":\"contourcarpet\",\"colorbar\":{\"outlinewidth\":0,\"ticks\":\"\"}}],\"contour\":[{\"type\":\"contour\",\"colorbar\":{\"outlinewidth\":0,\"ticks\":\"\"},\"colorscale\":[[0.0,\"#0d0887\"],[0.1111111111111111,\"#46039f\"],[0.2222222222222222,\"#7201a8\"],[0.3333333333333333,\"#9c179e\"],[0.4444444444444444,\"#bd3786\"],[0.5555555555555556,\"#d8576b\"],[0.6666666666666666,\"#ed7953\"],[0.7777777777777778,\"#fb9f3a\"],[0.8888888888888888,\"#fdca26\"],[1.0,\"#f0f921\"]]}],\"surface\":[{\"type\":\"surface\",\"colorbar\":{\"outlinewidth\":0,\"ticks\":\"\"},\"colorscale\":[[0.0,\"#0d0887\"],[0.1111111111111111,\"#46039f\"],[0.2222222222222222,\"#7201a8\"],[0.3333333333333333,\"#9c179e\"],[0.4444444444444444,\"#bd3786\"],[0.5555555555555556,\"#d8576b\"],[0.6666666666666666,\"#ed7953\"],[0.7777777777777778,\"#fb9f3a\"],[0.8888888888888888,\"#fdca26\"],[1.0,\"#f0f921\"]]}],\"mesh3d\":[{\"type\":\"mesh3d\",\"colorbar\":{\"outlinewidth\":0,\"ticks\":\"\"}}],\"scatter\":[{\"fillpattern\":{\"fillmode\":\"overlay\",\"size\":10,\"solidity\":0.2},\"type\":\"scatter\"}],\"parcoords\":[{\"type\":\"parcoords\",\"line\":{\"colorbar\":{\"outlinewidth\":0,\"ticks\":\"\"}}}],\"scatterpolargl\":[{\"type\":\"scatterpolargl\",\"marker\":{\"colorbar\":{\"outlinewidth\":0,\"ticks\":\"\"}}}],\"bar\":[{\"error_x\":{\"color\":\"#2a3f5f\"},\"error_y\":{\"color\":\"#2a3f5f\"},\"marker\":{\"line\":{\"color\":\"#E5ECF6\",\"width\":0.5},\"pattern\":{\"fillmode\":\"overlay\",\"size\":10,\"solidity\":0.2}},\"type\":\"bar\"}],\"scattergeo\":[{\"type\":\"scattergeo\",\"marker\":{\"colorbar\":{\"outlinewidth\":0,\"ticks\":\"\"}}}],\"scatterpolar\":[{\"type\":\"scatterpolar\",\"marker\":{\"colorbar\":{\"outlinewidth\":0,\"ticks\":\"\"}}}],\"histogram\":[{\"marker\":{\"pattern\":{\"fillmode\":\"overlay\",\"size\":10,\"solidity\":0.2}},\"type\":\"histogram\"}],\"scattergl\":[{\"type\":\"scattergl\",\"marker\":{\"colorbar\":{\"outlinewidth\":0,\"ticks\":\"\"}}}],\"scatter3d\":[{\"type\":\"scatter3d\",\"line\":{\"colorbar\":{\"outlinewidth\":0,\"ticks\":\"\"}},\"marker\":{\"colorbar\":{\"outlinewidth\":0,\"ticks\":\"\"}}}],\"scattermapbox\":[{\"type\":\"scattermapbox\",\"marker\":{\"colorbar\":{\"outlinewidth\":0,\"ticks\":\"\"}}}],\"scatterternary\":[{\"type\":\"scatterternary\",\"marker\":{\"colorbar\":{\"outlinewidth\":0,\"ticks\":\"\"}}}],\"scattercarpet\":[{\"type\":\"scattercarpet\",\"marker\":{\"colorbar\":{\"outlinewidth\":0,\"ticks\":\"\"}}}],\"carpet\":[{\"aaxis\":{\"endlinecolor\":\"#2a3f5f\",\"gridcolor\":\"white\",\"linecolor\":\"white\",\"minorgridcolor\":\"white\",\"startlinecolor\":\"#2a3f5f\"},\"baxis\":{\"endlinecolor\":\"#2a3f5f\",\"gridcolor\":\"white\",\"linecolor\":\"white\",\"minorgridcolor\":\"white\",\"startlinecolor\":\"#2a3f5f\"},\"type\":\"carpet\"}],\"table\":[{\"cells\":{\"fill\":{\"color\":\"#EBF0F8\"},\"line\":{\"color\":\"white\"}},\"header\":{\"fill\":{\"color\":\"#C8D4E3\"},\"line\":{\"color\":\"white\"}},\"type\":\"table\"}],\"barpolar\":[{\"marker\":{\"line\":{\"color\":\"#E5ECF6\",\"width\":0.5},\"pattern\":{\"fillmode\":\"overlay\",\"size\":10,\"solidity\":0.2}},\"type\":\"barpolar\"}],\"pie\":[{\"automargin\":true,\"type\":\"pie\"}]},\"layout\":{\"autotypenumbers\":\"strict\",\"colorway\":[\"#636efa\",\"#EF553B\",\"#00cc96\",\"#ab63fa\",\"#FFA15A\",\"#19d3f3\",\"#FF6692\",\"#B6E880\",\"#FF97FF\",\"#FECB52\"],\"font\":{\"color\":\"#2a3f5f\"},\"hovermode\":\"closest\",\"hoverlabel\":{\"align\":\"left\"},\"paper_bgcolor\":\"white\",\"plot_bgcolor\":\"#E5ECF6\",\"polar\":{\"bgcolor\":\"#E5ECF6\",\"angularaxis\":{\"gridcolor\":\"white\",\"linecolor\":\"white\",\"ticks\":\"\"},\"radialaxis\":{\"gridcolor\":\"white\",\"linecolor\":\"white\",\"ticks\":\"\"}},\"ternary\":{\"bgcolor\":\"#E5ECF6\",\"aaxis\":{\"gridcolor\":\"white\",\"linecolor\":\"white\",\"ticks\":\"\"},\"baxis\":{\"gridcolor\":\"white\",\"linecolor\":\"white\",\"ticks\":\"\"},\"caxis\":{\"gridcolor\":\"white\",\"linecolor\":\"white\",\"ticks\":\"\"}},\"coloraxis\":{\"colorbar\":{\"outlinewidth\":0,\"ticks\":\"\"}},\"colorscale\":{\"sequential\":[[0.0,\"#0d0887\"],[0.1111111111111111,\"#46039f\"],[0.2222222222222222,\"#7201a8\"],[0.3333333333333333,\"#9c179e\"],[0.4444444444444444,\"#bd3786\"],[0.5555555555555556,\"#d8576b\"],[0.6666666666666666,\"#ed7953\"],[0.7777777777777778,\"#fb9f3a\"],[0.8888888888888888,\"#fdca26\"],[1.0,\"#f0f921\"]],\"sequentialminus\":[[0.0,\"#0d0887\"],[0.1111111111111111,\"#46039f\"],[0.2222222222222222,\"#7201a8\"],[0.3333333333333333,\"#9c179e\"],[0.4444444444444444,\"#bd3786\"],[0.5555555555555556,\"#d8576b\"],[0.6666666666666666,\"#ed7953\"],[0.7777777777777778,\"#fb9f3a\"],[0.8888888888888888,\"#fdca26\"],[1.0,\"#f0f921\"]],\"diverging\":[[0,\"#8e0152\"],[0.1,\"#c51b7d\"],[0.2,\"#de77ae\"],[0.3,\"#f1b6da\"],[0.4,\"#fde0ef\"],[0.5,\"#f7f7f7\"],[0.6,\"#e6f5d0\"],[0.7,\"#b8e186\"],[0.8,\"#7fbc41\"],[0.9,\"#4d9221\"],[1,\"#276419\"]]},\"xaxis\":{\"gridcolor\":\"white\",\"linecolor\":\"white\",\"ticks\":\"\",\"title\":{\"standoff\":15},\"zerolinecolor\":\"white\",\"automargin\":true,\"zerolinewidth\":2},\"yaxis\":{\"gridcolor\":\"white\",\"linecolor\":\"white\",\"ticks\":\"\",\"title\":{\"standoff\":15},\"zerolinecolor\":\"white\",\"automargin\":true,\"zerolinewidth\":2},\"scene\":{\"xaxis\":{\"backgroundcolor\":\"#E5ECF6\",\"gridcolor\":\"white\",\"linecolor\":\"white\",\"showbackground\":true,\"ticks\":\"\",\"zerolinecolor\":\"white\",\"gridwidth\":2},\"yaxis\":{\"backgroundcolor\":\"#E5ECF6\",\"gridcolor\":\"white\",\"linecolor\":\"white\",\"showbackground\":true,\"ticks\":\"\",\"zerolinecolor\":\"white\",\"gridwidth\":2},\"zaxis\":{\"backgroundcolor\":\"#E5ECF6\",\"gridcolor\":\"white\",\"linecolor\":\"white\",\"showbackground\":true,\"ticks\":\"\",\"zerolinecolor\":\"white\",\"gridwidth\":2}},\"shapedefaults\":{\"line\":{\"color\":\"#2a3f5f\"}},\"annotationdefaults\":{\"arrowcolor\":\"#2a3f5f\",\"arrowhead\":0,\"arrowwidth\":1},\"geo\":{\"bgcolor\":\"white\",\"landcolor\":\"#E5ECF6\",\"subunitcolor\":\"white\",\"showland\":true,\"showlakes\":true,\"lakecolor\":\"white\"},\"title\":{\"x\":0.05},\"mapbox\":{\"style\":\"light\"}}},\"xaxis\":{\"anchor\":\"y\",\"domain\":[0.0,1.0],\"title\":{\"text\":\"start_as_date\"}},\"yaxis\":{\"anchor\":\"x\",\"domain\":[0.0,1.0],\"title\":{\"text\":\"trip_duration_minutes\"}},\"legend\":{\"tracegroupgap\":0},\"margin\":{\"t\":60}},                        {\"responsive\": true}                    ).then(function(){\n                            \nvar gd = document.getElementById('1c1b2636-88fb-445c-865e-ba4d220aad38');\nvar x = new MutationObserver(function (mutations, observer) {{\n        var display = window.getComputedStyle(gd).display;\n        if (!display || display === 'none') {{\n            console.log([gd, 'removed!']);\n            Plotly.purge(gd);\n            observer.disconnect();\n        }}\n}});\n\n// Listen for the removal of the full notebook cells\nvar notebookContainer = gd.closest('#notebook-container');\nif (notebookContainer) {{\n    x.observe(notebookContainer, {childList: true});\n}}\n\n// Listen for the clearing of the current output cell\nvar outputEl = gd.closest('.output');\nif (outputEl) {{\n    x.observe(outputEl, {childList: true});\n}}\n\n                        })                };                });            </script>        </div>"
     },
     "metadata": {},
     "output_type": "display_data"
    }
   ],
   "source": [
    "px.scatter(trip_stats, x = \"start_as_date\", y = \"trip_duration_minutes\")"
   ],
   "metadata": {
    "collapsed": false,
    "ExecuteTime": {
     "end_time": "2023-09-12T21:11:24.457570Z",
     "start_time": "2023-09-12T21:11:24.370110Z"
    }
   },
   "id": "ded32664959a272b"
  },
  {
   "cell_type": "code",
   "execution_count": 50,
   "outputs": [
    {
     "data": {
      "text/plain": "                trip_id arrival_time departure_time stop_id  stop_sequence  \\\n6756357  7088565_070223     13:12:00       13:12:00   48020              1   \n6756358  7088565_070223     13:16:59       13:16:59   17505              2   \n6756359  7088565_070223     13:18:59       13:18:59    2143              3   \n6756360  7088565_070223     13:22:59       13:22:59    3490              4   \n6756361  7088565_070223     13:23:59       13:23:59    2158              5   \n6756362  7088565_070223     13:24:39       13:24:39    2159              6   \n6756363  7088565_070223     13:24:59       13:24:59    3487              7   \n6756364  7088565_070223     13:25:59       13:25:59    2149              8   \n6756365  7088565_070223     13:26:43       13:26:43    2859              9   \n6756366  7088565_070223     13:27:05       13:27:05    2145             10   \n6756367  7088565_070223     13:27:59       13:27:59    2146             11   \n6756368  7088565_070223     13:28:58       13:28:58    2147             12   \n6756369  7088565_070223     13:29:23       13:29:23    2139             13   \n6756370  7088565_070223     13:29:59       13:29:59    2114             14   \n6756371  7088565_070223     13:30:54       13:30:54    2119             15   \n6756372  7088565_070223     13:31:01       13:31:01    2761             16   \n6756373  7088565_070223     13:31:59       13:31:59    2762             17   \n6756374  7088565_070223     13:32:59       13:32:59    3882             18   \n6756375  7088565_070223     13:33:48       13:33:48    3881             19   \n6756376  7088565_070223     13:34:51       13:34:51    3939             20   \n6756377  7088565_070223     13:35:13       13:35:13    2091             21   \n6756378  7088565_070223     13:36:45       13:36:45    2084             22   \n6756379  7088565_070223     13:37:59       13:37:59    2079             23   \n6756380  7088565_070223     13:38:59       13:38:59    2620             24   \n6756381  7088565_070223     13:41:28       13:41:28    3077             25   \n6756382  7088565_070223     13:43:28       13:43:28    1877             26   \n6756383  7088565_070223     13:45:28       13:45:28    1859             27   \n6756384  7088565_070223     13:45:59       13:45:59    3233             28   \n6756385  7088565_070223     13:47:54       13:47:54    3526             29   \n6756386  7088565_070223     13:49:41       13:49:41    3254             30   \n6756387  7088565_070223     13:53:15       13:53:15    3690             31   \n6756388  7088565_070223     13:54:59       13:54:59    3372             32   \n6756389  7088565_070223     13:56:43       13:56:43    3521             33   \n6756390  7088565_070223     13:57:09       13:57:09    3367             34   \n6756391  7088565_070223     13:58:08       13:58:08    3522             35   \n\n         pickup_type  drop_off_type  shape_dist_traveled  \n6756357            0              1                  0.0  \n6756358            0              0               1200.0  \n6756359            0              0               2175.0  \n6756360            0              0               4368.0  \n6756361            0              0               4652.0  \n6756362            0              0               4914.0  \n6756363            0              0               5174.0  \n6756364            0              0               5479.0  \n6756365            0              0               5851.0  \n6756366            0              0               6132.0  \n6756367            0              0               6493.0  \n6756368            0              0               6832.0  \n6756369            0              0               7131.0  \n6756370            0              0               7397.0  \n6756371            0              0               7738.0  \n6756372            0              0               7951.0  \n6756373            0              0               8283.0  \n6756374            0              0               8706.0  \n6756375            0              0               9114.0  \n6756376            0              0               9405.0  \n6756377            0              0               9679.0  \n6756378            0              0               9919.0  \n6756379            0              0              10389.0  \n6756380            0              0              10856.0  \n6756381            0              0              11732.0  \n6756382            0              0              12264.0  \n6756383            0              0              12926.0  \n6756384            0              0              13145.0  \n6756385            0              0              13828.0  \n6756386            0              0              14680.0  \n6756387            0              0              16396.0  \n6756388            0              0              17014.0  \n6756389            0              0              17378.0  \n6756390            0              0              17683.0  \n6756391            1              0              18154.0  ",
      "text/html": "<div>\n<style scoped>\n    .dataframe tbody tr th:only-of-type {\n        vertical-align: middle;\n    }\n\n    .dataframe tbody tr th {\n        vertical-align: top;\n    }\n\n    .dataframe thead th {\n        text-align: right;\n    }\n</style>\n<table border=\"1\" class=\"dataframe\">\n  <thead>\n    <tr style=\"text-align: right;\">\n      <th></th>\n      <th>trip_id</th>\n      <th>arrival_time</th>\n      <th>departure_time</th>\n      <th>stop_id</th>\n      <th>stop_sequence</th>\n      <th>pickup_type</th>\n      <th>drop_off_type</th>\n      <th>shape_dist_traveled</th>\n    </tr>\n  </thead>\n  <tbody>\n    <tr>\n      <th>6756357</th>\n      <td>7088565_070223</td>\n      <td>13:12:00</td>\n      <td>13:12:00</td>\n      <td>48020</td>\n      <td>1</td>\n      <td>0</td>\n      <td>1</td>\n      <td>0.0</td>\n    </tr>\n    <tr>\n      <th>6756358</th>\n      <td>7088565_070223</td>\n      <td>13:16:59</td>\n      <td>13:16:59</td>\n      <td>17505</td>\n      <td>2</td>\n      <td>0</td>\n      <td>0</td>\n      <td>1200.0</td>\n    </tr>\n    <tr>\n      <th>6756359</th>\n      <td>7088565_070223</td>\n      <td>13:18:59</td>\n      <td>13:18:59</td>\n      <td>2143</td>\n      <td>3</td>\n      <td>0</td>\n      <td>0</td>\n      <td>2175.0</td>\n    </tr>\n    <tr>\n      <th>6756360</th>\n      <td>7088565_070223</td>\n      <td>13:22:59</td>\n      <td>13:22:59</td>\n      <td>3490</td>\n      <td>4</td>\n      <td>0</td>\n      <td>0</td>\n      <td>4368.0</td>\n    </tr>\n    <tr>\n      <th>6756361</th>\n      <td>7088565_070223</td>\n      <td>13:23:59</td>\n      <td>13:23:59</td>\n      <td>2158</td>\n      <td>5</td>\n      <td>0</td>\n      <td>0</td>\n      <td>4652.0</td>\n    </tr>\n    <tr>\n      <th>6756362</th>\n      <td>7088565_070223</td>\n      <td>13:24:39</td>\n      <td>13:24:39</td>\n      <td>2159</td>\n      <td>6</td>\n      <td>0</td>\n      <td>0</td>\n      <td>4914.0</td>\n    </tr>\n    <tr>\n      <th>6756363</th>\n      <td>7088565_070223</td>\n      <td>13:24:59</td>\n      <td>13:24:59</td>\n      <td>3487</td>\n      <td>7</td>\n      <td>0</td>\n      <td>0</td>\n      <td>5174.0</td>\n    </tr>\n    <tr>\n      <th>6756364</th>\n      <td>7088565_070223</td>\n      <td>13:25:59</td>\n      <td>13:25:59</td>\n      <td>2149</td>\n      <td>8</td>\n      <td>0</td>\n      <td>0</td>\n      <td>5479.0</td>\n    </tr>\n    <tr>\n      <th>6756365</th>\n      <td>7088565_070223</td>\n      <td>13:26:43</td>\n      <td>13:26:43</td>\n      <td>2859</td>\n      <td>9</td>\n      <td>0</td>\n      <td>0</td>\n      <td>5851.0</td>\n    </tr>\n    <tr>\n      <th>6756366</th>\n      <td>7088565_070223</td>\n      <td>13:27:05</td>\n      <td>13:27:05</td>\n      <td>2145</td>\n      <td>10</td>\n      <td>0</td>\n      <td>0</td>\n      <td>6132.0</td>\n    </tr>\n    <tr>\n      <th>6756367</th>\n      <td>7088565_070223</td>\n      <td>13:27:59</td>\n      <td>13:27:59</td>\n      <td>2146</td>\n      <td>11</td>\n      <td>0</td>\n      <td>0</td>\n      <td>6493.0</td>\n    </tr>\n    <tr>\n      <th>6756368</th>\n      <td>7088565_070223</td>\n      <td>13:28:58</td>\n      <td>13:28:58</td>\n      <td>2147</td>\n      <td>12</td>\n      <td>0</td>\n      <td>0</td>\n      <td>6832.0</td>\n    </tr>\n    <tr>\n      <th>6756369</th>\n      <td>7088565_070223</td>\n      <td>13:29:23</td>\n      <td>13:29:23</td>\n      <td>2139</td>\n      <td>13</td>\n      <td>0</td>\n      <td>0</td>\n      <td>7131.0</td>\n    </tr>\n    <tr>\n      <th>6756370</th>\n      <td>7088565_070223</td>\n      <td>13:29:59</td>\n      <td>13:29:59</td>\n      <td>2114</td>\n      <td>14</td>\n      <td>0</td>\n      <td>0</td>\n      <td>7397.0</td>\n    </tr>\n    <tr>\n      <th>6756371</th>\n      <td>7088565_070223</td>\n      <td>13:30:54</td>\n      <td>13:30:54</td>\n      <td>2119</td>\n      <td>15</td>\n      <td>0</td>\n      <td>0</td>\n      <td>7738.0</td>\n    </tr>\n    <tr>\n      <th>6756372</th>\n      <td>7088565_070223</td>\n      <td>13:31:01</td>\n      <td>13:31:01</td>\n      <td>2761</td>\n      <td>16</td>\n      <td>0</td>\n      <td>0</td>\n      <td>7951.0</td>\n    </tr>\n    <tr>\n      <th>6756373</th>\n      <td>7088565_070223</td>\n      <td>13:31:59</td>\n      <td>13:31:59</td>\n      <td>2762</td>\n      <td>17</td>\n      <td>0</td>\n      <td>0</td>\n      <td>8283.0</td>\n    </tr>\n    <tr>\n      <th>6756374</th>\n      <td>7088565_070223</td>\n      <td>13:32:59</td>\n      <td>13:32:59</td>\n      <td>3882</td>\n      <td>18</td>\n      <td>0</td>\n      <td>0</td>\n      <td>8706.0</td>\n    </tr>\n    <tr>\n      <th>6756375</th>\n      <td>7088565_070223</td>\n      <td>13:33:48</td>\n      <td>13:33:48</td>\n      <td>3881</td>\n      <td>19</td>\n      <td>0</td>\n      <td>0</td>\n      <td>9114.0</td>\n    </tr>\n    <tr>\n      <th>6756376</th>\n      <td>7088565_070223</td>\n      <td>13:34:51</td>\n      <td>13:34:51</td>\n      <td>3939</td>\n      <td>20</td>\n      <td>0</td>\n      <td>0</td>\n      <td>9405.0</td>\n    </tr>\n    <tr>\n      <th>6756377</th>\n      <td>7088565_070223</td>\n      <td>13:35:13</td>\n      <td>13:35:13</td>\n      <td>2091</td>\n      <td>21</td>\n      <td>0</td>\n      <td>0</td>\n      <td>9679.0</td>\n    </tr>\n    <tr>\n      <th>6756378</th>\n      <td>7088565_070223</td>\n      <td>13:36:45</td>\n      <td>13:36:45</td>\n      <td>2084</td>\n      <td>22</td>\n      <td>0</td>\n      <td>0</td>\n      <td>9919.0</td>\n    </tr>\n    <tr>\n      <th>6756379</th>\n      <td>7088565_070223</td>\n      <td>13:37:59</td>\n      <td>13:37:59</td>\n      <td>2079</td>\n      <td>23</td>\n      <td>0</td>\n      <td>0</td>\n      <td>10389.0</td>\n    </tr>\n    <tr>\n      <th>6756380</th>\n      <td>7088565_070223</td>\n      <td>13:38:59</td>\n      <td>13:38:59</td>\n      <td>2620</td>\n      <td>24</td>\n      <td>0</td>\n      <td>0</td>\n      <td>10856.0</td>\n    </tr>\n    <tr>\n      <th>6756381</th>\n      <td>7088565_070223</td>\n      <td>13:41:28</td>\n      <td>13:41:28</td>\n      <td>3077</td>\n      <td>25</td>\n      <td>0</td>\n      <td>0</td>\n      <td>11732.0</td>\n    </tr>\n    <tr>\n      <th>6756382</th>\n      <td>7088565_070223</td>\n      <td>13:43:28</td>\n      <td>13:43:28</td>\n      <td>1877</td>\n      <td>26</td>\n      <td>0</td>\n      <td>0</td>\n      <td>12264.0</td>\n    </tr>\n    <tr>\n      <th>6756383</th>\n      <td>7088565_070223</td>\n      <td>13:45:28</td>\n      <td>13:45:28</td>\n      <td>1859</td>\n      <td>27</td>\n      <td>0</td>\n      <td>0</td>\n      <td>12926.0</td>\n    </tr>\n    <tr>\n      <th>6756384</th>\n      <td>7088565_070223</td>\n      <td>13:45:59</td>\n      <td>13:45:59</td>\n      <td>3233</td>\n      <td>28</td>\n      <td>0</td>\n      <td>0</td>\n      <td>13145.0</td>\n    </tr>\n    <tr>\n      <th>6756385</th>\n      <td>7088565_070223</td>\n      <td>13:47:54</td>\n      <td>13:47:54</td>\n      <td>3526</td>\n      <td>29</td>\n      <td>0</td>\n      <td>0</td>\n      <td>13828.0</td>\n    </tr>\n    <tr>\n      <th>6756386</th>\n      <td>7088565_070223</td>\n      <td>13:49:41</td>\n      <td>13:49:41</td>\n      <td>3254</td>\n      <td>30</td>\n      <td>0</td>\n      <td>0</td>\n      <td>14680.0</td>\n    </tr>\n    <tr>\n      <th>6756387</th>\n      <td>7088565_070223</td>\n      <td>13:53:15</td>\n      <td>13:53:15</td>\n      <td>3690</td>\n      <td>31</td>\n      <td>0</td>\n      <td>0</td>\n      <td>16396.0</td>\n    </tr>\n    <tr>\n      <th>6756388</th>\n      <td>7088565_070223</td>\n      <td>13:54:59</td>\n      <td>13:54:59</td>\n      <td>3372</td>\n      <td>32</td>\n      <td>0</td>\n      <td>0</td>\n      <td>17014.0</td>\n    </tr>\n    <tr>\n      <th>6756389</th>\n      <td>7088565_070223</td>\n      <td>13:56:43</td>\n      <td>13:56:43</td>\n      <td>3521</td>\n      <td>33</td>\n      <td>0</td>\n      <td>0</td>\n      <td>17378.0</td>\n    </tr>\n    <tr>\n      <th>6756390</th>\n      <td>7088565_070223</td>\n      <td>13:57:09</td>\n      <td>13:57:09</td>\n      <td>3367</td>\n      <td>34</td>\n      <td>0</td>\n      <td>0</td>\n      <td>17683.0</td>\n    </tr>\n    <tr>\n      <th>6756391</th>\n      <td>7088565_070223</td>\n      <td>13:58:08</td>\n      <td>13:58:08</td>\n      <td>3522</td>\n      <td>35</td>\n      <td>1</td>\n      <td>0</td>\n      <td>18154.0</td>\n    </tr>\n  </tbody>\n</table>\n</div>"
     },
     "execution_count": 50,
     "metadata": {},
     "output_type": "execute_result"
    }
   ],
   "source": [
    "stop_times[stop_times.trip_id == \"7088565_070223\"]"
   ],
   "metadata": {
    "collapsed": false,
    "ExecuteTime": {
     "end_time": "2023-09-12T20:42:42.110610Z",
     "start_time": "2023-09-12T20:42:42.091201Z"
    }
   },
   "id": "45e05e9c2f77974f"
  },
  {
   "cell_type": "code",
   "execution_count": 44,
   "outputs": [
    {
     "data": {
      "text/plain": "     stop_id stop_code  stop_name                                 stop_desc  \\\n1466    1868     40985  פיקא/הראל  רחוב: דרך פיק''א עיר: חיפה רציף:  קומה:    \n\n      stop_lat   stop_lon  location_type parent_station zone_id  \n1466  32.78773  34.991575              0            NaN   40985  ",
      "text/html": "<div>\n<style scoped>\n    .dataframe tbody tr th:only-of-type {\n        vertical-align: middle;\n    }\n\n    .dataframe tbody tr th {\n        vertical-align: top;\n    }\n\n    .dataframe thead th {\n        text-align: right;\n    }\n</style>\n<table border=\"1\" class=\"dataframe\">\n  <thead>\n    <tr style=\"text-align: right;\">\n      <th></th>\n      <th>stop_id</th>\n      <th>stop_code</th>\n      <th>stop_name</th>\n      <th>stop_desc</th>\n      <th>stop_lat</th>\n      <th>stop_lon</th>\n      <th>location_type</th>\n      <th>parent_station</th>\n      <th>zone_id</th>\n    </tr>\n  </thead>\n  <tbody>\n    <tr>\n      <th>1466</th>\n      <td>1868</td>\n      <td>40985</td>\n      <td>פיקא/הראל</td>\n      <td>רחוב: דרך פיק''א עיר: חיפה רציף:  קומה:</td>\n      <td>32.78773</td>\n      <td>34.991575</td>\n      <td>0</td>\n      <td>NaN</td>\n      <td>40985</td>\n    </tr>\n  </tbody>\n</table>\n</div>"
     },
     "execution_count": 44,
     "metadata": {},
     "output_type": "execute_result"
    }
   ],
   "source": [
    "stops[stops.stop_id == \"1868\"]"
   ],
   "metadata": {
    "collapsed": false,
    "ExecuteTime": {
     "end_time": "2023-09-12T20:39:57.875482Z",
     "start_time": "2023-09-12T20:39:57.858782Z"
    }
   },
   "id": "52a59723536c5900"
  },
  {
   "cell_type": "code",
   "execution_count": 51,
   "outputs": [
    {
     "data": {
      "text/plain": "        shape_id  shape_pt_lat  shape_pt_lon  shape_pt_sequence\n0          44779     31.887695     35.016271                  1\n1          44779     31.887745     35.016253                  2\n2          44779     31.888256     35.016238                  3\n3          44779     31.888913     35.016280                  4\n4          44779     31.888917     35.016892                  5\n...          ...           ...           ...                ...\n7493886   141278     31.726614     34.750093                538\n7493887   141278     31.726636     34.750140                539\n7493888   141278     31.726649     34.750155                540\n7493889   141278     31.726290     34.750725                541\n7493890   141278     31.725573     34.751929                542\n\n[7493891 rows x 4 columns]",
      "text/html": "<div>\n<style scoped>\n    .dataframe tbody tr th:only-of-type {\n        vertical-align: middle;\n    }\n\n    .dataframe tbody tr th {\n        vertical-align: top;\n    }\n\n    .dataframe thead th {\n        text-align: right;\n    }\n</style>\n<table border=\"1\" class=\"dataframe\">\n  <thead>\n    <tr style=\"text-align: right;\">\n      <th></th>\n      <th>shape_id</th>\n      <th>shape_pt_lat</th>\n      <th>shape_pt_lon</th>\n      <th>shape_pt_sequence</th>\n    </tr>\n  </thead>\n  <tbody>\n    <tr>\n      <th>0</th>\n      <td>44779</td>\n      <td>31.887695</td>\n      <td>35.016271</td>\n      <td>1</td>\n    </tr>\n    <tr>\n      <th>1</th>\n      <td>44779</td>\n      <td>31.887745</td>\n      <td>35.016253</td>\n      <td>2</td>\n    </tr>\n    <tr>\n      <th>2</th>\n      <td>44779</td>\n      <td>31.888256</td>\n      <td>35.016238</td>\n      <td>3</td>\n    </tr>\n    <tr>\n      <th>3</th>\n      <td>44779</td>\n      <td>31.888913</td>\n      <td>35.016280</td>\n      <td>4</td>\n    </tr>\n    <tr>\n      <th>4</th>\n      <td>44779</td>\n      <td>31.888917</td>\n      <td>35.016892</td>\n      <td>5</td>\n    </tr>\n    <tr>\n      <th>...</th>\n      <td>...</td>\n      <td>...</td>\n      <td>...</td>\n      <td>...</td>\n    </tr>\n    <tr>\n      <th>7493886</th>\n      <td>141278</td>\n      <td>31.726614</td>\n      <td>34.750093</td>\n      <td>538</td>\n    </tr>\n    <tr>\n      <th>7493887</th>\n      <td>141278</td>\n      <td>31.726636</td>\n      <td>34.750140</td>\n      <td>539</td>\n    </tr>\n    <tr>\n      <th>7493888</th>\n      <td>141278</td>\n      <td>31.726649</td>\n      <td>34.750155</td>\n      <td>540</td>\n    </tr>\n    <tr>\n      <th>7493889</th>\n      <td>141278</td>\n      <td>31.726290</td>\n      <td>34.750725</td>\n      <td>541</td>\n    </tr>\n    <tr>\n      <th>7493890</th>\n      <td>141278</td>\n      <td>31.725573</td>\n      <td>34.751929</td>\n      <td>542</td>\n    </tr>\n  </tbody>\n</table>\n<p>7493891 rows × 4 columns</p>\n</div>"
     },
     "execution_count": 51,
     "metadata": {},
     "output_type": "execute_result"
    }
   ],
   "source": [
    "shapes"
   ],
   "metadata": {
    "collapsed": false,
    "ExecuteTime": {
     "end_time": "2023-09-12T21:03:26.795125Z",
     "start_time": "2023-09-12T21:03:26.778894Z"
    }
   },
   "id": "3125b993b9fab30a"
  },
  {
   "cell_type": "code",
   "execution_count": 8,
   "outputs": [],
   "source": [
    "routes = feed.routes\n",
    "trips = feed.trips\n",
    "stops = feed.stops\n",
    "stop_times = feed.stop_times\n",
    "shapes = feed.shapes"
   ],
   "metadata": {
    "collapsed": false,
    "ExecuteTime": {
     "end_time": "2023-09-12T19:42:55.188416Z",
     "start_time": "2023-09-12T19:42:55.154142Z"
    }
   },
   "id": "8ad711c0d3e84b78"
  },
  {
   "cell_type": "code",
   "execution_count": 14,
   "outputs": [
    {
     "data": {
      "text/plain": "<gtfs_kit.feed.Feed at 0x7fba4a7b88e0>"
     },
     "execution_count": 14,
     "metadata": {},
     "output_type": "execute_result"
    }
   ],
   "source": [
    "feed.map_routes(feed.routes.route_id.iloc[:], include_stops=False)"
   ],
   "metadata": {
    "collapsed": false,
    "ExecuteTime": {
     "end_time": "2023-09-12T19:43:33.084428Z",
     "start_time": "2023-09-12T19:43:33.077863Z"
    }
   },
   "id": "9f224f747d4ca674"
  },
  {
   "cell_type": "code",
   "execution_count": 15,
   "outputs": [
    {
     "data": {
      "text/plain": "                trip_id arrival_time departure_time stop_id  stop_sequence  \\\n0              1_070223     05:10:00       05:10:00   38725              1   \n1              1_070223     05:12:23       05:12:23   15582              2   \n2              1_070223     05:13:20       05:13:20   15583              3   \n3              1_070223     05:14:31       05:14:31   16086              4   \n4              1_070223     05:15:09       05:15:09   16085              5   \n...                 ...          ...            ...     ...            ...   \n7010843  9999194_080223     20:19:45       20:19:45    9272             47   \n7010844  9999194_080223     20:20:59       20:20:59   11495             48   \n7010845  9999194_080223     20:21:59       20:21:59    9550             49   \n7010846  9999194_080223     20:22:36       20:22:36   10483             50   \n7010847  9999194_080223     20:23:01       20:23:01   11809             51   \n\n         pickup_type  drop_off_type  shape_dist_traveled  \n0                  0              1                  0.0  \n1                  0              0                714.0  \n2                  0              0               1215.0  \n3                  0              0               1791.0  \n4                  0              0               2152.0  \n...              ...            ...                  ...  \n7010843            0              0              12667.0  \n7010844            0              0              12971.0  \n7010845            0              0              13238.0  \n7010846            0              0              13396.0  \n7010847            1              0              13598.0  \n\n[7010848 rows x 8 columns]",
      "text/html": "<div>\n<style scoped>\n    .dataframe tbody tr th:only-of-type {\n        vertical-align: middle;\n    }\n\n    .dataframe tbody tr th {\n        vertical-align: top;\n    }\n\n    .dataframe thead th {\n        text-align: right;\n    }\n</style>\n<table border=\"1\" class=\"dataframe\">\n  <thead>\n    <tr style=\"text-align: right;\">\n      <th></th>\n      <th>trip_id</th>\n      <th>arrival_time</th>\n      <th>departure_time</th>\n      <th>stop_id</th>\n      <th>stop_sequence</th>\n      <th>pickup_type</th>\n      <th>drop_off_type</th>\n      <th>shape_dist_traveled</th>\n    </tr>\n  </thead>\n  <tbody>\n    <tr>\n      <th>0</th>\n      <td>1_070223</td>\n      <td>05:10:00</td>\n      <td>05:10:00</td>\n      <td>38725</td>\n      <td>1</td>\n      <td>0</td>\n      <td>1</td>\n      <td>0.0</td>\n    </tr>\n    <tr>\n      <th>1</th>\n      <td>1_070223</td>\n      <td>05:12:23</td>\n      <td>05:12:23</td>\n      <td>15582</td>\n      <td>2</td>\n      <td>0</td>\n      <td>0</td>\n      <td>714.0</td>\n    </tr>\n    <tr>\n      <th>2</th>\n      <td>1_070223</td>\n      <td>05:13:20</td>\n      <td>05:13:20</td>\n      <td>15583</td>\n      <td>3</td>\n      <td>0</td>\n      <td>0</td>\n      <td>1215.0</td>\n    </tr>\n    <tr>\n      <th>3</th>\n      <td>1_070223</td>\n      <td>05:14:31</td>\n      <td>05:14:31</td>\n      <td>16086</td>\n      <td>4</td>\n      <td>0</td>\n      <td>0</td>\n      <td>1791.0</td>\n    </tr>\n    <tr>\n      <th>4</th>\n      <td>1_070223</td>\n      <td>05:15:09</td>\n      <td>05:15:09</td>\n      <td>16085</td>\n      <td>5</td>\n      <td>0</td>\n      <td>0</td>\n      <td>2152.0</td>\n    </tr>\n    <tr>\n      <th>...</th>\n      <td>...</td>\n      <td>...</td>\n      <td>...</td>\n      <td>...</td>\n      <td>...</td>\n      <td>...</td>\n      <td>...</td>\n      <td>...</td>\n    </tr>\n    <tr>\n      <th>7010843</th>\n      <td>9999194_080223</td>\n      <td>20:19:45</td>\n      <td>20:19:45</td>\n      <td>9272</td>\n      <td>47</td>\n      <td>0</td>\n      <td>0</td>\n      <td>12667.0</td>\n    </tr>\n    <tr>\n      <th>7010844</th>\n      <td>9999194_080223</td>\n      <td>20:20:59</td>\n      <td>20:20:59</td>\n      <td>11495</td>\n      <td>48</td>\n      <td>0</td>\n      <td>0</td>\n      <td>12971.0</td>\n    </tr>\n    <tr>\n      <th>7010845</th>\n      <td>9999194_080223</td>\n      <td>20:21:59</td>\n      <td>20:21:59</td>\n      <td>9550</td>\n      <td>49</td>\n      <td>0</td>\n      <td>0</td>\n      <td>13238.0</td>\n    </tr>\n    <tr>\n      <th>7010846</th>\n      <td>9999194_080223</td>\n      <td>20:22:36</td>\n      <td>20:22:36</td>\n      <td>10483</td>\n      <td>50</td>\n      <td>0</td>\n      <td>0</td>\n      <td>13396.0</td>\n    </tr>\n    <tr>\n      <th>7010847</th>\n      <td>9999194_080223</td>\n      <td>20:23:01</td>\n      <td>20:23:01</td>\n      <td>11809</td>\n      <td>51</td>\n      <td>1</td>\n      <td>0</td>\n      <td>13598.0</td>\n    </tr>\n  </tbody>\n</table>\n<p>7010848 rows × 8 columns</p>\n</div>"
     },
     "execution_count": 15,
     "metadata": {},
     "output_type": "execute_result"
    }
   ],
   "source": [
    "stop_times"
   ],
   "metadata": {
    "collapsed": false,
    "ExecuteTime": {
     "end_time": "2023-09-12T19:44:56.844505Z",
     "start_time": "2023-09-12T19:44:56.814907Z"
    }
   },
   "id": "e104094d810ffaa9"
  },
  {
   "cell_type": "code",
   "execution_count": 9,
   "outputs": [
    {
     "ename": "AttributeError",
     "evalue": "'Feed' object has no attribute 'segments'",
     "output_type": "error",
     "traceback": [
      "\u001B[0;31m---------------------------------------------------------------------------\u001B[0m",
      "\u001B[0;31mAttributeError\u001B[0m                            Traceback (most recent call last)",
      "\u001B[0;32m/var/folders/0b/t8rt5b356vx0nj96957ylbxh0000gn/T/ipykernel_14734/4265266936.py\u001B[0m in \u001B[0;36m<module>\u001B[0;34m\u001B[0m\n\u001B[0;32m----> 1\u001B[0;31m \u001B[0msegments_gdf\u001B[0m \u001B[0;34m=\u001B[0m \u001B[0mfeed\u001B[0m\u001B[0;34m.\u001B[0m\u001B[0msegments\u001B[0m\u001B[0;34m\u001B[0m\u001B[0;34m\u001B[0m\u001B[0m\n\u001B[0m\u001B[1;32m      2\u001B[0m \u001B[0;34m\u001B[0m\u001B[0m\n",
      "\u001B[0;31mAttributeError\u001B[0m: 'Feed' object has no attribute 'segments'"
     ]
    }
   ],
   "source": [
    "segments_gdf = feed.segments\n"
   ],
   "metadata": {
    "collapsed": false,
    "ExecuteTime": {
     "end_time": "2023-09-12T19:42:57.900080Z",
     "start_time": "2023-09-12T19:42:57.492693Z"
    }
   },
   "id": "c67dceb05e6a7a6d"
  },
  {
   "cell_type": "code",
   "execution_count": 30,
   "outputs": [
    {
     "ename": "NameError",
     "evalue": "name 'segments_gdf' is not defined",
     "output_type": "error",
     "traceback": [
      "\u001B[0;31m---------------------------------------------------------------------------\u001B[0m",
      "\u001B[0;31mNameError\u001B[0m                                 Traceback (most recent call last)",
      "\u001B[0;32m/var/folders/0b/t8rt5b356vx0nj96957ylbxh0000gn/T/ipykernel_13443/2408843495.py\u001B[0m in \u001B[0;36m<module>\u001B[0;34m\u001B[0m\n\u001B[0;32m----> 1\u001B[0;31m \u001B[0msegments_gdf\u001B[0m\u001B[0;34m\u001B[0m\u001B[0;34m\u001B[0m\u001B[0m\n\u001B[0m",
      "\u001B[0;31mNameError\u001B[0m: name 'segments_gdf' is not defined"
     ]
    }
   ],
   "source": [
    "segments_gdf"
   ],
   "metadata": {
    "collapsed": false,
    "ExecuteTime": {
     "end_time": "2023-09-12T19:35:26.459944Z",
     "start_time": "2023-09-12T19:35:26.453669Z"
    }
   },
   "id": "a74223625db20327"
  },
  {
   "cell_type": "code",
   "execution_count": 12,
   "outputs": [
    {
     "ename": "AttributeError",
     "evalue": "'Feed' object has no attribute 'segments_freq'",
     "output_type": "error",
     "traceback": [
      "\u001B[0;31m---------------------------------------------------------------------------\u001B[0m",
      "\u001B[0;31mAttributeError\u001B[0m                            Traceback (most recent call last)",
      "\u001B[0;32m/var/folders/0b/t8rt5b356vx0nj96957ylbxh0000gn/T/ipykernel_14734/546434842.py\u001B[0m in \u001B[0;36m<module>\u001B[0;34m\u001B[0m\n\u001B[0;32m----> 1\u001B[0;31m \u001B[0msegment_freq\u001B[0m \u001B[0;34m=\u001B[0m \u001B[0mfeed\u001B[0m\u001B[0;34m.\u001B[0m\u001B[0msegments_freq\u001B[0m\u001B[0;34m\u001B[0m\u001B[0;34m\u001B[0m\u001B[0m\n\u001B[0m",
      "\u001B[0;31mAttributeError\u001B[0m: 'Feed' object has no attribute 'segments_freq'"
     ]
    }
   ],
   "source": [
    "segment_freq = feed.segments_freq"
   ],
   "metadata": {
    "collapsed": false,
    "ExecuteTime": {
     "end_time": "2023-09-12T19:43:27.612989Z",
     "start_time": "2023-09-12T19:43:27.599287Z"
    }
   },
   "id": "f5e0484debd7433a"
  },
  {
   "cell_type": "code",
   "execution_count": 13,
   "outputs": [
    {
     "ename": "NameError",
     "evalue": "name 'segment_freq' is not defined",
     "output_type": "error",
     "traceback": [
      "\u001B[0;31m---------------------------------------------------------------------------\u001B[0m",
      "\u001B[0;31mNameError\u001B[0m                                 Traceback (most recent call last)",
      "\u001B[0;32m/var/folders/0b/t8rt5b356vx0nj96957ylbxh0000gn/T/ipykernel_14734/3818445192.py\u001B[0m in \u001B[0;36m<module>\u001B[0;34m\u001B[0m\n\u001B[0;32m----> 1\u001B[0;31m \u001B[0msegment_freq\u001B[0m\u001B[0;34m\u001B[0m\u001B[0;34m\u001B[0m\u001B[0m\n\u001B[0m",
      "\u001B[0;31mNameError\u001B[0m: name 'segment_freq' is not defined"
     ]
    }
   ],
   "source": [
    "segment_freq"
   ],
   "metadata": {
    "collapsed": false,
    "ExecuteTime": {
     "end_time": "2023-09-12T19:43:28.885324Z",
     "start_time": "2023-09-12T19:43:28.882376Z"
    }
   },
   "id": "cbac5a09a2f1cab6"
  }
 ],
 "metadata": {
  "kernelspec": {
   "display_name": "Python 3",
   "language": "python",
   "name": "python3"
  },
  "language_info": {
   "codemirror_mode": {
    "name": "ipython",
    "version": 2
   },
   "file_extension": ".py",
   "mimetype": "text/x-python",
   "name": "python",
   "nbconvert_exporter": "python",
   "pygments_lexer": "ipython2",
   "version": "2.7.6"
  }
 },
 "nbformat": 4,
 "nbformat_minor": 5
}
