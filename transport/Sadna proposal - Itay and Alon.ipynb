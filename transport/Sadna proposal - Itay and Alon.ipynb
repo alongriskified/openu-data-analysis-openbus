{
 "cells": [
  {
   "cell_type": "markdown",
   "id": "7056016b0dc67b99",
   "metadata": {},
   "source": [
    "# Open University Data Analysis Workshop Project\n",
    "\n",
    "Served by:\n",
    "Itay Cohen - 209146158\n",
    "Alon Gilda - 209146224\n",
    "\n",
    "## Project Goal\n",
    "\n",
    "The goal of this project is to give us users a better way to plan their trips using public transportation.\n",
    " \n",
    "Often times when we plan a trip using public transportation and we count on the timings specified by the public transportation companies, we find ourselves waiting for the bus for a long time, or even worse, missing the bus and having to wait for the next one.\n",
    "\n",
    "This project aims to solve this problem by using real-time data to predict the arrival time of the bus to the station, and to give the user a better estimation of the arrival time of the bus to the station.\n",
    "\n",
    "## Motivation\n",
    "\n",
    "We both live outside of Tel Aviv and have a long commute to work.\n",
    "\n",
    "We prefer to relay on public transportation rather than driving to work.\n",
    "\n",
    "Current applications and methods in Israel are far from accurate. We find ourselves not trusting the applications and prefer to use our own estimations based on our personal experience.\n",
    "\n",
    "We believe that we can use the data that is available to us to create a better estimation of the arrival time of the bus to the station.\n",
    "\n",
    "\n"
   ]
  },
  {
   "cell_type": "markdown",
   "id": "5b5bfe63540a57a1",
   "metadata": {},
   "source": [
    "# Data introduction\n",
    "\n",
    "There is a lot of data around public transportation methods, most of it relies on government source.\n",
    "\n",
    "These sources listed below, are what we found best to describe the data we need to create our model. \n",
    "\n",
    "### GTFS\n",
    "\n",
    "GTFS is a standard format for public transportation data. It is used by many public transportation companies around the world.\n",
    "\n",
    "In Israel, GTFS data is being published in government websites, as long with some other private archives.\n",
    " \n",
    "You can find here a detailed example of what GTFS data looks like:\n",
    "\n",
    "[https://transitfeeds.com/p/ministry-of-transport-and-road-safety/820/latest/routes](https://transitfeeds.com/p/ministry-of-transport-and-road-safety/820/latest/routes)\n",
    "\n",
    "*GTFS Data only contains planned data, and does not contain real-time data.*\n",
    "\n",
    "### SIRI (Real time data)\n",
    "\n",
    "SIRI Data is the Israeli government name for it's real-time bus API.\n",
    "\n",
    "It's being published by a specific API upon request, and gives the opportunity to log real time data.\n",
    "\n",
    "[https://www.gov.il/he/departments/general/real_time_information_siri](https://www.gov.il/he/departments/general/real_time_information_siri)\n",
    "\n",
    "### Hasadna - Open Bus\n",
    "\n",
    "Hasadna is a non-profit organization, based on volunteers, that collects data from the Israeli government and publishes it to the public.\n",
    "\n",
    "\n",
    "Open Bus is a project by Hasadna that collects data from the SIRI API and publishes it to the public.\n",
    "\n",
    "They log the data into servers and allow querying it via an API called Stride.\n",
    "\n",
    "Hasadna Site : [www.hasadna.org.il](www.hasadna.org.il)"
   ]
  },
  {
   "cell_type": "markdown",
   "id": "8c6d6de2-3cb8-4744-a18e-fc51b8e29fb9",
   "metadata": {
    "tags": []
   },
   "source": [
    "\n",
    "### Install dependencies\n",
    "\n",
    "This notebook requires two dependencies which can be installed with the following command `pip install pandas open-bus-stride-client`.\n"
   ]
  },
  {
   "cell_type": "code",
   "execution_count": null,
   "outputs": [],
   "source": [
    "import pandas as pd\n",
    "import math\n",
    "import stride\n",
    "import plotly.express as px\n",
    "import seaborn as sns"
   ],
   "metadata": {
    "collapsed": false
   },
   "id": "a11d1d1a9b4fdda4"
  },
  {
   "cell_type": "markdown",
   "id": "747cc347-526d-4c53-963b-87723ea792ff",
   "metadata": {},
   "source": [
    "# Routes to investigate\n",
    "\n",
    "For the purpose of this project initial show, we've decided to showcase the data and the workflow for only 2 lines.\n",
    "\n",
    "In the real work we will aim to use more lines and more data, depends on the computational limitations we will have.\n",
    "\n",
    "We chose two specific lines and queried them offline via the transitfeeds website:\n",
    "\n",
    "* 970 Haifa <> Bnei Brak -- Egged -- line ref: 19713, operator ref: 3\n",
    "* 202 Pardes hana <> Hof Carmel -- Egged -- line ref: 19717, operator ref: 3"
   ]
  },
  {
   "cell_type": "markdown",
   "id": "23476f8b0b0dca20",
   "metadata": {},
   "source": [
    "# Load GTFS Data"
   ]
  },
  {
   "cell_type": "code",
   "execution_count": null,
   "id": "1da4b7e52625bff9",
   "metadata": {},
   "outputs": [],
   "source": [
    "# Open bus stride API\n",
    "# https://open-bus-stride-api.hasadna.org.il/docs#/user%20cases/list__stop_arrivals_list_get"
   ]
  },
  {
   "cell_type": "code",
   "outputs": [],
   "source": [
    "import DataFetcher"
   ],
   "metadata": {
    "collapsed": false,
    "ExecuteTime": {
     "end_time": "2024-01-24T19:35:14.312030Z",
     "start_time": "2024-01-24T19:35:14.137973Z"
    }
   },
   "id": "a98f5c7f784a2369",
   "execution_count": 70
  },
  {
   "cell_type": "code",
   "outputs": [],
   "source": [],
   "metadata": {
    "collapsed": false
   },
   "id": "6ce59dd2bcb90864"
  },
  {
   "cell_type": "code",
   "outputs": [],
   "source": [],
   "metadata": {
    "collapsed": false
   },
   "id": "9c02acc1fe44adba"
  },
  {
   "cell_type": "code",
   "outputs": [],
   "source": [
    "\n",
    "lines = [123, 202, 921, 970, 148, 55, 82, 17, 18, 138, 70]\n",
    "TIME_PERIOD_TEST = {\n",
    "    'start': '2023-01-01T00:00:00+03:00',\n",
    "    'end': '2023-01-10T00:00:00+03:00' # todo - change this whole year\n",
    "}\n",
    "\n",
    "TIME_PERIOD_TRAIN = {\n",
    "    'start': '2022-01-01T00:00:00+03:00',\n",
    "    'end': '2022-01-10T00:00:00+03:00' # todo - change this whole year\n",
    "}"
   ],
   "metadata": {
    "collapsed": false,
    "ExecuteTime": {
     "end_time": "2024-01-24T19:30:04.306355Z",
     "start_time": "2024-01-24T19:30:04.108086Z"
    }
   },
   "id": "f3187ff053e02c24",
   "execution_count": 69
  },
  {
   "cell_type": "code",
   "outputs": [],
   "source": [],
   "metadata": {
    "collapsed": false
   },
   "id": "e2ed8683d430ba12"
  },
  {
   "cell_type": "code",
   "outputs": [],
   "source": [
    "\n",
    "\n",
    "lines_data = pd.DataFrame()\n",
    "\n",
    "# Iterate each line and append to the lines_data dataframe\n",
    "for line in lines:\n",
    "    new_line_by_short_name = pd.DataFrame(\n",
    "            stride.iterate('/gtfs_routes/list',   {\n",
    "                \"route_short_name\": line,\n",
    "                \"limit\": 5\n",
    "          }, limit = 5)\n",
    "    )\n",
    "    \n",
    "    lines_data = lines_data.append(new_line_by_short_name)"
   ],
   "metadata": {
    "collapsed": false
   },
   "id": "c965a00804079a6a",
   "execution_count": null
  },
  {
   "cell_type": "code",
   "outputs": [],
   "source": [
    "lines_data"
   ],
   "metadata": {
    "collapsed": false
   },
   "id": "90562c28858f5f8c",
   "execution_count": null
  },
  {
   "cell_type": "code",
   "outputs": [],
   "source": [
    "# lines_data.to_csv(\"lines_data.csv\")"
   ],
   "metadata": {
    "collapsed": false
   },
   "id": "e434a217a8af0b8"
  },
  {
   "cell_type": "code",
   "outputs": [],
   "source": [
    "line_refs_unq = lines_data[\"line_ref\"].unique()\n",
    "unique_operator_ref = lines_data[\"operator_ref\"].unique()"
   ],
   "metadata": {
    "collapsed": false
   },
   "id": "7f6b1c62c4bf1051",
   "execution_count": null
  },
  {
   "cell_type": "code",
   "outputs": [],
   "source": [
    "siri_line_ids = pd.DataFrame(\n",
    "    stride.iterate('/siri_routes/list',   {\n",
    "        \"operator_refs\": \",\".join([str(opr_ref) for opr_ref in unique_operator_ref]),\n",
    "        \"line_refs\": \",\".join([str(line_ref) for line_ref in line_refs_unq]),\n",
    "        \"limit\": 10000\n",
    "  }, limit = 10000)\n",
    ")\n",
    "\n",
    "# join lines data with siri route names\n",
    "lines_data = lines_data.merge(siri_line_ids, left_on = [\"operator_ref\", \"line_ref\"], right_on = [\"operator_ref\", \"line_ref\"], suffixes=(\"_gtfs\", \"_siri\"))"
   ],
   "metadata": {
    "collapsed": false
   },
   "id": "f63c7151e340a33a",
   "execution_count": null
  },
  {
   "cell_type": "code",
   "outputs": [],
   "source": [],
   "metadata": {
    "collapsed": false
   },
   "id": "543fbfcd817d8b1a"
  },
  {
   "cell_type": "code",
   "execution_count": null,
   "id": "96c2f61f85d53c99",
   "metadata": {},
   "outputs": [],
   "source": [
    "# Get GTFS Data\n",
    "gtfs_data_all_stops_per_route = pd.DataFrame(\n",
    "    stride.iterate('/route_timetable/list',   {\n",
    "        \"planned_start_time_date_from\": \"2023-08-01T00:00:00+03:00\",\n",
    "        \"planned_start_time_date_to\": \"2023-08-02T00:00:00+03:00\",\n",
    "        \"line_refs\": \",\".join([str(line_ref) for line_ref in line_refs_unq]),\n",
    "        \"limit\": 10000\n",
    "  }, limit = 10000)\n",
    ")"
   ]
  },
  {
   "cell_type": "code",
   "outputs": [],
   "source": [
    "gtfs_data_all_stops_per_route"
   ],
   "metadata": {
    "collapsed": false
   },
   "id": "c04866e800089c24",
   "execution_count": null
  },
  {
   "cell_type": "code",
   "outputs": [],
   "source": [
    "gtfs_data_all_stops_per_route.to_csv(\"gtfs_data_all_stops_per_route.csv\")"
   ],
   "metadata": {
    "collapsed": false
   },
   "id": "31da3b33ae062fca",
   "execution_count": null
  },
  {
   "cell_type": "code",
   "outputs": [],
   "source": [
    "gtfs_data_all_stops_per_route = pd.read_csv(\"gtfs_data_all_stops_per_route.csv\")"
   ],
   "metadata": {
    "collapsed": false
   },
   "id": "1dadfc8e4fb1cf5b",
   "execution_count": null
  },
  {
   "cell_type": "code",
   "outputs": [],
   "source": [
    "# Get GTFS Data\n",
    "siri_data_all_stops_per_route = pd.DataFrame(\n",
    "    stride.iterate('/siri_rides/list',   {\n",
    "        \"gtfs_ride__start_time_from\": \"2023-08-01T00:00:00+03:00\",\n",
    "        \"gtfs_ride__start_time_to\": \"2023-08-02T00:00:00+03:00\",\n",
    "        \"gtfs_route__line_refs\": \",\".join([str(line_ref) for line_ref in line_refs_unq]),\n",
    "        \"limit\": 10000\n",
    "  }, limit = 10000)\n",
    ")"
   ],
   "metadata": {
    "collapsed": false
   },
   "id": "f51cffdc03157fc6",
   "execution_count": null
  },
  {
   "cell_type": "code",
   "outputs": [
    {
     "data": {
      "text/plain": "            id  siri_route_id           journey_ref      scheduled_start_time  \\\n0     45074730           2433   2023-07-31-36723838 2023-07-30 21:00:00+00:00   \n1     45074731           2437   2023-07-31-22387075 2023-07-30 21:00:00+00:00   \n2     45074988            184  2023-07-31-584714129 2023-07-30 21:10:00+00:00   \n3     45075098            666    2023-07-31-2974253 2023-07-30 21:15:00+00:00   \n4     45075125           6121   2023-07-31-18622316 2023-07-30 21:15:00+00:00   \n...        ...            ...                   ...                       ...   \n1114  45293471           3290    2023-08-01-9796861 2023-08-01 19:50:00+00:00   \n1115  45293602           4366  2023-08-01-585019478 2023-08-01 20:00:00+00:00   \n1116  45293632           2433   2023-08-01-25952386 2023-08-01 19:30:00+00:00   \n1117  45293633           2437   2023-08-01-13422017 2023-08-01 20:00:00+00:00   \n1118  45293634           2437    2023-08-01-9698859 2023-08-01 19:30:00+00:00   \n\n     vehicle_ref updated_first_last_vehicle_locations  \\\n0        5748287     2023-07-30 21:56:07.784634+00:00   \n1        5750787     2023-07-30 21:56:08.050406+00:00   \n2        9269501     2023-07-30 21:58:07.363981+00:00   \n3        9226601     2023-07-31 01:45:10.114716+00:00   \n4        7613869     2023-07-31 01:45:16.985663+00:00   \n...          ...                                  ...   \n1114    30684903     2023-08-01 23:10:59.972846+00:00   \n1115    35398902     2023-08-01 23:11:44.203225+00:00   \n1116     5750087     2023-08-01 23:11:53.788182+00:00   \n1117     5595587     2023-08-01 23:11:54.134107+00:00   \n1118    30684103     2023-08-01 23:11:54.445786+00:00   \n\n      first_vehicle_location_id  last_vehicle_location_id  \\\n0                    2413029205                2413111021   \n1                    2413029214                2413114627   \n2                    2413047567                2413114844   \n3                    2413058522                2413132138   \n4                    2413059341                2413172517   \n...                         ...                       ...   \n1114                 2425866740                2425877667   \n1115                 2425869369                2425898728   \n1116                 2425870942                2425881789   \n1117                 2425870959                2425920259   \n1118                 2425870961                2425907883   \n\n             updated_duration_minutes  duration_minutes  ...  \\\n0    2023-07-31 04:48:55.650139+00:00                50  ...   \n1    2023-07-31 04:48:55.918939+00:00                53  ...   \n2    2023-07-31 04:49:18.796646+00:00                44  ...   \n3    2023-07-31 05:18:20.534830+00:00                55  ...   \n4    2023-07-31 05:18:27.775625+00:00               125  ...   \n...                               ...               ...  ...   \n1114 2023-08-02 03:00:41.933398+00:00                 5  ...   \n1115 2023-08-02 03:01:27.862198+00:00                14  ...   \n1116 2023-08-02 03:01:38.420581+00:00                 4  ...   \n1117 2023-08-02 03:01:38.741109+00:00                19  ...   \n1118 2023-08-02 03:01:39.123083+00:00                16  ...   \n\n      gtfs_route__date  gtfs_route__line_ref  gtfs_route__operator_ref  \\\n0           2023-08-01                 10533                        18   \n1           2023-08-01                 10534                        18   \n2           2023-08-01                  2542                         5   \n3           2023-08-01                  2328                         5   \n4           2023-08-01                  6821                         3   \n...                ...                   ...                       ...   \n1114        2023-08-01                 11016                        18   \n1115        2023-08-01                 11197                        18   \n1116        2023-08-01                 10533                        18   \n1117        2023-08-01                 10534                        18   \n1118        2023-08-01                 10534                        18   \n\n      gtfs_route__route_short_name  \\\n0                              148   \n1                              148   \n2                               70   \n3                               18   \n4                              970   \n...                            ...   \n1114                           138   \n1115                           202   \n1116                           148   \n1117                           148   \n1118                           148   \n\n                            gtfs_route__route_long_name  \\\n0     קדושת לוי/שלום רב-ביתר עילית<->יוסף קארו/בן אי...   \n1     בן איש חי/יוסף קארו-בית שמש<->קדושת לוי/אוהל ש...   \n2     ת.מרכזית תל אביב קומה 7/רציפים-תל אביב יפו<->ב...   \n3     ת.רכבת תל אביב - סבידור/רציפים C-תל אביב יפו<-...   \n4     חזון אי''ש/האדמור מנדבורנא-בני ברק<->ערד/סובה-...   \n...                                                 ...   \n1114  ת. רכבת בית שמש-בית שמש<->הר''ן/קדושת לוי-ביתר...   \n1115  ת. רכבת קרית אריה-פתח תקווה<->שדרות החשמונאים/...   \n1116  קדושת לוי/שלום רב-ביתר עילית<->יוסף קארו/בן אי...   \n1117  בן איש חי/יוסף קארו-בית שמש<->קדושת לוי/אוהל ש...   \n1118  בן איש חי/יוסף קארו-בית שמש<->קדושת לוי/אוהל ש...   \n\n      gtfs_route__route_mkt gtfs_route__route_direction  \\\n0                     12148                           1   \n1                     12148                           2   \n2                     20070                           1   \n3                     22018                           1   \n4                     10970                           1   \n...                     ...                         ...   \n1114                  11138                           2   \n1115                  11202                           2   \n1116                  12148                           1   \n1117                  12148                           2   \n1118                  12148                           2   \n\n     gtfs_route__route_alternative gtfs_route__agency_name  \\\n0                                #                   קווים   \n1                                #                   קווים   \n2                                0                      דן   \n3                                0                      דן   \n4                                5                     אגד   \n...                            ...                     ...   \n1114                             #                   קווים   \n1115                             0                   קווים   \n1116                             #                   קווים   \n1117                             #                   קווים   \n1118                             #                   קווים   \n\n     gtfs_route__route_type  \n0                         3  \n1                         3  \n2                         3  \n3                         3  \n4                         3  \n...                     ...  \n1114                      3  \n1115                      3  \n1116                      3  \n1117                      3  \n1118                      3  \n\n[1119 rows x 29 columns]",
      "text/html": "<div>\n<style scoped>\n    .dataframe tbody tr th:only-of-type {\n        vertical-align: middle;\n    }\n\n    .dataframe tbody tr th {\n        vertical-align: top;\n    }\n\n    .dataframe thead th {\n        text-align: right;\n    }\n</style>\n<table border=\"1\" class=\"dataframe\">\n  <thead>\n    <tr style=\"text-align: right;\">\n      <th></th>\n      <th>id</th>\n      <th>siri_route_id</th>\n      <th>journey_ref</th>\n      <th>scheduled_start_time</th>\n      <th>vehicle_ref</th>\n      <th>updated_first_last_vehicle_locations</th>\n      <th>first_vehicle_location_id</th>\n      <th>last_vehicle_location_id</th>\n      <th>updated_duration_minutes</th>\n      <th>duration_minutes</th>\n      <th>...</th>\n      <th>gtfs_route__date</th>\n      <th>gtfs_route__line_ref</th>\n      <th>gtfs_route__operator_ref</th>\n      <th>gtfs_route__route_short_name</th>\n      <th>gtfs_route__route_long_name</th>\n      <th>gtfs_route__route_mkt</th>\n      <th>gtfs_route__route_direction</th>\n      <th>gtfs_route__route_alternative</th>\n      <th>gtfs_route__agency_name</th>\n      <th>gtfs_route__route_type</th>\n    </tr>\n  </thead>\n  <tbody>\n    <tr>\n      <th>0</th>\n      <td>45074730</td>\n      <td>2433</td>\n      <td>2023-07-31-36723838</td>\n      <td>2023-07-30 21:00:00+00:00</td>\n      <td>5748287</td>\n      <td>2023-07-30 21:56:07.784634+00:00</td>\n      <td>2413029205</td>\n      <td>2413111021</td>\n      <td>2023-07-31 04:48:55.650139+00:00</td>\n      <td>50</td>\n      <td>...</td>\n      <td>2023-08-01</td>\n      <td>10533</td>\n      <td>18</td>\n      <td>148</td>\n      <td>קדושת לוי/שלום רב-ביתר עילית&lt;-&gt;יוסף קארו/בן אי...</td>\n      <td>12148</td>\n      <td>1</td>\n      <td>#</td>\n      <td>קווים</td>\n      <td>3</td>\n    </tr>\n    <tr>\n      <th>1</th>\n      <td>45074731</td>\n      <td>2437</td>\n      <td>2023-07-31-22387075</td>\n      <td>2023-07-30 21:00:00+00:00</td>\n      <td>5750787</td>\n      <td>2023-07-30 21:56:08.050406+00:00</td>\n      <td>2413029214</td>\n      <td>2413114627</td>\n      <td>2023-07-31 04:48:55.918939+00:00</td>\n      <td>53</td>\n      <td>...</td>\n      <td>2023-08-01</td>\n      <td>10534</td>\n      <td>18</td>\n      <td>148</td>\n      <td>בן איש חי/יוסף קארו-בית שמש&lt;-&gt;קדושת לוי/אוהל ש...</td>\n      <td>12148</td>\n      <td>2</td>\n      <td>#</td>\n      <td>קווים</td>\n      <td>3</td>\n    </tr>\n    <tr>\n      <th>2</th>\n      <td>45074988</td>\n      <td>184</td>\n      <td>2023-07-31-584714129</td>\n      <td>2023-07-30 21:10:00+00:00</td>\n      <td>9269501</td>\n      <td>2023-07-30 21:58:07.363981+00:00</td>\n      <td>2413047567</td>\n      <td>2413114844</td>\n      <td>2023-07-31 04:49:18.796646+00:00</td>\n      <td>44</td>\n      <td>...</td>\n      <td>2023-08-01</td>\n      <td>2542</td>\n      <td>5</td>\n      <td>70</td>\n      <td>ת.מרכזית תל אביב קומה 7/רציפים-תל אביב יפו&lt;-&gt;ב...</td>\n      <td>20070</td>\n      <td>1</td>\n      <td>0</td>\n      <td>דן</td>\n      <td>3</td>\n    </tr>\n    <tr>\n      <th>3</th>\n      <td>45075098</td>\n      <td>666</td>\n      <td>2023-07-31-2974253</td>\n      <td>2023-07-30 21:15:00+00:00</td>\n      <td>9226601</td>\n      <td>2023-07-31 01:45:10.114716+00:00</td>\n      <td>2413058522</td>\n      <td>2413132138</td>\n      <td>2023-07-31 05:18:20.534830+00:00</td>\n      <td>55</td>\n      <td>...</td>\n      <td>2023-08-01</td>\n      <td>2328</td>\n      <td>5</td>\n      <td>18</td>\n      <td>ת.רכבת תל אביב - סבידור/רציפים C-תל אביב יפו&lt;-...</td>\n      <td>22018</td>\n      <td>1</td>\n      <td>0</td>\n      <td>דן</td>\n      <td>3</td>\n    </tr>\n    <tr>\n      <th>4</th>\n      <td>45075125</td>\n      <td>6121</td>\n      <td>2023-07-31-18622316</td>\n      <td>2023-07-30 21:15:00+00:00</td>\n      <td>7613869</td>\n      <td>2023-07-31 01:45:16.985663+00:00</td>\n      <td>2413059341</td>\n      <td>2413172517</td>\n      <td>2023-07-31 05:18:27.775625+00:00</td>\n      <td>125</td>\n      <td>...</td>\n      <td>2023-08-01</td>\n      <td>6821</td>\n      <td>3</td>\n      <td>970</td>\n      <td>חזון אי''ש/האדמור מנדבורנא-בני ברק&lt;-&gt;ערד/סובה-...</td>\n      <td>10970</td>\n      <td>1</td>\n      <td>5</td>\n      <td>אגד</td>\n      <td>3</td>\n    </tr>\n    <tr>\n      <th>...</th>\n      <td>...</td>\n      <td>...</td>\n      <td>...</td>\n      <td>...</td>\n      <td>...</td>\n      <td>...</td>\n      <td>...</td>\n      <td>...</td>\n      <td>...</td>\n      <td>...</td>\n      <td>...</td>\n      <td>...</td>\n      <td>...</td>\n      <td>...</td>\n      <td>...</td>\n      <td>...</td>\n      <td>...</td>\n      <td>...</td>\n      <td>...</td>\n      <td>...</td>\n      <td>...</td>\n    </tr>\n    <tr>\n      <th>1114</th>\n      <td>45293471</td>\n      <td>3290</td>\n      <td>2023-08-01-9796861</td>\n      <td>2023-08-01 19:50:00+00:00</td>\n      <td>30684903</td>\n      <td>2023-08-01 23:10:59.972846+00:00</td>\n      <td>2425866740</td>\n      <td>2425877667</td>\n      <td>2023-08-02 03:00:41.933398+00:00</td>\n      <td>5</td>\n      <td>...</td>\n      <td>2023-08-01</td>\n      <td>11016</td>\n      <td>18</td>\n      <td>138</td>\n      <td>ת. רכבת בית שמש-בית שמש&lt;-&gt;הר''ן/קדושת לוי-ביתר...</td>\n      <td>11138</td>\n      <td>2</td>\n      <td>#</td>\n      <td>קווים</td>\n      <td>3</td>\n    </tr>\n    <tr>\n      <th>1115</th>\n      <td>45293602</td>\n      <td>4366</td>\n      <td>2023-08-01-585019478</td>\n      <td>2023-08-01 20:00:00+00:00</td>\n      <td>35398902</td>\n      <td>2023-08-01 23:11:44.203225+00:00</td>\n      <td>2425869369</td>\n      <td>2425898728</td>\n      <td>2023-08-02 03:01:27.862198+00:00</td>\n      <td>14</td>\n      <td>...</td>\n      <td>2023-08-01</td>\n      <td>11197</td>\n      <td>18</td>\n      <td>202</td>\n      <td>ת. רכבת קרית אריה-פתח תקווה&lt;-&gt;שדרות החשמונאים/...</td>\n      <td>11202</td>\n      <td>2</td>\n      <td>0</td>\n      <td>קווים</td>\n      <td>3</td>\n    </tr>\n    <tr>\n      <th>1116</th>\n      <td>45293632</td>\n      <td>2433</td>\n      <td>2023-08-01-25952386</td>\n      <td>2023-08-01 19:30:00+00:00</td>\n      <td>5750087</td>\n      <td>2023-08-01 23:11:53.788182+00:00</td>\n      <td>2425870942</td>\n      <td>2425881789</td>\n      <td>2023-08-02 03:01:38.420581+00:00</td>\n      <td>4</td>\n      <td>...</td>\n      <td>2023-08-01</td>\n      <td>10533</td>\n      <td>18</td>\n      <td>148</td>\n      <td>קדושת לוי/שלום רב-ביתר עילית&lt;-&gt;יוסף קארו/בן אי...</td>\n      <td>12148</td>\n      <td>1</td>\n      <td>#</td>\n      <td>קווים</td>\n      <td>3</td>\n    </tr>\n    <tr>\n      <th>1117</th>\n      <td>45293633</td>\n      <td>2437</td>\n      <td>2023-08-01-13422017</td>\n      <td>2023-08-01 20:00:00+00:00</td>\n      <td>5595587</td>\n      <td>2023-08-01 23:11:54.134107+00:00</td>\n      <td>2425870959</td>\n      <td>2425920259</td>\n      <td>2023-08-02 03:01:38.741109+00:00</td>\n      <td>19</td>\n      <td>...</td>\n      <td>2023-08-01</td>\n      <td>10534</td>\n      <td>18</td>\n      <td>148</td>\n      <td>בן איש חי/יוסף קארו-בית שמש&lt;-&gt;קדושת לוי/אוהל ש...</td>\n      <td>12148</td>\n      <td>2</td>\n      <td>#</td>\n      <td>קווים</td>\n      <td>3</td>\n    </tr>\n    <tr>\n      <th>1118</th>\n      <td>45293634</td>\n      <td>2437</td>\n      <td>2023-08-01-9698859</td>\n      <td>2023-08-01 19:30:00+00:00</td>\n      <td>30684103</td>\n      <td>2023-08-01 23:11:54.445786+00:00</td>\n      <td>2425870961</td>\n      <td>2425907883</td>\n      <td>2023-08-02 03:01:39.123083+00:00</td>\n      <td>16</td>\n      <td>...</td>\n      <td>2023-08-01</td>\n      <td>10534</td>\n      <td>18</td>\n      <td>148</td>\n      <td>בן איש חי/יוסף קארו-בית שמש&lt;-&gt;קדושת לוי/אוהל ש...</td>\n      <td>12148</td>\n      <td>2</td>\n      <td>#</td>\n      <td>קווים</td>\n      <td>3</td>\n    </tr>\n  </tbody>\n</table>\n<p>1119 rows × 29 columns</p>\n</div>"
     },
     "execution_count": 68,
     "metadata": {},
     "output_type": "execute_result"
    }
   ],
   "source": [
    "siri_data_all_stops_per_route"
   ],
   "metadata": {
    "collapsed": false,
    "ExecuteTime": {
     "end_time": "2024-01-24T19:22:48.544300Z",
     "start_time": "2024-01-24T19:22:48.073739Z"
    }
   },
   "id": "f8d0cc10901330f9",
   "execution_count": 68
  },
  {
   "cell_type": "code",
   "outputs": [],
   "source": [
    "siri_ride_ids_unq = siri_data_all_stops_per_route[\"id\"].unique()"
   ],
   "metadata": {
    "collapsed": false
   },
   "id": "321ff39e25f6f073",
   "execution_count": null
  },
  {
   "cell_type": "code",
   "outputs": [],
   "source": [
    "# Get siri routes ids per each of the gtfs ride ids\n",
    "siri_ride_stops = pd.DataFrame(\n",
    "    stride.iterate('/siri_ride_stops/list',   {\n",
    "        \"siri_ride_ids\": \",\".join([str(siri_ride_id) for siri_ride_id in siri_ride_ids_unq[:100]]),\n",
    "        \"siri_ride__scheduled_start_time_from\": \"2023-08-01T00:00:00+03:00\",\n",
    "        \"siri_ride__scheduled_start_time_to\": \"2023-08-02T00:00:00+03:00\",\n",
    "        \"limit\": 10000\n",
    "  }, limit = 10000)\n",
    ")\n",
    "\n",
    "# join lines data with siri route names\n",
    "# lines_data = lines_data.merge(siri_line_ids, left_on = [\"operator_ref\", \"line_ref\"], right_on = [\"operator_ref\", \"line_ref\"], suffixes=(\"_gtfs\", \"_siri\"))"
   ],
   "metadata": {
    "collapsed": false
   },
   "id": "c274e7f4b7836476",
   "execution_count": null
  },
  {
   "cell_type": "code",
   "outputs": [],
   "source": [
    "# iterate every 100 siri ride ids\n",
    "# then join the results since we can't send all together\n",
    "siri_ride_stops = pd.DataFrame()\n",
    "\n",
    "for i in range(0, len(siri_ride_ids_unq), 100):\n",
    "    siri_ride_stops = siri_ride_stops.append(\n",
    "        pd.DataFrame(\n",
    "            stride.iterate('/siri_ride_stops/list', {\n",
    "                \"siri_ride_ids\": \",\".join([str(siri_ride_id) for siri_ride_id in siri_ride_ids_unq[i:i+100]]),\n",
    "                \"siri_ride__scheduled_start_time_from\": \"2023-08-01T00:00:00+03:00\",\n",
    "                \"siri_ride__scheduled_start_time_to\": \"2023-08-02T00:00:00+03:00\",\n",
    "                \"limit\": 10000\n",
    "          }, limit = 10000)\n",
    "        )\n",
    "    )"
   ],
   "metadata": {
    "collapsed": false
   },
   "id": "ac01e40a7e428474",
   "execution_count": null
  },
  {
   "cell_type": "code",
   "outputs": [
    {
     "data": {
      "text/plain": "             id  siri_stop_id  siri_ride_id  order  gtfs_stop_id  \\\n0    1177805520          5755      45188875     80      15785704   \n1    1177790219          8574      45188875     79      15784356   \n2    1177784260          5817      45188875     78      15784348   \n3    1177778039          4092      45188875     76      15785046   \n4    1177771906           467      45188875     75      15785423   \n..          ...           ...           ...    ...           ...   \n338  1180213723           995      45291412      2      15792445   \n339  1180212900          1323      45291883      1      15811087   \n340  1180212897           365      45291881      1      15810983   \n341  1180212325           471      45291760      1      15799002   \n342  1180202104         29788      45291412      1      15811437   \n\n     nearest_siri_vehicle_location_id  siri_ride__siri_route_id  \\\n0                        2.420355e+09                      5481   \n1                        2.420310e+09                      5481   \n2                        2.420297e+09                      5481   \n3                        2.420285e+09                      5481   \n4                        2.420278e+09                      5481   \n..                                ...                       ...   \n338                      2.425767e+09                       666   \n339                      2.425765e+09                      1853   \n340                      2.425781e+09                      1851   \n341                      2.425770e+09                      4366   \n342                      2.425760e+09                       666   \n\n    siri_ride__journey_ref siri_ride__scheduled_start_time  \\\n0      2023-08-01-25328227       2023-08-01 02:45:00+00:00   \n1      2023-08-01-25328227       2023-08-01 02:45:00+00:00   \n2      2023-08-01-25328227       2023-08-01 02:45:00+00:00   \n3      2023-08-01-25328227       2023-08-01 02:45:00+00:00   \n4      2023-08-01-25328227       2023-08-01 02:45:00+00:00   \n..                     ...                             ...   \n338   2023-08-01-585056931       2023-08-01 19:53:00+00:00   \n339     2023-08-01-1327544       2023-08-01 20:00:00+00:00   \n340     2023-08-01-1327993       2023-08-01 20:00:00+00:00   \n341           2023-08-01-0       2023-08-01 19:56:00+00:00   \n342   2023-08-01-585056931       2023-08-01 19:53:00+00:00   \n\n    siri_ride__vehicle_ref  ... gtfs_route__operator_ref  \\\n0                  7613969  ...                        3   \n1                  7613969  ...                        3   \n2                  7613969  ...                        3   \n3                  7613969  ...                        3   \n4                  7613969  ...                        3   \n..                     ...  ...                      ...   \n338                9304601  ...                        5   \n339                7825369  ...                        3   \n340               23313802  ...                        3   \n341               35398902  ...                       18   \n342                9304601  ...                        5   \n\n     gtfs_route__route_short_name  \\\n0                             921   \n1                             921   \n2                             921   \n3                             921   \n4                             921   \n..                            ...   \n338                            18   \n339                           123   \n340                           123   \n341                           202   \n342                            18   \n\n                           gtfs_route__route_long_name gtfs_route__route_mkt  \\\n0    ת.מרכזית תל אביב קומה 7/רציפים-תל אביב יפו<->ת...                 10921   \n1    ת.מרכזית תל אביב קומה 7/רציפים-תל אביב יפו<->ת...                 10921   \n2    ת.מרכזית תל אביב קומה 7/רציפים-תל אביב יפו<->ת...                 10921   \n3    ת.מרכזית תל אביב קומה 7/רציפים-תל אביב יפו<->ת...                 10921   \n4    ת.מרכזית תל אביב קומה 7/רציפים-תל אביב יפו<->ת...                 10921   \n..                                                 ...                   ...   \n338  ת.רכבת תל אביב - סבידור/רציפים C-תל אביב יפו<-...                 22018   \n339  ת. מרכזית חוף הכרמל/רציפים עירוני-חיפה<->ת. מר...                 10123   \n340  ת. מרכזית המפרץ/רציפים עירוני-חיפה<->ת. מרכזית...                 10123   \n341  ת. רכבת קרית אריה-פתח תקווה<->שדרות החשמונאים/...                 11202   \n342  ת.רכבת תל אביב - סבידור/רציפים C-תל אביב יפו<-...                 22018   \n\n     gtfs_route__route_direction gtfs_route__route_alternative  \\\n0                              1                             #   \n1                              1                             #   \n2                              1                             #   \n3                              1                             #   \n4                              1                             #   \n..                           ...                           ...   \n338                            1                             0   \n339                            1                             #   \n340                            2                             #   \n341                            2                             0   \n342                            1                             0   \n\n     gtfs_route__agency_name  gtfs_route__route_type  \\\n0                        אגד                       3   \n1                        אגד                       3   \n2                        אגד                       3   \n3                        אגד                       3   \n4                        אגד                       3   \n..                       ...                     ...   \n338                       דן                       3   \n339                      אגד                       3   \n340                      אגד                       3   \n341                    קווים                       3   \n342                       דן                       3   \n\n     scheduled_vs_real_time_difference  \\\n0                      0 days 00:08:15   \n1                      0 days 00:02:06   \n2                      0 days 00:01:24   \n3                      0 days 00:00:53   \n4                      0 days 00:00:03   \n..                                 ...   \n338                    0 days 00:01:59   \n339                                NaT   \n340                                NaT   \n341                  -1 days +23:54:03   \n342                    0 days 00:00:37   \n\n    scheduled_vs_real_time_difference_seconds  \n0                                       495.0  \n1                                       126.0  \n2                                        84.0  \n3                                        53.0  \n4                                         3.0  \n..                                        ...  \n338                                     119.0  \n339                                       NaN  \n340                                       NaN  \n341                                    -357.0  \n342                                      37.0  \n\n[30969 rows x 58 columns]",
      "text/html": "<div>\n<style scoped>\n    .dataframe tbody tr th:only-of-type {\n        vertical-align: middle;\n    }\n\n    .dataframe tbody tr th {\n        vertical-align: top;\n    }\n\n    .dataframe thead th {\n        text-align: right;\n    }\n</style>\n<table border=\"1\" class=\"dataframe\">\n  <thead>\n    <tr style=\"text-align: right;\">\n      <th></th>\n      <th>id</th>\n      <th>siri_stop_id</th>\n      <th>siri_ride_id</th>\n      <th>order</th>\n      <th>gtfs_stop_id</th>\n      <th>nearest_siri_vehicle_location_id</th>\n      <th>siri_ride__siri_route_id</th>\n      <th>siri_ride__journey_ref</th>\n      <th>siri_ride__scheduled_start_time</th>\n      <th>siri_ride__vehicle_ref</th>\n      <th>...</th>\n      <th>gtfs_route__operator_ref</th>\n      <th>gtfs_route__route_short_name</th>\n      <th>gtfs_route__route_long_name</th>\n      <th>gtfs_route__route_mkt</th>\n      <th>gtfs_route__route_direction</th>\n      <th>gtfs_route__route_alternative</th>\n      <th>gtfs_route__agency_name</th>\n      <th>gtfs_route__route_type</th>\n      <th>scheduled_vs_real_time_difference</th>\n      <th>scheduled_vs_real_time_difference_seconds</th>\n    </tr>\n  </thead>\n  <tbody>\n    <tr>\n      <th>0</th>\n      <td>1177805520</td>\n      <td>5755</td>\n      <td>45188875</td>\n      <td>80</td>\n      <td>15785704</td>\n      <td>2.420355e+09</td>\n      <td>5481</td>\n      <td>2023-08-01-25328227</td>\n      <td>2023-08-01 02:45:00+00:00</td>\n      <td>7613969</td>\n      <td>...</td>\n      <td>3</td>\n      <td>921</td>\n      <td>ת.מרכזית תל אביב קומה 7/רציפים-תל אביב יפו&lt;-&gt;ת...</td>\n      <td>10921</td>\n      <td>1</td>\n      <td>#</td>\n      <td>אגד</td>\n      <td>3</td>\n      <td>0 days 00:08:15</td>\n      <td>495.0</td>\n    </tr>\n    <tr>\n      <th>1</th>\n      <td>1177790219</td>\n      <td>8574</td>\n      <td>45188875</td>\n      <td>79</td>\n      <td>15784356</td>\n      <td>2.420310e+09</td>\n      <td>5481</td>\n      <td>2023-08-01-25328227</td>\n      <td>2023-08-01 02:45:00+00:00</td>\n      <td>7613969</td>\n      <td>...</td>\n      <td>3</td>\n      <td>921</td>\n      <td>ת.מרכזית תל אביב קומה 7/רציפים-תל אביב יפו&lt;-&gt;ת...</td>\n      <td>10921</td>\n      <td>1</td>\n      <td>#</td>\n      <td>אגד</td>\n      <td>3</td>\n      <td>0 days 00:02:06</td>\n      <td>126.0</td>\n    </tr>\n    <tr>\n      <th>2</th>\n      <td>1177784260</td>\n      <td>5817</td>\n      <td>45188875</td>\n      <td>78</td>\n      <td>15784348</td>\n      <td>2.420297e+09</td>\n      <td>5481</td>\n      <td>2023-08-01-25328227</td>\n      <td>2023-08-01 02:45:00+00:00</td>\n      <td>7613969</td>\n      <td>...</td>\n      <td>3</td>\n      <td>921</td>\n      <td>ת.מרכזית תל אביב קומה 7/רציפים-תל אביב יפו&lt;-&gt;ת...</td>\n      <td>10921</td>\n      <td>1</td>\n      <td>#</td>\n      <td>אגד</td>\n      <td>3</td>\n      <td>0 days 00:01:24</td>\n      <td>84.0</td>\n    </tr>\n    <tr>\n      <th>3</th>\n      <td>1177778039</td>\n      <td>4092</td>\n      <td>45188875</td>\n      <td>76</td>\n      <td>15785046</td>\n      <td>2.420285e+09</td>\n      <td>5481</td>\n      <td>2023-08-01-25328227</td>\n      <td>2023-08-01 02:45:00+00:00</td>\n      <td>7613969</td>\n      <td>...</td>\n      <td>3</td>\n      <td>921</td>\n      <td>ת.מרכזית תל אביב קומה 7/רציפים-תל אביב יפו&lt;-&gt;ת...</td>\n      <td>10921</td>\n      <td>1</td>\n      <td>#</td>\n      <td>אגד</td>\n      <td>3</td>\n      <td>0 days 00:00:53</td>\n      <td>53.0</td>\n    </tr>\n    <tr>\n      <th>4</th>\n      <td>1177771906</td>\n      <td>467</td>\n      <td>45188875</td>\n      <td>75</td>\n      <td>15785423</td>\n      <td>2.420278e+09</td>\n      <td>5481</td>\n      <td>2023-08-01-25328227</td>\n      <td>2023-08-01 02:45:00+00:00</td>\n      <td>7613969</td>\n      <td>...</td>\n      <td>3</td>\n      <td>921</td>\n      <td>ת.מרכזית תל אביב קומה 7/רציפים-תל אביב יפו&lt;-&gt;ת...</td>\n      <td>10921</td>\n      <td>1</td>\n      <td>#</td>\n      <td>אגד</td>\n      <td>3</td>\n      <td>0 days 00:00:03</td>\n      <td>3.0</td>\n    </tr>\n    <tr>\n      <th>...</th>\n      <td>...</td>\n      <td>...</td>\n      <td>...</td>\n      <td>...</td>\n      <td>...</td>\n      <td>...</td>\n      <td>...</td>\n      <td>...</td>\n      <td>...</td>\n      <td>...</td>\n      <td>...</td>\n      <td>...</td>\n      <td>...</td>\n      <td>...</td>\n      <td>...</td>\n      <td>...</td>\n      <td>...</td>\n      <td>...</td>\n      <td>...</td>\n      <td>...</td>\n      <td>...</td>\n    </tr>\n    <tr>\n      <th>338</th>\n      <td>1180213723</td>\n      <td>995</td>\n      <td>45291412</td>\n      <td>2</td>\n      <td>15792445</td>\n      <td>2.425767e+09</td>\n      <td>666</td>\n      <td>2023-08-01-585056931</td>\n      <td>2023-08-01 19:53:00+00:00</td>\n      <td>9304601</td>\n      <td>...</td>\n      <td>5</td>\n      <td>18</td>\n      <td>ת.רכבת תל אביב - סבידור/רציפים C-תל אביב יפו&lt;-...</td>\n      <td>22018</td>\n      <td>1</td>\n      <td>0</td>\n      <td>דן</td>\n      <td>3</td>\n      <td>0 days 00:01:59</td>\n      <td>119.0</td>\n    </tr>\n    <tr>\n      <th>339</th>\n      <td>1180212900</td>\n      <td>1323</td>\n      <td>45291883</td>\n      <td>1</td>\n      <td>15811087</td>\n      <td>2.425765e+09</td>\n      <td>1853</td>\n      <td>2023-08-01-1327544</td>\n      <td>2023-08-01 20:00:00+00:00</td>\n      <td>7825369</td>\n      <td>...</td>\n      <td>3</td>\n      <td>123</td>\n      <td>ת. מרכזית חוף הכרמל/רציפים עירוני-חיפה&lt;-&gt;ת. מר...</td>\n      <td>10123</td>\n      <td>1</td>\n      <td>#</td>\n      <td>אגד</td>\n      <td>3</td>\n      <td>NaT</td>\n      <td>NaN</td>\n    </tr>\n    <tr>\n      <th>340</th>\n      <td>1180212897</td>\n      <td>365</td>\n      <td>45291881</td>\n      <td>1</td>\n      <td>15810983</td>\n      <td>2.425781e+09</td>\n      <td>1851</td>\n      <td>2023-08-01-1327993</td>\n      <td>2023-08-01 20:00:00+00:00</td>\n      <td>23313802</td>\n      <td>...</td>\n      <td>3</td>\n      <td>123</td>\n      <td>ת. מרכזית המפרץ/רציפים עירוני-חיפה&lt;-&gt;ת. מרכזית...</td>\n      <td>10123</td>\n      <td>2</td>\n      <td>#</td>\n      <td>אגד</td>\n      <td>3</td>\n      <td>NaT</td>\n      <td>NaN</td>\n    </tr>\n    <tr>\n      <th>341</th>\n      <td>1180212325</td>\n      <td>471</td>\n      <td>45291760</td>\n      <td>1</td>\n      <td>15799002</td>\n      <td>2.425770e+09</td>\n      <td>4366</td>\n      <td>2023-08-01-0</td>\n      <td>2023-08-01 19:56:00+00:00</td>\n      <td>35398902</td>\n      <td>...</td>\n      <td>18</td>\n      <td>202</td>\n      <td>ת. רכבת קרית אריה-פתח תקווה&lt;-&gt;שדרות החשמונאים/...</td>\n      <td>11202</td>\n      <td>2</td>\n      <td>0</td>\n      <td>קווים</td>\n      <td>3</td>\n      <td>-1 days +23:54:03</td>\n      <td>-357.0</td>\n    </tr>\n    <tr>\n      <th>342</th>\n      <td>1180202104</td>\n      <td>29788</td>\n      <td>45291412</td>\n      <td>1</td>\n      <td>15811437</td>\n      <td>2.425760e+09</td>\n      <td>666</td>\n      <td>2023-08-01-585056931</td>\n      <td>2023-08-01 19:53:00+00:00</td>\n      <td>9304601</td>\n      <td>...</td>\n      <td>5</td>\n      <td>18</td>\n      <td>ת.רכבת תל אביב - סבידור/רציפים C-תל אביב יפו&lt;-...</td>\n      <td>22018</td>\n      <td>1</td>\n      <td>0</td>\n      <td>דן</td>\n      <td>3</td>\n      <td>0 days 00:00:37</td>\n      <td>37.0</td>\n    </tr>\n  </tbody>\n</table>\n<p>30969 rows × 58 columns</p>\n</div>"
     },
     "execution_count": 64,
     "metadata": {},
     "output_type": "execute_result"
    }
   ],
   "source": [
    "siri_ride_stops"
   ],
   "metadata": {
    "collapsed": false,
    "ExecuteTime": {
     "end_time": "2024-01-24T19:14:28.071909Z",
     "start_time": "2024-01-24T19:14:27.069592Z"
    }
   },
   "id": "a1805e35908a8747",
   "execution_count": 64
  },
  {
   "cell_type": "code",
   "outputs": [],
   "source": [
    "siri_ride_stops.to_csv(\"siri_ride_stops.csv\")"
   ],
   "metadata": {
    "collapsed": false
   },
   "id": "4e214f8a68e59e7b",
   "execution_count": null
  },
  {
   "cell_type": "code",
   "outputs": [],
   "source": [
    "siri_ride_stops[\"scheduled_vs_real_time_difference\"] = siri_ride_stops[\"nearest_siri_vehicle_location__recorded_at_time\"] - siri_ride_stops[\"gtfs_ride_stop__arrival_time\"]\n",
    "siri_ride_stops[\"scheduled_vs_real_time_difference_seconds\"] = siri_ride_stops[\"scheduled_vs_real_time_difference\"].dt.total_seconds()"
   ],
   "metadata": {
    "collapsed": false
   },
   "id": "5c7fda30ef879a75",
   "execution_count": null
  },
  {
   "cell_type": "code",
   "outputs": [],
   "source": [
    "siri_ride_stops[[\"nearest_siri_vehicle_location__recorded_at_time\", \"gtfs_ride_stop__arrival_time\", \"scheduled_vs_real_time_difference\", \"scheduled_vs_real_time_difference_seconds\"]]"
   ],
   "metadata": {
    "collapsed": false
   },
   "id": "61491fea13a3d05",
   "execution_count": null
  },
  {
   "cell_type": "code",
   "outputs": [],
   "source": [
    "# plot time difference\n",
    "px.histogram(siri_ride_stops, x = \"scheduled_vs_real_time_difference_seconds\", nbins = 100)"
   ],
   "metadata": {
    "collapsed": false
   },
   "id": "2d211274365aa891",
   "execution_count": null
  },
  {
   "cell_type": "code",
   "outputs": [],
   "source": [
    "px.histogram(siri_ride_stops, x = \"nearest_siri_vehicle_location__distance_from_siri_ride_stop_meters\", nbins = 100)"
   ],
   "metadata": {
    "collapsed": false
   },
   "id": "3f46c95f43a2656d",
   "execution_count": null
  },
  {
   "cell_type": "code",
   "outputs": [],
   "source": [
    "siri_ride_stops[siri_ride_stops['nearest_siri_vehicle_location__distance_from_siri_ride_stop_meters'] > 10000]"
   ],
   "metadata": {
    "collapsed": false
   },
   "id": "ed06dd9c08950452",
   "execution_count": null
  },
  {
   "cell_type": "code",
   "outputs": [],
   "source": [
    "no_outliers = siri_ride_stops[siri_ride_stops['nearest_siri_vehicle_location__distance_from_siri_ride_stop_meters'] < 1000]\n",
    "no_outliers = no_outliers[no_outliers['scheduled_vs_real_time_difference_seconds'] < 3600]"
   ],
   "metadata": {
    "collapsed": false
   },
   "id": "177e42eba5f9657a",
   "execution_count": null
  },
  {
   "cell_type": "code",
   "outputs": [],
   "source": [
    "# See correlation between time difference and distance from stop\n",
    "px.box(no_outliers, x = \"gtfs_ride_stop__stop_sequence\", y = \"scheduled_vs_real_time_difference_seconds\")"
   ],
   "metadata": {
    "collapsed": false
   },
   "id": "b641561b71e3dfeb",
   "execution_count": null
  },
  {
   "cell_type": "code",
   "outputs": [],
   "source": [
    "# px.box(no_outliers, x = \"gtfs_stop__city\", y = \"scheduled_vs_real_time_difference_seconds\")"
   ],
   "metadata": {
    "collapsed": false,
    "ExecuteTime": {
     "end_time": "2024-01-24T19:16:54.497074Z",
     "start_time": "2024-01-24T19:16:53.944491Z"
    }
   },
   "id": "9bc32ad1a07df26",
   "execution_count": 67
  },
  {
   "cell_type": "code",
   "execution_count": null,
   "id": "3c3ed64ede41bdba",
   "metadata": {
    "collapsed": false
   },
   "outputs": [],
   "source": [
    "# gtfs_data[\"gtfs_line_ref\"] == '19713'"
   ]
  },
  {
   "cell_type": "code",
   "execution_count": null,
   "id": "bcb9083fe3a9623f",
   "metadata": {},
   "outputs": [],
   "source": [
    "# This shows all of the stops and their planned arrival time\n",
    "gtfs_data[gtfs_data[\"gtfs_line_ref\"] == '19713']"
   ]
  },
  {
   "cell_type": "code",
   "execution_count": null,
   "id": "eba35848a29364b8",
   "metadata": {
    "collapsed": false
   },
   "outputs": [],
   "source": [
    "#FINDING THE INFORAMTION ABOUT SIRI VEHICKE 39344\n",
    "#RES:\n",
    "#   \"id\": 39344,\n",
    "#   \"siri_snapshot_id\": 8,\n",
    "#   \"siri_ride_stop_id\": 16937,\n",
    "#   \"recorded_at_time\": \"2022-03-09T11:13:07+00:00\",\n",
    "#   \"lon\": 34.887203,\n",
    "#   \"lat\": 32.091144,\n",
    "#   \"bearing\": 230,\n",
    "#   \"velocity\": 14,\n",
    "#   \"distance_from_journey_start\": 3254,\n",
    "#   \"distance_from_siri_ride_stop_meters\": 66\n",
    "\n",
    "#SIRI SNAPSHOT RES:\n"
   ]
  },
  {
   "cell_type": "code",
   "outputs": [],
   "source": [],
   "metadata": {
    "collapsed": false
   },
   "id": "92b4c219997d5881"
  },
  {
   "cell_type": "markdown",
   "id": "77a123f1fb9e7480",
   "metadata": {
    "collapsed": false
   },
   "source": [
    "# gtfs_data explanation:\n",
    "* the lon stands for longitude\n",
    "* the lat stands for latitude.\n",
    "* both of them are coordinates of the bus stop.\n",
    "* the planned arrival time is the time the bus is planned to arrive at the stop.\n",
    "* the gtfs_lin_ref is id of the bus trip, meaning each bus line direction has its one id.\n",
    "* for example 19717 is line 202 by Eged, driving from Hifa to Pardes Hana, where 19716 is the opposite way.\n",
    "* the gtfs_line_start_time is the time the bus is planned to start the trip from its origin.\n",
    "* the gtfs_ride_id is the specific id of the bus trip, meaning each bus trip has its own id.\n"
   ]
  },
  {
   "cell_type": "code",
   "execution_count": null,
   "id": "e5ef82ecdd57290e",
   "metadata": {},
   "outputs": [],
   "source": [
    "# Get the start and end of each ride, we are only interested in full rides at this stage\n",
    "lines_start_end = gtfs_data.groupby([\"gtfs_ride_id\", \"gtfs_line_ref\"]).agg(\n",
    "    start = (\"gtfs_line_start_time\", \"min\"),\n",
    "    end = (\"planned_arrival_time\", \"max\")\n",
    ").reset_index()"
   ]
  },
  {
   "cell_type": "code",
   "execution_count": null,
   "id": "6dc5d7c6f8c89a68",
   "metadata": {},
   "outputs": [],
   "source": [
    "# Calculate the duration\n",
    "lines_start_end[\"duration\"] = lines_start_end[\"end\"] - lines_start_end[\"start\"]\n",
    "lines_start_end[\"duration_minutes\"] = lines_start_end[\"duration\"].dt.total_seconds() / 60"
   ]
  },
  {
   "cell_type": "markdown",
   "id": "d11f7c42e616ccb4",
   "metadata": {},
   "source": [
    "As we can see, there is only a single duration for each ride.\n",
    "\n",
    "That is because the rides are planned and not real time."
   ]
  },
  {
   "cell_type": "code",
   "execution_count": null,
   "id": "2926211fd3290aec",
   "metadata": {},
   "outputs": [],
   "source": [
    "lines_start_end.groupby(\"gtfs_line_ref\").agg(\n",
    "    distinct_durations = (\"duration_minutes\", \"nunique\"),\n",
    "    duration_example = (\"duration_minutes\", \"first\")\n",
    ")"
   ]
  },
  {
   "cell_type": "code",
   "execution_count": null,
   "id": "aee3549e0495099a",
   "metadata": {},
   "outputs": [],
   "source": [
    "lines_start_end.agg(\n",
    "    num_of_rides = (\"gtfs_ride_id\", \"count\"),\n",
    "    min_start = (\"start\", \"min\"),\n",
    "    max_end = (\"end\", \"max\")\n",
    ")"
   ]
  },
  {
   "cell_type": "markdown",
   "id": "7db9c78661f81152",
   "metadata": {},
   "source": [
    "# Get real time data (SIRI)"
   ]
  },
  {
   "cell_type": "code",
   "execution_count": null,
   "id": "599f1896-c717-462f-b39d-68c3a71e5c84",
   "metadata": {},
   "outputs": [],
   "source": [
    "siri_routes = stride.get('/siri_routes/list', {'operator_refs': '3,31', 'line_refs': '19713,19717,1806'})\n",
    "pd.DataFrame(siri_routes)\n"
   ]
  },
  {
   "cell_type": "code",
   "execution_count": null,
   "id": "b94daeb268fecf7e",
   "metadata": {},
   "outputs": [],
   "source": [
    "# Get the siri route ids seperated by commas \n",
    "siri_route_ids = ','.join([str(route['id']) for route in siri_routes])\n",
    "siri_route_ids"
   ]
  },
  {
   "cell_type": "markdown",
   "id": "ead4d816-7bac-4261-b0a5-7655c305eb7f",
   "metadata": {},
   "source": [
    "### Get rides data\n",
    "\n",
    "Here the data is already aggregated per ride, and we get the real time data for each ride."
   ]
  },
  {
   "cell_type": "code",
   "execution_count": null,
   "outputs": [],
   "source": [
    "# get the data of only Merch 2023, 2022 and 2021\n",
    "df_2023 = pd.DataFrame(stride.iterate('/siri_rides/list', {\n",
    "    'siri_route_ids': siri_route_ids, \n",
    "    'scheduled_start_time_from': \"2023-03-01T00:00:00+03:00\",\n",
    "    'scheduled_start_time_to': \"2023-03-31T23:59:59+03:00\",\n",
    "    'order_by': 'scheduled_start_time desc',\n",
    "    'limit': 50000\n",
    "}, limit=20000))\n",
    "df_2022 = pd.DataFrame(stride.iterate('/siri_rides/list', {\n",
    "    'siri_route_ids': siri_route_ids, \n",
    "    'scheduled_start_time_from': \"2022-03-01T00:00:00+03:00\",\n",
    "    'scheduled_start_time_to': \"2022-03-31T23:59:59+03:00\",\n",
    "    'order_by': 'scheduled_start_time desc',\n",
    "    'limit': 50000\n",
    "}, limit=20000))\n",
    "march_df = pd.concat([df_2023, df_2022])"
   ],
   "metadata": {
    "collapsed": false
   },
   "id": "729997818466b241"
  },
  {
   "cell_type": "code",
   "execution_count": null,
   "id": "160005a2-2a91-4476-9137-f2fd35813949",
   "metadata": {},
   "outputs": [],
   "source": [
    "\n",
    "df = pd.DataFrame(stride.iterate('/siri_rides/list', {\n",
    "    'siri_route_ids': siri_route_ids, \n",
    "    'scheduled_start_time_from': \"2023-08-01T00:00:00+03:00\",\n",
    "    'order_by': 'scheduled_start_time desc',\n",
    "    'limit': 50000\n",
    "}, limit=20000))\n",
    "df"
   ]
  },
  {
   "cell_type": "markdown",
   "source": [
    "# Data exploration\n",
    "siri_route_id: The related siri_route.\n",
    "journey_ref\": \"A unique identifier for this ride as provided by the SIRI data.\n",
    "scheduled_start_time: The scheduled start time as provided by the SIRI data. Note that this value may change over time but we only show the first value as received from the SIRI real-time data.\n",
    "vehicle_ref: A unique identifier of the bus or vehicle. This may be the license number but could also be other identifier as provided by the SIRI data.\n",
    "updated_first_last_vehicle_locations: The time the bus was last seen in the system.\n",
    "first_vehicle_location_id: A unique identifier of the bus or vehicle. This may be the license number but could also be other identifier as provided by the SIRI data.\n",
    "last_vehicle_location_id: The last siri_vehicle_location along this ride.\n",
    "updated_duration_minutes: The updated duration of this ride in minutes\n",
    "duration_minutes: The duration of this ride in minutes\n",
    "journey_gtfs_ride_id: The related gtfs_ride based on journey_ref.\n",
    "route_gtfs_ride_id: The related gtfs_ride based on operator_ref, line_ref and scheduled_start_time.\n",
    "gtfs_ride_id: The related gtfs_ride based on best match from either journey_gtfs_ride_id or route_gtfs_ride_id. \n",
    "siri_route__line_ref: Unique identifier for this route, together with operator_ref.\n",
    "siri_route__operator_ref: Unique identifier for this route, together with line_ref.\n",
    "gtfs_ride__gtfs_route_id: The related gtfs_route this ride is a part of.\n",
    "gtfs_ride__journey_ref: A unique identifier for this ride as provided by the original MOT GTFS data.\n",
    "gtfs_ride__start_time: The start time of this ride.\n",
    "gtfs_ride__end_time: The end time of this ride.\n",
    "gtfs_route__date: The date of this ride.\n",
    "gtfs_route__line_ref: Unique identifier for this route, together with operator_ref.\n",
    "gtfs_route__operator_ref: Unique identifier for this route, together with line_ref.\n",
    "gtfs_route__route_short_name: The route short name as provided by the original MOT GTFS data.\n",
    "gtfs_route__route_long_name: The route long name as provided by the original MOT GTFS data.\n",
    "gtfs_route__route_mkt: The route mkt as provided by the original MOT GTFS data.\n",
    "gtfs_route__route_direction: The route direction as provided by the original MOT GTFS data.\n",
    "gtfs_route__route_alternative: The route alternative as provided by the original MOT GTFS data.\n",
    "gtfs_route__agency_name: The agency name as provided by the original MOT GTFS data.\n",
    "gtfs_route__route_type: The route type as provided by the original MOT GTFS data."
   ],
   "metadata": {
    "collapsed": false
   },
   "id": "cddff3d8014712c"
  },
  {
   "cell_type": "markdown",
   "id": "2633705f078fdb4c",
   "metadata": {},
   "source": [
    "# Initial EDA and ideation"
   ]
  },
  {
   "cell_type": "markdown",
   "id": "3815059a-3e8c-45b5-8108-446a9d947cbd",
   "metadata": {},
   "source": [
    "### Look for outliers, \n",
    "\n",
    "Clean the nulls in the real-time data\n",
    "\n",
    "Look for clear outliers in the data"
   ]
  },
  {
   "cell_type": "code",
   "execution_count": null,
   "id": "8e507c1cee0df913",
   "metadata": {},
   "outputs": [],
   "source": [
    "df = df.drop_duplicates()"
   ]
  },
  {
   "cell_type": "code",
   "execution_count": null,
   "id": "d1bca98cfb6fdcc6",
   "metadata": {},
   "outputs": [],
   "source": [
    "# print the df where the duration minutes is null\n",
    "df[df.duration_minutes.isnull()]"
   ]
  },
  {
   "cell_type": "markdown",
   "id": "e9b3b587-c716-4bae-88b6-2b1635e99122",
   "metadata": {},
   "source": [
    "Get the mean duration for all those rides"
   ]
  },
  {
   "cell_type": "code",
   "execution_count": null,
   "id": "d3e45a08bbb8add0",
   "metadata": {},
   "outputs": [],
   "source": [
    "# Get the mean duration for all the rides\n",
    "possible_outliers = df.groupby(\"gtfs_route__line_ref\").agg(\n",
    "    mean_duration = (\"duration_minutes\", \"mean\"),\n",
    "    std_duration = (\"duration_minutes\", \"std\"),\n",
    "    median_duration = (\"duration_minutes\", \"median\"),\n",
    "    distinct_durations = (\"duration_minutes\", \"nunique\"),\n",
    "    duration_example = (\"duration_minutes\", \"first\")\n",
    ").reset_index()\n",
    "\n",
    "possible_outliers"
   ]
  },
  {
   "cell_type": "code",
   "execution_count": null,
   "outputs": [],
   "source": [
    "march_possible_outliers = march_df.groupby(\"gtfs_route__line_ref\").agg(\n",
    "    mean_duration = (\"duration_minutes\", \"mean\"),\n",
    "    std_duration = (\"duration_minutes\", \"std\"),\n",
    "    median_duration = (\"duration_minutes\", \"median\"),\n",
    "    distinct_durations = (\"duration_minutes\", \"nunique\"),\n",
    "    duration_example = (\"duration_minutes\", \"first\")\n",
    ").reset_index()\n",
    "\n",
    "march_possible_outliers"
   ],
   "metadata": {
    "collapsed": false
   },
   "id": "b30ec7e90edefe94"
  },
  {
   "cell_type": "markdown",
   "id": "cd961e52b8cd14e8",
   "metadata": {},
   "source": [
    "### Outliers\n",
    "\n",
    "We're seeing some outliers in the data, see the dots that are near zero - they make no sense.\n",
    "\n",
    "There are dots as well that are way above the mean, we will need to investigate those as well.\n",
    "\n",
    "Current thought is to remove any ride that is more then 2 standard deviations from the mean. "
   ]
  },
  {
   "cell_type": "code",
   "execution_count": null,
   "id": "a30f7752fbf2b86",
   "metadata": {},
   "outputs": [],
   "source": [
    "px.scatter(df, x = \"scheduled_start_time\", y = \"duration_minutes\", color = \"gtfs_route__line_ref\")"
   ]
  },
  {
   "cell_type": "code",
   "execution_count": null,
   "outputs": [],
   "source": [
    "px.scatter(march_df, x = \"scheduled_start_time\", y = \"duration_minutes\", color = \"gtfs_route__line_ref\")"
   ],
   "metadata": {
    "collapsed": false
   },
   "id": "7abdc33c98ed53ff"
  },
  {
   "cell_type": "code",
   "execution_count": null,
   "id": "25d46f30fb09892",
   "metadata": {},
   "outputs": [],
   "source": [
    "# Join the df with the outliers data based on the gtf_route_line_ref column\n",
    "\n",
    "all_rides = df.merge(possible_outliers, left_on=\"gtfs_route__line_ref\", right_on=\"gtfs_route__line_ref\")\n",
    "march_all_rides = march_df.merge(march_possible_outliers, left_on=\"gtfs_route__line_ref\", right_on=\"gtfs_route__line_ref\")"
   ]
  },
  {
   "cell_type": "code",
   "execution_count": null,
   "id": "33e33738f3b1b6ae",
   "metadata": {},
   "outputs": [],
   "source": [
    "all_rides_filtered_outliers = all_rides[(all_rides.duration_minutes > (all_rides.mean_duration - 2 * all_rides.std_duration)) &\n",
    "          (all_rides.duration_minutes < (all_rides.mean_duration + 2 * all_rides.std_duration))]\n",
    "march_all_rides_filtered_outliers = march_all_rides[(march_all_rides.duration_minutes > (march_all_rides.mean_duration - 2 * march_all_rides.std_duration)) &\n",
    "          (march_all_rides.duration_minutes < (march_all_rides.mean_duration + 2 * march_all_rides.std_duration))]"
   ]
  },
  {
   "cell_type": "markdown",
   "id": "f1657a3deb27dc5e",
   "metadata": {},
   "source": [
    "### Outliers removed\n",
    "\n",
    "This looks much better!"
   ]
  },
  {
   "cell_type": "code",
   "execution_count": null,
   "id": "995200d082f36fc3",
   "metadata": {},
   "outputs": [],
   "source": [
    "px.scatter(all_rides_filtered_outliers, x = \"scheduled_start_time\", y = \"duration_minutes\", color = \"gtfs_route__line_ref\")"
   ]
  },
  {
   "cell_type": "code",
   "execution_count": null,
   "outputs": [],
   "source": [
    "px.scatter(march_all_rides_filtered_outliers, x = \"scheduled_start_time\", y = \"duration_minutes\", color = \"gtfs_route__line_ref\")"
   ],
   "metadata": {
    "collapsed": false
   },
   "id": "709f5d68751846e5"
  },
  {
   "cell_type": "code",
   "execution_count": null,
   "id": "69377f3a658254f7",
   "metadata": {},
   "outputs": [],
   "source": [
    "lines_start_end[\"gtfs_ride_id\"] = lines_start_end[\"gtfs_ride_id\"].astype(int)\n",
    "all_rides_filtered_outliers[\"gtfs_ride_id\"] = all_rides_filtered_outliers[\"gtfs_ride_id\"].astype(int)\n",
    "march_all_rides_filtered_outliers[\"gtfs_ride_id\"] = march_all_rides_filtered_outliers[\"gtfs_ride_id\"].astype(int)"
   ]
  },
  {
   "cell_type": "code",
   "execution_count": null,
   "id": "4c33b78488a2799a",
   "metadata": {},
   "outputs": [],
   "source": [
    "# Join planned data with actual data\n",
    "all_data_joined = all_rides_filtered_outliers.merge(lines_start_end, on = \"gtfs_ride_id\", how = \"inner\", suffixes=(\"_actual\", \"_planned\"))\n",
    "march_all_data_joined = march_all_rides_filtered_outliers.merge(lines_start_end, on = \"gtfs_ride_id\", how = \"inner\", suffixes=(\"_actual\", \"_planned\"))\n",
    "all_data_joined"
   ]
  },
  {
   "cell_type": "code",
   "execution_count": null,
   "outputs": [],
   "source": [
    "lines_start_end"
   ],
   "metadata": {
    "collapsed": false
   },
   "id": "67755d71938e111"
  },
  {
   "cell_type": "code",
   "execution_count": null,
   "id": "dbfb6872c38750e6",
   "metadata": {},
   "outputs": [],
   "source": [
    "all_data_joined[\"real_time_difference\"] = all_data_joined[\"duration_minutes_actual\"] - all_data_joined[\"duration_minutes_planned\"]\n",
    "march_all_data_joined[\"real_time_difference\"] = march_all_data_joined[\"duration_minutes_actual\"] - march_all_data_joined[\"duration_minutes_planned\"]"
   ]
  },
  {
   "cell_type": "markdown",
   "id": "a1323e888bbe173d",
   "metadata": {},
   "source": [
    "### Time difference\n",
    "\n",
    "Here we have a clear view on the time difference between the planned and actual ride.\n",
    "\n",
    "We see there are almost no rides that are shorter then planned, and most of the rides are longer then planned, which makes sense.\n",
    "\n",
    "By a quick glance, we can see that most of the rides are late by around ~20 minutes."
   ]
  },
  {
   "cell_type": "code",
   "execution_count": null,
   "id": "72cf38e8ea198541",
   "metadata": {},
   "outputs": [],
   "source": [
    "px.histogram(all_data_joined, x = \"real_time_difference\", color = \"gtfs_route__line_ref\", nbins = 100, barmode=\"group\")"
   ]
  },
  {
   "cell_type": "code",
   "execution_count": null,
   "outputs": [],
   "source": [
    "px.histogram(march_all_data_joined, x = \"real_time_difference\", color = \"gtfs_route__line_ref\", nbins = 100, barmode=\"group\")"
   ],
   "metadata": {
    "collapsed": false
   },
   "id": "ffbdb289cc826c04"
  },
  {
   "cell_type": "markdown",
   "id": "30641db267a7c0a2",
   "metadata": {},
   "source": [
    "### Not all rides are the same\n",
    "\n",
    "20 minutes for a short bus is not the same as 20 minutes for a long bus.\n",
    "\n",
    "In the chart below, we showcase on much time was added in relation to the planned ride duration.\n",
    "\n",
    "We can see that for the line in Pardes Hanna (19717) the ride usually gets longer by almost 40% !!! "
   ]
  },
  {
   "cell_type": "code",
   "execution_count": null,
   "id": "e6e01d13cfe4cf38",
   "metadata": {},
   "outputs": [],
   "source": [
    "# Average time differences in relation to the total planned trip duration\n",
    "ride_stats_avg = all_data_joined.groupby(\"gtfs_route__line_ref\").agg(\n",
    "    mean_real_time_difference = (\"real_time_difference\", \"mean\"),\n",
    "    mode_planned_duration = (\"duration_minutes_planned\", \"median\")\n",
    ")\n",
    "\n",
    "ride_stats_avg[\"ratio_time_added_to_planned_ride\"] = (ride_stats_avg[\"mean_real_time_difference\"] / ride_stats_avg[\"mode_planned_duration\"]) * 100\n",
    "ride_stats_avg"
   ]
  },
  {
   "cell_type": "markdown",
   "id": "1438f61e881f3ffa",
   "metadata": {},
   "source": [
    "On average, regardless of the bus, the difference is arond 20 minutes."
   ]
  },
  {
   "cell_type": "code",
   "execution_count": null,
   "id": "e3560f505ab1f1ab",
   "metadata": {},
   "outputs": [],
   "source": [
    "# Total mean mean real time difference\n",
    "total_mean_time_difference = all_data_joined[\"real_time_difference\"].mean()\n",
    "total_mean_time_difference"
   ]
  },
  {
   "cell_type": "markdown",
   "id": "977d5bbcc6b8e467",
   "metadata": {},
   "source": [
    "# Look for trends in hours and days\n",
    "\n",
    "The idea is simple - the bus is more prone to be late during rush hours, and less prone to be late during the night.\n",
    "\n",
    "Also, the bus will probably be more busy in Sunday than in a regular Tuesday, so it will be more prone to be late.\n",
    "\n",
    "We will check if this is true."
   ]
  },
  {
   "cell_type": "code",
   "execution_count": null,
   "id": "313f3354c22fcd39",
   "metadata": {},
   "outputs": [],
   "source": [
    "all_data_joined[\"day_of_week\"] = all_data_joined[\"scheduled_start_time\"].dt.day_name()\n",
    "all_data_joined[\"hour_of_day\"] = all_data_joined[\"scheduled_start_time\"].dt.hour"
   ]
  },
  {
   "cell_type": "markdown",
   "id": "88028c08e6d488d8",
   "metadata": {},
   "source": [
    "The following plot looks a bit messy, as we can't really understand a clear trend.\n",
    "\n",
    "Lets try and group that by the mean of the real time difference, see if we can see the trend there."
   ]
  },
  {
   "cell_type": "code",
   "execution_count": null,
   "id": "a813004e95a8958e",
   "metadata": {},
   "outputs": [],
   "source": [
    "px.scatter(all_data_joined, x = \"hour_of_day\", y = \"real_time_difference\")"
   ]
  },
  {
   "cell_type": "markdown",
   "id": "7b04a875b5c2d83f",
   "metadata": {},
   "source": [
    "Much better!\n",
    "\n",
    "There is a clear rise around 1 PM, and a clear drop around 8 PM."
   ]
  },
  {
   "cell_type": "code",
   "execution_count": null,
   "id": "dedee574409c570c",
   "metadata": {},
   "outputs": [],
   "source": [
    "to_plot_hours = all_data_joined.groupby(\"hour_of_day\").agg(\n",
    "    mean_real_time_difference = (\"real_time_difference\", \"mean\")\n",
    ").reset_index()\n",
    "\n",
    "px.line(to_plot_hours, x = \"hour_of_day\", y = \"mean_real_time_difference\")"
   ]
  },
  {
   "cell_type": "code",
   "execution_count": null,
   "id": "db2011fd24ebd3b7",
   "metadata": {},
   "outputs": [],
   "source": [
    "to_plot_hours = all_data_joined.groupby(\"day_of_week\").agg(\n",
    "    mean_real_time_difference = (\"real_time_difference\", \"mean\")\n",
    ").reset_index()\n",
    "\n",
    "px.line(to_plot_hours, x = \"day_of_week\", y = \"mean_real_time_difference\")"
   ]
  },
  {
   "cell_type": "markdown",
   "source": [],
   "metadata": {
    "collapsed": false
   },
   "id": "2992d6c83a04874b"
  },
  {
   "cell_type": "code",
   "execution_count": null,
   "outputs": [],
   "source": [
    "to_plot_hours = all_data_joined.groupby([\"day_of_week\", \"hour_of_day\"]).agg(\n",
    "    mean_real_time_difference = (\"real_time_difference\", \"mean\")\n",
    ").reset_index()\n",
    "\n",
    "px.line(to_plot_hours, x = \"hour_of_day\", y = \"mean_real_time_difference\", color = \"day_of_week\")"
   ],
   "metadata": {
    "collapsed": false
   },
   "id": "548067e132e7b17b"
  },
  {
   "cell_type": "markdown",
   "source": [],
   "metadata": {
    "collapsed": false
   },
   "id": "a5081fe2f2c01d0b"
  },
  {
   "cell_type": "markdown",
   "id": "536de3723134fffa",
   "metadata": {},
   "source": [
    "\n",
    "# Model predictions\n",
    "\n",
    "In this chapter we try and predict the real time delay, as a way of predicting how long the trip will actually take.\n",
    "\n",
    "We could think of numerous ways to do that, but we will start with a simple linear regression model.\n",
    "\n",
    "Later on we'll showcase a time series based model (ARIMA).\n",
    "\n",
    "\n",
    "### Linear regression\n",
    "\n",
    "We will use the following features:\n",
    "\n",
    "- Planned trip duration\n",
    "- Hour of day\n",
    "- Day of week\n",
    "\n",
    "We will try and predict the real time difference, and see how well we do.\n"
   ]
  },
  {
   "cell_type": "code",
   "execution_count": null,
   "id": "4d119d2166ebb201",
   "metadata": {},
   "outputs": [],
   "source": [
    "# Try to predict the real time difference with linear regression\n",
    "\n",
    "# Split all data joined by date\n",
    "\n",
    "test = all_data_joined[all_data_joined[\"scheduled_start_time\"] > \"2023-09-01\"]\n",
    "train = all_data_joined[all_data_joined[\"scheduled_start_time\"] <= \"2023-09-01\"]\n",
    "\n",
    "print(\"amount of train data: \", len(train), \"amount of test data: \", len(test))\n",
    "\n",
    "sample_data_train = test[[\"duration_minutes_planned\", \"hour_of_day\", \"day_of_week\", \"real_time_difference\"]]\n",
    "sample_data_test = train[[\"duration_minutes_planned\", \"hour_of_day\", \"day_of_week\", \"real_time_difference\"]]\n",
    "# Convert day of week to number, first day is sunday\n",
    "sample_data_train[\"day_of_week\"] = sample_data_train[\"day_of_week\"].map({\n",
    "    \"Sunday\": 1,\n",
    "    \"Monday\": 2,\n",
    "    \"Tuesday\": 3,\n",
    "    \"Wednesday\": 4,\n",
    "    \"Thursday\": 5,\n",
    "    \"Friday\": 6,\n",
    "    \"Saturday\": 7\n",
    "})\n",
    "\n",
    "sample_data_test[\"day_of_week\"] = sample_data_test[\"day_of_week\"].map({\n",
    "    \"Sunday\": 1,\n",
    "    \"Monday\": 2,\n",
    "    \"Tuesday\": 3,\n",
    "    \"Wednesday\": 4,\n",
    "    \"Thursday\": 5,\n",
    "    \"Friday\": 6,\n",
    "    \"Saturday\": 7\n",
    "})\n",
    "\n",
    "X_train = sample_data_train[[\"duration_minutes_planned\", \"hour_of_day\", \"day_of_week\"]]\n",
    "Y_train = sample_data_train[\"real_time_difference\"]\n",
    "X_test = sample_data_test[[\"duration_minutes_planned\", \"hour_of_day\", \"day_of_week\"]]\n",
    "y_test = sample_data_test[\"real_time_difference\"]"
   ]
  },
  {
   "cell_type": "code",
   "execution_count": null,
   "id": "7e3ca5a783209070",
   "metadata": {},
   "outputs": [],
   "source": [
    "# Fit the model\n",
    "from sklearn.linear_model import LinearRegression\n",
    "\n",
    "model = LinearRegression()\n",
    "model.fit(X_train, Y_train)"
   ]
  },
  {
   "cell_type": "code",
   "execution_count": null,
   "id": "96ad726a142e9ef5",
   "metadata": {},
   "outputs": [],
   "source": [
    "# Get the predictions\n",
    "\n",
    "y_pred = model.predict(X_test)"
   ]
  },
  {
   "cell_type": "code",
   "execution_count": null,
   "id": "4276ba6305ffaac4",
   "metadata": {},
   "outputs": [],
   "source": [
    "# Plot the predictions\n",
    "px.scatter(x = y_test, y = y_pred)"
   ]
  },
  {
   "cell_type": "code",
   "execution_count": null,
   "id": "8939c3a21f470d01",
   "metadata": {},
   "outputs": [],
   "source": [
    "# calculate presicion\n",
    "\n",
    "from sklearn.metrics import mean_squared_error, r2_score\n",
    "\n",
    "print(\"Mean squared error: %.2f\" % mean_squared_error(y_test, y_pred))\n",
    "\n",
    "# The coefficient of determination:\n",
    "print('Variance: %.2f' % r2_score(y_test, y_pred))"
   ]
  },
  {
   "cell_type": "markdown",
   "id": "bd6bc5df6d3366ae",
   "metadata": {},
   "source": [
    "## Linear regression results\n",
    "\n",
    "The results for the model are not great, but not bad either.\n",
    "\n",
    "We can see that on average we're still missing around 13 minutes.\n",
    "\n",
    "Compared to the average delay of 20 minutes, it's not bad."
   ]
  },
  {
   "cell_type": "code",
   "execution_count": null,
   "id": "f7fd98c34d58abcf",
   "metadata": {},
   "outputs": [],
   "source": [
    "math.sqrt(mean_squared_error(y_test, y_pred))"
   ]
  },
  {
   "cell_type": "markdown",
   "id": "a8a738a3767d14e2",
   "metadata": {},
   "source": [
    "### Diving deeper\n",
    "\n",
    "Looking into the differences, we can see we are highly affected by some outliers.\n",
    "\n",
    "It might be worth further investigating those outliers, and see if we can find a way to improve the model."
   ]
  },
  {
   "cell_type": "code",
   "execution_count": null,
   "id": "88c7c0127c222205",
   "metadata": {},
   "outputs": [],
   "source": [
    "# Calculate the abs diff between y_test and y_pred\n",
    "\n",
    "y_test_pred = pd.DataFrame({\"y_test\": y_test, \"y_pred\": y_pred})\n",
    "y_test_pred[\"abs_diff\"] = abs(y_test_pred[\"y_test\"] - y_test_pred[\"y_pred\"])\n",
    "px.histogram(y_test_pred, x = \"abs_diff\", nbins = 100)"
   ]
  },
  {
   "cell_type": "markdown",
   "id": "a80e2e9103705113",
   "metadata": {},
   "source": [
    "## ARIMA Model\n",
    "\n",
    "ARIMA Is a time series model \n",
    "\n",
    "https://en.wikipedia.org/wiki/Autoregressive_integrated_moving_average\n",
    "\n",
    "It's usually being used to predict stock prices, but we can use it to predict the real time difference.\n",
    "\n",
    "This is a simple model that can showcase what it looks like to use time series models.\n",
    "\n",
    "This models takes no features but the time series itself, and tries to predict the next value based on the previous values.\n",
    "\n"
   ]
  },
  {
   "cell_type": "code",
   "execution_count": null,
   "id": "c51fc6dd00a98f50",
   "metadata": {},
   "outputs": [],
   "source": [
    "!pip install statsmodels\n",
    "from statsmodels.tsa.arima.model import ARIMA\n"
   ]
  },
  {
   "cell_type": "markdown",
   "id": "a0b5b0e86bcacc93",
   "metadata": {},
   "source": [
    "### Preparing the data\n",
    "\n",
    "In order for the results and the analysis to be clear, we filtered this model for only a single line.\n",
    "\n",
    "This way there will be no confusion about the results, and there will only be a single value per time."
   ]
  },
  {
   "cell_type": "code",
   "execution_count": null,
   "id": "55df04fb8bcffda3",
   "metadata": {},
   "outputs": [],
   "source": [
    "# Filter for a single line only, for now\n",
    "all_data_joined_single_line = all_data_joined[all_data_joined[\"gtfs_route__line_ref\"] == 19713]\n",
    "data_for_time_series = all_data_joined_single_line[[\"scheduled_start_time\", \"real_time_difference\"]]\n",
    "\n",
    "train = data_for_time_series[data_for_time_series[\"scheduled_start_time\"] < \"2023-09-01\"]\n",
    "test = data_for_time_series[data_for_time_series[\"scheduled_start_time\"] > \"2023-09-01\"]"
   ]
  },
  {
   "cell_type": "code",
   "execution_count": null,
   "id": "337898b4fa50c157",
   "metadata": {},
   "outputs": [],
   "source": [
    "print(\"amount of train data: \", len(train), \"amount of test data: \", len(test))"
   ]
  },
  {
   "cell_type": "code",
   "execution_count": null,
   "id": "8d631434510d45b4",
   "metadata": {},
   "outputs": [],
   "source": [
    "y = train[\"real_time_difference\"]"
   ]
  },
  {
   "cell_type": "code",
   "execution_count": null,
   "id": "fa2baea7670586f7",
   "metadata": {},
   "outputs": [],
   "source": [
    "ARIMAmodel = ARIMA(y, order = (2, 2, 2))\n",
    "ARIMAmodel = ARIMAmodel.fit()"
   ]
  },
  {
   "cell_type": "code",
   "execution_count": null,
   "id": "a1007bbb06b6db13",
   "metadata": {},
   "outputs": [],
   "source": [
    "import matplotlib.pyplot as plt"
   ]
  },
  {
   "cell_type": "code",
   "execution_count": null,
   "id": "14d213865e84fbdc",
   "metadata": {},
   "outputs": [],
   "source": [
    "y_pred = ARIMAmodel.get_forecast(len(test.scheduled_start_time))\n",
    "y_pred_df = y_pred.conf_int(alpha = 0.05) \n",
    "y_pred_df[\"Predictions\"] = ARIMAmodel.predict(start = y_pred_df.index[0], end = y_pred_df.index[-1])\n",
    "y_pred_df.index = test.scheduled_start_time\n",
    "y_pred_out = y_pred_df[\"Predictions\"] \n",
    "# Plot by each line\n",
    "plt.plot(y_pred_out, color='Yellow', label = 'ARIMA Predictions')\n",
    "plt.legend()\n",
    "\n",
    "\n",
    "import numpy as np\n",
    "from sklearn.metrics import mean_squared_error\n",
    "\n",
    "arma_rmse = np.sqrt(mean_squared_error(test[\"real_time_difference\"].values, y_pred_df[\"Predictions\"]))\n",
    "print(\"RMSE: \",arma_rmse)"
   ]
  },
  {
   "cell_type": "markdown",
   "id": "8a7df251ed49e510",
   "metadata": {},
   "source": [
    "### ARIMA results\n",
    "\n",
    "We can see that the model almost always predict a delay that's between 22 and 23 minutes.\n",
    "\n",
    "This does not seem good and does not correlate with real world data.\n",
    "\n",
    "In the sqrt of the mean squared error, we're getting a far worse result than the linear regression model, 16.5 compared to 13, but that's still better than counting on the non-real time data (average of 20 minutes difference)."
   ]
  },
  {
   "cell_type": "code",
   "execution_count": null,
   "id": "f71ac48e182aec6d",
   "metadata": {},
   "outputs": [],
   "source": [
    "px.scatter(x = test[\"real_time_difference\"].values, y = y_pred_df[\"Predictions\"])"
   ]
  },
  {
   "cell_type": "markdown",
   "id": "70b1df1e2729fcf2",
   "metadata": {},
   "source": [
    "# Model comparison and conclusions\n",
    "\n",
    "Overall, the linear regression model seems to be better than the ARIMA model.\n",
    "\n",
    "The linear regression model is more accurate, and it's easier to understand and explain.\n",
    "\n",
    "The ARIMA model is a time series model, and it's not as easy to understand and explain.\n",
    "\n",
    "The ARIMA model is also not as flexible as the linear regression model, and it's harder to add features to it.\n",
    "\n",
    "We think that some of the differences relay on the big difference between August and September, making it difficult for the model's predictions.\n"
   ]
  },
  {
   "cell_type": "markdown",
   "id": "9e1d659f4b742fc1",
   "metadata": {},
   "source": [
    "# Next Steps\n",
    "\n",
    "1. Use a more advanced model for time series that is fitted for similar data.\n",
    "2. Use more features to improve the linear regression model.\n",
    "3. Add more feature-based models to compare with the linear regression model.\n",
    "4. Try to find a way to improve the data quality, reducing outliers.\n",
    "5. Add more data - more lines and more time.\n",
    "6. Add a deep neural network model with memory such as LSTM.\n",
    "7. Use additional data sources such as weather data."
   ]
  }
 ],
 "metadata": {
  "kernelspec": {
   "display_name": "Python 3 (ipykernel)",
   "language": "python",
   "name": "python3"
  },
  "language_info": {
   "codemirror_mode": {
    "name": "ipython",
    "version": 3
   },
   "file_extension": ".py",
   "mimetype": "text/x-python",
   "name": "python",
   "nbconvert_exporter": "python",
   "pygments_lexer": "ipython3",
   "version": "3.9.6"
  }
 },
 "nbformat": 4,
 "nbformat_minor": 5
}
